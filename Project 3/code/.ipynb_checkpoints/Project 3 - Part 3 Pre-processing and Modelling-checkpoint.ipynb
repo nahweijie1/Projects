{
 "cells": [
  {
   "cell_type": "markdown",
   "id": "cd445dce",
   "metadata": {},
   "source": [
    "# Project 3 - Part 3 Pre-processing and Modelling\n",
    "by: Nah Wei Jie"
   ]
  },
  {
   "cell_type": "markdown",
   "id": "aef44097",
   "metadata": {},
   "source": [
    "---"
   ]
  },
  {
   "cell_type": "markdown",
   "id": "019f8e66",
   "metadata": {},
   "source": [
    "## Table of Contents\n",
    "This project is broken down into 3 different parts, each with it's accompanying notebook."
   ]
  },
  {
   "cell_type": "markdown",
   "id": "3f51de24",
   "metadata": {},
   "source": [
    "**Part 1**\n",
    "- Web scraping  \n",
    "\n",
    "**Part 2** \n",
    "\n",
    "- Exploratory Data Analysis\n",
    "- Data Cleaning\n",
    "- Visualizations  \n",
    "\n",
    "**Part 3**\n",
    "- Pre-processing\n",
    "- Model Fit and Testing\n",
    "- Model Iteration\n",
    "- Model Evaluation\n",
    "    "
   ]
  },
  {
   "cell_type": "markdown",
   "id": "f7dc30d9",
   "metadata": {},
   "source": [
    "---"
   ]
  },
  {
   "cell_type": "markdown",
   "id": "e403179e",
   "metadata": {},
   "source": [
    "## Library Imports"
   ]
  },
  {
   "cell_type": "code",
   "execution_count": 1,
   "id": "e00f292d",
   "metadata": {},
   "outputs": [],
   "source": [
    "# Standard imports\n",
    "import pandas as pd # Version 1.2.4\n",
    "import numpy as np # Version 1.20.1\n",
    "import time\n",
    "import random\n",
    "from collections import Counter\n",
    "\n",
    "# Set pandas to display a maximum of 400 characters in the column\n",
    "pd.options.display.max_colwidth = 200\n",
    "\n",
    "# Datetime imports\n",
    "from datetime import datetime\n",
    "from dateutil import tz\n",
    "\n",
    "# Visualization imports\n",
    "import seaborn as sns # Version 0.11.1\n",
    "import matplotlib.pyplot as plt # Version 3.3.4\n",
    "\n",
    "# Matplotlib settings\n",
    "small = 12\n",
    "medium = 15\n",
    "large = 20\n",
    "\n",
    "plt.rc('font', size=small)          # controls default text sizes\n",
    "plt.rc('axes', titlesize=small)     # fontsize of the axes title\n",
    "plt.rc('axes', labelsize=medium)    # fontsize of the x and y labels\n",
    "plt.rc('xtick', labelsize=small)    # fontsize of the tick labels\n",
    "plt.rc('ytick', labelsize=small)    # fontsize of the tick labels\n",
    "plt.rc('legend', fontsize=small)    # legend fontsize\n",
    "plt.rc('figure', titlesize=large)  # fontsize of the figure title"
   ]
  },
  {
   "cell_type": "code",
   "execution_count": 2,
   "id": "a263851d",
   "metadata": {},
   "outputs": [],
   "source": [
    "# NLP imports\n",
    "import regex as re # Version 2.5.93\n",
    "import nltk\n",
    "from nltk.stem import WordNetLemmatizer\n",
    "from nltk.stem.porter import PorterStemmer\n",
    "from nltk.tokenize import RegexpTokenizer\n",
    "from nltk.corpus import stopwords\n",
    "import spacy # Version 3.2.3\n",
    "sp = spacy.load('en_core_web_sm') \n",
    "\n",
    "# Modelling Imports\n",
    "from sklearn.feature_extraction.text import CountVectorizer, TfidfVectorizer\n",
    "from sklearn.model_selection import train_test_split, GridSearchCV, cross_val_score\n",
    "from sklearn.pipeline import Pipeline\n",
    "from sklearn.ensemble import RandomForestClassifier\n",
    "from sklearn.neighbors import KNeighborsClassifier\n",
    "from sklearn.naive_bayes import MultinomialNB\n",
    "from sklearn.linear_model import LogisticRegression\n",
    "from sklearn.metrics import confusion_matrix, plot_confusion_matrix,ConfusionMatrixDisplay, roc_auc_score, accuracy_score, plot_roc_curve\n",
    "\n",
    "# Ignore warnings\n",
    "import warnings\n",
    "def ignore_warn(*args,**kwargs):\n",
    "    pass\n",
    "warnings.warn=ignore_warn"
   ]
  },
  {
   "cell_type": "markdown",
   "id": "dab82967",
   "metadata": {},
   "source": [
    "## Function Definitions"
   ]
  },
  {
   "cell_type": "code",
   "execution_count": 3,
   "id": "338001f6",
   "metadata": {},
   "outputs": [],
   "source": [
    "## NLP Functions\n",
    "\n",
    "#Function to process a post, remove stopwords and lemmatize using spacy\n",
    "def post_to_words_spacy(raw_post):\n",
    "    # Function to convert a raw post to a string of words\n",
    "    # The input is a single string and \n",
    "    # the output is a single string\n",
    "    \n",
    "    # 1. Create spacy object\n",
    "    letters_only = re.sub(\"[^a-zA-Z]\", \" \", raw_post)\n",
    "    sentence = sp(letters_only.lower())\n",
    "\n",
    "    # 2. Remove non-letters and spaces,split into tokens\n",
    "    words = [w for w in sentence if not w.is_punct | w.is_space | w.like_num]\n",
    "    \n",
    "    # 3. Lemmatize and remove stopwords using tokens \n",
    "    meaningful_words = [w.lemma_ for w in words if w.orth_ not in stops]\n",
    "    \n",
    "    # 4. Join the words back into one string separated by space, \n",
    "    # and return the result.\n",
    "    return(\" \".join(meaningful_words))\n"
   ]
  },
  {
   "cell_type": "code",
   "execution_count": 4,
   "id": "96226b60",
   "metadata": {},
   "outputs": [],
   "source": [
    "## Modelling Functions\n",
    "\n",
    "# Function to run given data through pipeline with given vectorizer, models and their respective parameters\n",
    "# and return the best parameters and their corresponding scores using selected models\n",
    "def model_tuning(v_name,vectorizer,m_name,model,pipe_params,X_train,y_train,X_val,y_val):\n",
    "    pipe = Pipeline([\n",
    "    (v_name,vectorizer),\n",
    "    (m_name,model)])\n",
    "    \n",
    "    gs_model = GridSearchCV(pipe,pipe_params,cv=10)\n",
    "    gs_model.fit(X_train,y_train)\n",
    "    \n",
    "    model_name = v_name + \"_\" + m_name\n",
    "    best_score = round(gs_model.best_score_,3)\n",
    "    train_score = round(gs_model.score(X_train,y_train),3)\n",
    "    test_score = round(gs_model.score(X_val,y_val),3)\n",
    "    \n",
    "    print(f'For {v_name}, {m_name}:')\n",
    "    print(f'Best score: {best_score}')\n",
    "    print(f'Train score: {train_score}')\n",
    "    print(f'Test score: {test_score}')\n",
    "    print(f'Best parameters: {gs_model.best_params_}')\n",
    "    print(\"\")\n",
    "    \n",
    "    return gs_model, [model_name, best_score, train_score, test_score]\n",
    "\n",
    "# Function to use given model and test data to get predictions and get various scores and plot relevant visuals from scores\n",
    "def model_eval(model,X_test,y_test):\n",
    "    predictions = model.predict(X_test)\n",
    "    tn, fp, fn, tp = confusion_matrix(y_test, predictions).ravel()\n",
    "    predict_probs = [i[1] for i in model.predict_proba(X_test)]\n",
    "    \n",
    "    ra_score = round(roc_auc_score(y_test,predict_probs),3)\n",
    "    sensitivity = round(tp/(tp+fn), 3)\n",
    "    specificity = round(tn/(tn+fp), 3)\n",
    "    \n",
    "    print(f\"ROC-AUC Score: {ra_score}\")\n",
    "    print(\"\")\n",
    "    print(f\"True Negatives: {tn}\")\n",
    "    print(f\"False Positives: {fp}\")\n",
    "    print(f\"False Negatives: {fn}\")\n",
    "    print(f\"True Positives: {tp}\") \n",
    "    print(f\"Sensitivity (Positive Detection Rate): {sensitivity}\") \n",
    "    print(f\"Specificity (Negative Detection Rate): {specificity}\") \n",
    "    \n",
    "    \n",
    "    sns.set_style(\"white\")\n",
    "    fig, ax = plt.subplots(1,2,figsize=(14,5))\n",
    "\n",
    "    ax = ax.ravel()\n",
    "\n",
    "    ax[0].set_title('Confusion Matrix',fontsize=18)\n",
    "    plot_confusion_matrix(model, X_test, y_test, cmap='Blues', values_format='d',ax=ax[0]);\n",
    "\n",
    "    ax[1].set_title('ROC-AUC Curve',fontsize=18)\n",
    "    plot_roc_curve(model, X_test, y_test,ax=ax[1]);\n",
    "    \n",
    "    return ra_score, sensitivity, specificity"
   ]
  },
  {
   "cell_type": "markdown",
   "id": "4c82b785",
   "metadata": {},
   "source": [
    "### Loading in our dataset"
   ]
  },
  {
   "cell_type": "code",
   "execution_count": 5,
   "id": "b1731cdf",
   "metadata": {},
   "outputs": [],
   "source": [
    "master_df = pd.read_csv('../datasets/master.csv')"
   ]
  },
  {
   "cell_type": "markdown",
   "id": "7dcfab60",
   "metadata": {},
   "source": [
    "## Pre-Processing"
   ]
  },
  {
   "cell_type": "markdown",
   "id": "8faafabc",
   "metadata": {},
   "source": [
    "To process our posts for modelling, we will remove punctuation, numbers, commonly used words (stopwords) and either lemmatize or stem our words. Since we are interested in the meaning of the words after analysis, we'll choose to lemmatize them instead as stemming can tend to strip words of their meaning.\n",
    "\n",
    "There are a few libraries that we can choose from to facilitate our processing. In particular, we considered both the [```Spacy```](https://spacy.io/) and [```NLTK```](https://www.nltk.org/) libraries. \n",
    "\n",
    "The ```Spacy```( library stopwords list has more stopwords with 328, compared to the stopwords imported from ```NLTK```, we decided to go with the Spacy stopwords instead and include \"FanFiction\",\"LifeAdvice\",\"Reddit\" as stopwords as well.\n",
    "\n",
    "To decide which library to leverage on for lemmatization, we timed the performance of both ```Spacy``` and ```Wordnet``` in lemmatizing each post. As ```Spacy``` is almost twice as fast, we have selected ```Spacy```."
   ]
  },
  {
   "cell_type": "code",
   "execution_count": 6,
   "id": "6b3365dc",
   "metadata": {},
   "outputs": [],
   "source": [
    "# Create lists for our posts\n",
    "post_list = master_df['all_text']"
   ]
  },
  {
   "cell_type": "code",
   "execution_count": 7,
   "id": "7bba76cb",
   "metadata": {},
   "outputs": [],
   "source": [
    "# Define stopwords and include our custom words identified earlier.\n",
    "stops = sp.Defaults.stop_words \n",
    "stops |= {'fanfiction','fanfic','fan','fiction','fic','lifeadvice','life','advice', 'subreddit','http','https','www','reddit','com','amp','x200b'}"
   ]
  },
  {
   "cell_type": "code",
   "execution_count": 8,
   "id": "a21538aa",
   "metadata": {},
   "outputs": [
    {
     "name": "stdout",
     "output_type": "stream",
     "text": [
      "Spacy Post To Words\n",
      "Time taken = 75.0371310710907\n"
     ]
    }
   ],
   "source": [
    "start = time.time() # Initialize start variable to capture system time before performing processing\n",
    "post_list_cleaned_sp = [] # Initialize empty placeholder list to store processed posts\n",
    "\n",
    "for post in post_list: # For loop to iterate through posts in post_list\n",
    "    new_post = post_to_words_spacy(post) # Performs function defined earlier to process post\n",
    "    post_list_cleaned_sp.append(new_post) # Stores processed posts in our placeholder list\n",
    "    \n",
    "end = time.time() # Initialize end variable to capture system time before performing processing\n",
    "print(f'Spacy Post To Words')\n",
    "print(f'Time taken = {end - start}') # end- start = duration taken in seconds for processing"
   ]
  },
  {
   "cell_type": "code",
   "execution_count": 9,
   "id": "7db985a9",
   "metadata": {},
   "outputs": [],
   "source": [
    "# Create column in dataframe for our processed text\n",
    "master_df['all_text_cleaned'] = post_list_cleaned_sp"
   ]
  },
  {
   "cell_type": "code",
   "execution_count": 10,
   "id": "617345c8",
   "metadata": {
    "collapsed": true
   },
   "outputs": [
    {
     "data": {
      "text/html": [
       "<div>\n",
       "<style scoped>\n",
       "    .dataframe tbody tr th:only-of-type {\n",
       "        vertical-align: middle;\n",
       "    }\n",
       "\n",
       "    .dataframe tbody tr th {\n",
       "        vertical-align: top;\n",
       "    }\n",
       "\n",
       "    .dataframe thead th {\n",
       "        text-align: right;\n",
       "    }\n",
       "</style>\n",
       "<table border=\"1\" class=\"dataframe\">\n",
       "  <thead>\n",
       "    <tr style=\"text-align: right;\">\n",
       "      <th></th>\n",
       "      <th>all_text</th>\n",
       "      <th>all_text_cleaned</th>\n",
       "    </tr>\n",
       "  </thead>\n",
       "  <tbody>\n",
       "    <tr>\n",
       "      <th>0</th>\n",
       "      <td>Something I see a lot on this subreddit is... “How long should my chapters be?” \\n\\n“How many chapters should my fic be?” \\n\\n“How many words should my fic be?” \\n\\nEtc., Etc. \\n\\nI want to share ...</td>\n",
       "      <td>lot long chapter chapter word etc etc want share ve learn don t worry word write don t word count minimum maximum write little take tell story world stress anxiety lift shoulder don t limit don t ...</td>\n",
       "    </tr>\n",
       "    <tr>\n",
       "      <th>1</th>\n",
       "      <td>I'm excited about writing for the first time in years I've been writing my entire life, from my own stories when I was in elementary school to fanfiction in high school. I started reading and writ...</td>\n",
       "      <td>m excited write time year ve write entire story elementary school high school start read write year ago quotev tumblr finally ao post fic span year range k word k word fall love fandom post unfort...</td>\n",
       "    </tr>\n",
       "    <tr>\n",
       "      <th>2</th>\n",
       "      <td>LF: ASL Fic Hi! Looking for an ASL fic where:\\n1.Fem!luffy falls off a cliff while practicing her balance througha game introduced by Dadan of walking in a straight line. Luffy plays it on a cliff...</td>\n",
       "      <td>lf asl hi look asl fem luffy fall cliff practice balance througha game introduce dadan walk straight line luffy play cliff fall startle ace marco catch tho asl sail whitebeard luffy leave form cre...</td>\n",
       "    </tr>\n",
       "    <tr>\n",
       "      <th>3</th>\n",
       "      <td>I just reached the 20K word Milestone for my on-going fic!</td>\n",
       "      <td>reach k word milestone go</td>\n",
       "    </tr>\n",
       "    <tr>\n",
       "      <th>4</th>\n",
       "      <td>Looking for a Beta Hey! My name is Emily and I'm looking for a beta to help me out in my writing process. As much as I enjoy writing and editing, I usually end up missing things and things not mak...</td>\n",
       "      <td>look beta hey emily m look beta help writing process enjoy write edit usually end miss thing thing make sense plotwise adhd ve beta interested send dm talk m hope chapter ready post week hp dramio...</td>\n",
       "    </tr>\n",
       "    <tr>\n",
       "      <th>5</th>\n",
       "      <td>What's the most embarrassingly angsty or overdramatic thing you've written? Copy it down below! Feel free to give context or link to the story. Here I'll go first, although it'll be hard to pick f...</td>\n",
       "      <td>s embarrassingly angsty overdramatic thing ve write copy feel free context link story ll ll hard pick lol spoiler violence x b gt ll rip jaw head don t shut diamondhead hiss turn arm blade arm sta...</td>\n",
       "    </tr>\n",
       "    <tr>\n",
       "      <th>6</th>\n",
       "      <td>Can anyone send me some novels Op but retired mc \\n\\nOr mc is op but does not realize it</td>\n",
       "      <td>send novel op retired mc mc op realize</td>\n",
       "    </tr>\n",
       "    <tr>\n",
       "      <th>7</th>\n",
       "      <td>My love life is fanfiction I’m a 22 female and live on my own with my dog and cat and I’ve been single for 2 years and just have no luck in the dating workd. Who else doesnt have a relationship or...</td>\n",
       "      <td>love m female live dog cat ve single year luck date workd not relationship love read fanfic</td>\n",
       "    </tr>\n",
       "    <tr>\n",
       "      <th>8</th>\n",
       "      <td>How do you write a character with a sibilant whistle/ whistle lisp? Think Gopher from Winnie the Pooh. \\n\\nThe OC ML in my fic whistles their s and sh when they talk due to losing a few teeth in a...</td>\n",
       "      <td>write character sibilant whistle whistle lisp think gopher winnie pooh oc ml whistle s sh talk lose tooth fight talk normally dialogue diction emphasize s sh talk character react negatively positi...</td>\n",
       "    </tr>\n",
       "    <tr>\n",
       "      <th>9</th>\n",
       "      <td>Rewriting an abandoned fanfic again and i feel soooo embarrassed Okay so i'm rewriting a fan fanfic that i abandoned 2 years ago and omg i feel like the things i'm writing are making me seem like ...</td>\n",
       "      <td>rewrite abandon feel soooo embarrassed okay m rewrite abandon year ago omg feel like thing m write make like terrible person like kidnap human trafficking yandere gang sa m die inside like brain c...</td>\n",
       "    </tr>\n",
       "  </tbody>\n",
       "</table>\n",
       "</div>"
      ],
      "text/plain": [
       "                                                                                                                                                                                                  all_text  \\\n",
       "0  Something I see a lot on this subreddit is... “How long should my chapters be?” \\n\\n“How many chapters should my fic be?” \\n\\n“How many words should my fic be?” \\n\\nEtc., Etc. \\n\\nI want to share ...   \n",
       "1  I'm excited about writing for the first time in years I've been writing my entire life, from my own stories when I was in elementary school to fanfiction in high school. I started reading and writ...   \n",
       "2  LF: ASL Fic Hi! Looking for an ASL fic where:\\n1.Fem!luffy falls off a cliff while practicing her balance througha game introduced by Dadan of walking in a straight line. Luffy plays it on a cliff...   \n",
       "3                                                                                                                                              I just reached the 20K word Milestone for my on-going fic!    \n",
       "4  Looking for a Beta Hey! My name is Emily and I'm looking for a beta to help me out in my writing process. As much as I enjoy writing and editing, I usually end up missing things and things not mak...   \n",
       "5  What's the most embarrassingly angsty or overdramatic thing you've written? Copy it down below! Feel free to give context or link to the story. Here I'll go first, although it'll be hard to pick f...   \n",
       "6                                                                                                                 Can anyone send me some novels Op but retired mc \\n\\nOr mc is op but does not realize it   \n",
       "7  My love life is fanfiction I’m a 22 female and live on my own with my dog and cat and I’ve been single for 2 years and just have no luck in the dating workd. Who else doesnt have a relationship or...   \n",
       "8  How do you write a character with a sibilant whistle/ whistle lisp? Think Gopher from Winnie the Pooh. \\n\\nThe OC ML in my fic whistles their s and sh when they talk due to losing a few teeth in a...   \n",
       "9  Rewriting an abandoned fanfic again and i feel soooo embarrassed Okay so i'm rewriting a fan fanfic that i abandoned 2 years ago and omg i feel like the things i'm writing are making me seem like ...   \n",
       "\n",
       "                                                                                                                                                                                          all_text_cleaned  \n",
       "0  lot long chapter chapter word etc etc want share ve learn don t worry word write don t word count minimum maximum write little take tell story world stress anxiety lift shoulder don t limit don t ...  \n",
       "1  m excited write time year ve write entire story elementary school high school start read write year ago quotev tumblr finally ao post fic span year range k word k word fall love fandom post unfort...  \n",
       "2  lf asl hi look asl fem luffy fall cliff practice balance througha game introduce dadan walk straight line luffy play cliff fall startle ace marco catch tho asl sail whitebeard luffy leave form cre...  \n",
       "3                                                                                                                                                                                reach k word milestone go  \n",
       "4  look beta hey emily m look beta help writing process enjoy write edit usually end miss thing thing make sense plotwise adhd ve beta interested send dm talk m hope chapter ready post week hp dramio...  \n",
       "5  s embarrassingly angsty overdramatic thing ve write copy feel free context link story ll ll hard pick lol spoiler violence x b gt ll rip jaw head don t shut diamondhead hiss turn arm blade arm sta...  \n",
       "6                                                                                                                                                                   send novel op retired mc mc op realize  \n",
       "7                                                                                                              love m female live dog cat ve single year luck date workd not relationship love read fanfic  \n",
       "8  write character sibilant whistle whistle lisp think gopher winnie pooh oc ml whistle s sh talk lose tooth fight talk normally dialogue diction emphasize s sh talk character react negatively positi...  \n",
       "9  rewrite abandon feel soooo embarrassed okay m rewrite abandon year ago omg feel like thing m write make like terrible person like kidnap human trafficking yandere gang sa m die inside like brain c...  "
      ]
     },
     "execution_count": 10,
     "metadata": {},
     "output_type": "execute_result"
    }
   ],
   "source": [
    "# Visual comparison between raw posts and processed posts\n",
    "master_df[['all_text','all_text_cleaned']].head(10)\n",
    "# Click the ... bubble below to see Visual comparison between raw posts and processed posts"
   ]
  },
  {
   "cell_type": "markdown",
   "id": "a089d89e",
   "metadata": {},
   "source": [
    "## Train Test Split"
   ]
  },
  {
   "cell_type": "code",
   "execution_count": 11,
   "id": "b25238b0",
   "metadata": {},
   "outputs": [],
   "source": [
    "# Set X to our predictor features and y to our target\n",
    "X = master_df['all_text_cleaned'].copy()\n",
    "y = master_df['subreddit_cat']"
   ]
  },
  {
   "cell_type": "code",
   "execution_count": 12,
   "id": "16a4224c",
   "metadata": {},
   "outputs": [],
   "source": [
    "# Perform a train_test_split on the training data. We will not stratify as it is not imbalanced.\n",
    "X_train, X_test, y_train, y_test = train_test_split(X, y, test_size = 0.3, random_state=42)"
   ]
  },
  {
   "cell_type": "markdown",
   "id": "e80466f1",
   "metadata": {},
   "source": [
    "## Baseline model  \n",
    "\n",
    "We will need to establish a baseline model for us to compare our results to.\n",
    "\n",
    "To do this, we can simply get a normalized count of the target values. If we predicted the whole dataset to be from `LifeAdvice`, this would be our accuracy."
   ]
  },
  {
   "cell_type": "code",
   "execution_count": 13,
   "id": "28082295",
   "metadata": {},
   "outputs": [
    {
     "data": {
      "text/plain": [
       "0    0.502538\n",
       "1    0.497462\n",
       "Name: subreddit_cat, dtype: float64"
      ]
     },
     "execution_count": 13,
     "metadata": {},
     "output_type": "execute_result"
    }
   ],
   "source": [
    "y_test.value_counts(normalize = True)"
   ]
  },
  {
   "cell_type": "code",
   "execution_count": 14,
   "id": "2f6d0bcb",
   "metadata": {},
   "outputs": [
    {
     "data": {
      "text/plain": [
       "<Figure size 576x576 with 0 Axes>"
      ]
     },
     "metadata": {},
     "output_type": "display_data"
    },
    {
     "data": {
      "image/png": "[encoded data removed]",
      "text/plain": [
       "<Figure size 432x288 with 2 Axes>"
      ]
     },
     "metadata": {
      "needs_background": "light"
     },
     "output_type": "display_data"
    }
   ],
   "source": [
    "# Plot the confusion matrix of the baseline model\n",
    "plt.figure(figsize=(8,8));\n",
    "disp = ConfusionMatrixDisplay(confusion_matrix=np.asarray([[297,0],[0,294]]));\n",
    "disp = disp.plot(cmap='Blues');\n",
    "plt.title('Confusion matrix of the baseline model');"
   ]
  },
  {
   "cell_type": "markdown",
   "id": "11e981e1",
   "metadata": {},
   "source": [
    "Our baseline model correctly predicts 294 out of 591 posts with a 49.7% accuracy, which is not a good accuracy score."
   ]
  },
  {
   "cell_type": "markdown",
   "id": "86c6657a",
   "metadata": {},
   "source": [
    "## Model Fit and Testing\n",
    "\n",
    "\n",
    "To create models for our data, we will vectorize our X to create features that will be accepted by the model functions. We will be using TF-IDF (term frequency–inverse document frequency) Vectorizer, which has hyperparameters we can tune (e.g. maximum features). \n",
    "\n",
    "As we want to compare between different models which have their own hyperparameters, we will leverage on GridSearchCV to find the best combination of hyperparameters for a given model.\n",
    "\n",
    "_Classifier Functions_\n",
    "\n",
    "As we are interested in the impact of each feature (i.e. each word) on the final model, we will prefer to choose classifier models that specify coefficients to our features over classifiers such as RandomForest, KNearestNeighbors and DecisionTrees as these do not give us coefficients. However, we will still use KNearestNeighbors and RandomForest to ensure we have a good representation of a wide variety of models.\n"
   ]
  },
  {
   "cell_type": "markdown",
   "id": "878f0f49",
   "metadata": {},
   "source": [
    "## Model Evaluation"
   ]
  },
  {
   "cell_type": "markdown",
   "id": "580a22b9",
   "metadata": {},
   "source": [
    "To evaluate our models, we will take into account the CV score, train score, test score, as well as some classification metrics ROC-AUC score, specificity and sensitivity. \n",
    "  \n",
    "To help us with this, we have created a few functions earlier to return these values and plot the ROC-AUC curve."
   ]
  },
  {
   "cell_type": "code",
   "execution_count": 15,
   "id": "68d160e1",
   "metadata": {
    "scrolled": true
   },
   "outputs": [],
   "source": [
    "# Create a dataframe to track our models\n",
    "model_tracker = pd.DataFrame(columns=['Model Name','GS Best Score','Train Score',\n",
    "                                      'Test Score','ROC-AUC Score', 'Sensitivity','Specificity'])\n",
    "# Check model tracker\n",
    "# model_tracker"
   ]
  },
  {
   "cell_type": "markdown",
   "id": "dd5b9a70",
   "metadata": {},
   "source": [
    "All the code for the various models below have been commented out to prevent accidental running, most of these models will take awhile to finish."
   ]
  },
  {
   "cell_type": "code",
   "execution_count": 16,
   "id": "e3566da5",
   "metadata": {
    "scrolled": false
   },
   "outputs": [
    {
     "name": "stdout",
     "output_type": "stream",
     "text": [
      "For tvec, lr:\n",
      "Best score: 0.959\n",
      "Train score: 0.983\n",
      "Test score: 0.963\n",
      "Best parameters: {'lr__C': 1.0, 'tvec__max_features': 1250, 'tvec__ngram_range': (1, 1)}\n",
      "\n",
      "ROC-AUC Score: 0.993\n",
      "\n",
      "True Negatives: 286\n",
      "False Positives: 11\n",
      "False Negatives: 11\n",
      "True Positives: 283\n",
      "Sensitivity (Positive Detection Rate): 0.963\n",
      "Specificity (Negative Detection Rate): 0.963\n"
     ]
    },
    {
     "data": {
      "image/png": "[encoded data removed]",
      "text/plain": [
       "<Figure size 1008x360 with 3 Axes>"
      ]
     },
     "metadata": {},
     "output_type": "display_data"
    }
   ],
   "source": [
    "# Define dictionary for hyper-parameter tuning\n",
    "gs_params = {\n",
    "    'tvec__ngram_range': [(1,1), (1,2)],\n",
    "    'tvec__max_features': [750,1000,1250],\n",
    "    'lr__C': [0.5, 0.7, 1.0]\n",
    "}\n",
    "\n",
    "# Fit GridSearchCV and return model and metrics\n",
    "tvec_lr, tvec_lr_metrics = model_tuning('tvec', TfidfVectorizer(),'lr', LogisticRegression(),gs_params,X_train,y_train,X_test,y_test)\n",
    "\n",
    "# Plot confusion matrix and return additional metrics\n",
    "tvec_lr_metrics.extend(model_eval(tvec_lr, X_test, y_test))\n",
    "\n",
    "# Add metrics to model tracker\n",
    "model_tracker.loc[len(model_tracker)] = tvec_lr_metrics"
   ]
  },
  {
   "cell_type": "code",
   "execution_count": 17,
   "id": "2cbd70dd",
   "metadata": {},
   "outputs": [
    {
     "name": "stdout",
     "output_type": "stream",
     "text": [
      "For tvec, nb:\n",
      "Best score: 0.962\n",
      "Train score: 0.977\n",
      "Test score: 0.951\n",
      "Best parameters: {'nb__alpha': 0.5, 'nb__fit_prior': True, 'tvec__max_features': 1250, 'tvec__ngram_range': (1, 1)}\n",
      "\n",
      "ROC-AUC Score: 0.994\n",
      "\n",
      "True Negatives: 274\n",
      "False Positives: 23\n",
      "False Negatives: 6\n",
      "True Positives: 288\n",
      "Sensitivity (Positive Detection Rate): 0.98\n",
      "Specificity (Negative Detection Rate): 0.923\n"
     ]
    },
    {
     "data": {
      "image/png": "[encoded data removed]",
      "text/plain": [
       "<Figure size 1008x360 with 3 Axes>"
      ]
     },
     "metadata": {},
     "output_type": "display_data"
    }
   ],
   "source": [
    "# Define dictionary for hyper-parameter tuning\n",
    "gs_params = {\n",
    "    'tvec__ngram_range': [(1,1), (1,2)],\n",
    "    'tvec__max_features': [750,1000,1250],\n",
    "    'nb__fit_prior': [True,False],\n",
    "    'nb__alpha': [0.5,1.0]\n",
    "}\n",
    "\n",
    "# Fit GridSearchCV and return model and metrics\n",
    "tvec_nb, tvec_nb_metrics = model_tuning('tvec', TfidfVectorizer(),'nb', MultinomialNB(),gs_params,X_train,y_train,X_test,y_test)\n",
    "\n",
    "# Plot confusion matrix and return additionaol metrics\n",
    "tvec_nb_metrics.extend(model_eval(tvec_nb, X_test, y_test))\n",
    "\n",
    "# Add metrics to model tracker\n",
    "model_tracker.loc[len(model_tracker)] = tvec_nb_metrics"
   ]
  },
  {
   "cell_type": "code",
   "execution_count": 18,
   "id": "fdb7a0c9",
   "metadata": {},
   "outputs": [
    {
     "name": "stdout",
     "output_type": "stream",
     "text": [
      "For tvec, rfc:\n",
      "Best score: 0.916\n",
      "Train score: 0.93\n",
      "Test score: 0.905\n",
      "Best parameters: {'rfc__max_depth': 5, 'rfc__max_features': 'sqrt', 'rfc__n_estimators': 150, 'rfc__random_state': 6, 'tvec__max_features': 1250, 'tvec__ngram_range': (1, 2)}\n",
      "\n",
      "ROC-AUC Score: 0.975\n",
      "\n",
      "True Negatives: 285\n",
      "False Positives: 12\n",
      "False Negatives: 44\n",
      "True Positives: 250\n",
      "Sensitivity (Positive Detection Rate): 0.85\n",
      "Specificity (Negative Detection Rate): 0.96\n"
     ]
    },
    {
     "data": {
      "image/png": "[encoded data removed]",
      "text/plain": [
       "<Figure size 1008x360 with 3 Axes>"
      ]
     },
     "metadata": {},
     "output_type": "display_data"
    }
   ],
   "source": [
    "# Define dictionary for hyper-parameter tuning\n",
    "gs_params = {\n",
    "    'tvec__ngram_range': [(1,1), (1,2)],\n",
    "    'tvec__max_features': [750,1000,1250],\n",
    "    'rfc__n_estimators': [50,100,150],\n",
    "    'rfc__max_depth': [1, 3, 5],\n",
    "    'rfc__max_features': ['sqrt'],\n",
    "    'rfc__random_state': [6]\n",
    "}\n",
    "\n",
    "# Fit GridSearchCV and return model and metrics\n",
    "tvec_rfc, tvec_rfc_metrics = model_tuning('tvec', TfidfVectorizer(),'rfc', RandomForestClassifier(),gs_params,X_train,y_train,X_test,y_test)\n",
    "\n",
    "# Plot confusion matrix and return additionaol metrics\n",
    "tvec_rfc_metrics.extend(model_eval(tvec_rfc, X_test, y_test))\n",
    "\n",
    "# Add metrics to model tracker\n",
    "model_tracker.loc[len(model_tracker)] = tvec_rfc_metrics"
   ]
  },
  {
   "cell_type": "code",
   "execution_count": 19,
   "id": "951633c5",
   "metadata": {},
   "outputs": [
    {
     "name": "stdout",
     "output_type": "stream",
     "text": [
      "For tvec, knn:\n",
      "Best score: 0.914\n",
      "Train score: 0.945\n",
      "Test score: 0.895\n",
      "Best parameters: {'knn__n_jobs': -1, 'knn__n_neighbors': 4, 'knn__p': 2, 'knn__weights': 'uniform', 'tvec__max_features': 1250, 'tvec__ngram_range': (1, 1)}\n",
      "\n",
      "ROC-AUC Score: 0.953\n",
      "\n",
      "True Negatives: 245\n",
      "False Positives: 52\n",
      "False Negatives: 10\n",
      "True Positives: 284\n",
      "Sensitivity (Positive Detection Rate): 0.966\n",
      "Specificity (Negative Detection Rate): 0.825\n"
     ]
    },
    {
     "data": {
      "image/png": "[encoded data removed]",
      "text/plain": [
       "<Figure size 1008x360 with 3 Axes>"
      ]
     },
     "metadata": {},
     "output_type": "display_data"
    }
   ],
   "source": [
    "# Define dictionary for hyper-parameter tuning\n",
    "gs_params = {\n",
    "    'tvec__ngram_range': [(1,1), (1,2)],\n",
    "    'tvec__max_features': [750,1000,1250],\n",
    "    'knn__n_neighbors': [2,3,4,5],\n",
    "    'knn__p': [1,2],\n",
    "    'knn__n_jobs': [-1],\n",
    "    'knn__weights': ['distance','uniform']\n",
    "}\n",
    "\n",
    "# Fit GridSearchCV and return model and metrics\n",
    "tvec_knn, tvec_knn_metrics = model_tuning('tvec', TfidfVectorizer(),'knn', KNeighborsClassifier(),gs_params,X_train,y_train,X_test,y_test)\n",
    "\n",
    "# Plot confusion matrix and return additionaol metrics\n",
    "tvec_knn_metrics.extend(model_eval(tvec_knn, X_test, y_test))\n",
    "\n",
    "# Add metrics to model tracker\n",
    "model_tracker.loc[len(model_tracker)] = tvec_knn_metrics"
   ]
  },
  {
   "cell_type": "code",
   "execution_count": 20,
   "id": "47db1abd",
   "metadata": {},
   "outputs": [
    {
     "data": {
      "text/html": [
       "<div>\n",
       "<style scoped>\n",
       "    .dataframe tbody tr th:only-of-type {\n",
       "        vertical-align: middle;\n",
       "    }\n",
       "\n",
       "    .dataframe tbody tr th {\n",
       "        vertical-align: top;\n",
       "    }\n",
       "\n",
       "    .dataframe thead th {\n",
       "        text-align: right;\n",
       "    }\n",
       "</style>\n",
       "<table border=\"1\" class=\"dataframe\">\n",
       "  <thead>\n",
       "    <tr style=\"text-align: right;\">\n",
       "      <th></th>\n",
       "      <th>Model Name</th>\n",
       "      <th>GS Best Score</th>\n",
       "      <th>Train Score</th>\n",
       "      <th>Test Score</th>\n",
       "      <th>ROC-AUC Score</th>\n",
       "      <th>Sensitivity</th>\n",
       "      <th>Specificity</th>\n",
       "    </tr>\n",
       "  </thead>\n",
       "  <tbody>\n",
       "    <tr>\n",
       "      <th>0</th>\n",
       "      <td>tvec_lr</td>\n",
       "      <td>0.959</td>\n",
       "      <td>0.983</td>\n",
       "      <td>0.963</td>\n",
       "      <td>0.993</td>\n",
       "      <td>0.963</td>\n",
       "      <td>0.963</td>\n",
       "    </tr>\n",
       "    <tr>\n",
       "      <th>1</th>\n",
       "      <td>tvec_nb</td>\n",
       "      <td>0.962</td>\n",
       "      <td>0.977</td>\n",
       "      <td>0.951</td>\n",
       "      <td>0.994</td>\n",
       "      <td>0.980</td>\n",
       "      <td>0.923</td>\n",
       "    </tr>\n",
       "    <tr>\n",
       "      <th>2</th>\n",
       "      <td>tvec_rfc</td>\n",
       "      <td>0.916</td>\n",
       "      <td>0.930</td>\n",
       "      <td>0.905</td>\n",
       "      <td>0.975</td>\n",
       "      <td>0.850</td>\n",
       "      <td>0.960</td>\n",
       "    </tr>\n",
       "    <tr>\n",
       "      <th>3</th>\n",
       "      <td>tvec_knn</td>\n",
       "      <td>0.914</td>\n",
       "      <td>0.945</td>\n",
       "      <td>0.895</td>\n",
       "      <td>0.953</td>\n",
       "      <td>0.966</td>\n",
       "      <td>0.825</td>\n",
       "    </tr>\n",
       "  </tbody>\n",
       "</table>\n",
       "</div>"
      ],
      "text/plain": [
       "  Model Name  GS Best Score  Train Score  Test Score  ROC-AUC Score  \\\n",
       "0    tvec_lr          0.959        0.983       0.963          0.993   \n",
       "1    tvec_nb          0.962        0.977       0.951          0.994   \n",
       "2   tvec_rfc          0.916        0.930       0.905          0.975   \n",
       "3   tvec_knn          0.914        0.945       0.895          0.953   \n",
       "\n",
       "   Sensitivity  Specificity  \n",
       "0        0.963        0.963  \n",
       "1        0.980        0.923  \n",
       "2        0.850        0.960  \n",
       "3        0.966        0.825  "
      ]
     },
     "execution_count": 20,
     "metadata": {},
     "output_type": "execute_result"
    }
   ],
   "source": [
    "#Showing our scores based on the 4 models trained so far\n",
    "model_tracker"
   ]
  },
  {
   "cell_type": "markdown",
   "id": "1448d98f",
   "metadata": {},
   "source": [
    "Firstly, all of our models trained handily did better as compared to our baseline model, which did not come as a surprise as our dataset is balanced. Our models across the board also seem to be slightly overfitting with slightly higher train scores compared to test scores.\n",
    "\n",
    "The model with the highest accuracy is the **tvec_lr** classifier with a test score of 0.963, although the CV score through gridsearch is slightly higher for **tvec_nb** (0.962 versus 0.959).\n",
    "\n",
    "Additionally, the model with the highest specificity score is **tvec_nb**, which gave us the lowest amount of false negatives\n",
    "\n",
    "We can see that 3 of the 4 models have higher sensitivity scores compared against specificity with the exception of **tvec_rfc**. \n",
    "\n",
    "As we are most interested in the decreasing the number of false negatives of our classifier in predicting the subreddit a given post belongs to, we want to look at the models that have sensitivity scores. At this point, we would probably look to select the **tvec_nb** model."
   ]
  },
  {
   "cell_type": "markdown",
   "id": "9846efc7",
   "metadata": {},
   "source": [
    "Another benefit of selecting the tvec_nb model allows us to iterate in a more intuitive manner as we are able to see the impact of each feature (words) as it specifies coefficients to each word, and use such analyses to further improve our model."
   ]
  },
  {
   "cell_type": "markdown",
   "id": "5cb3b927",
   "metadata": {},
   "source": [
    "## Model Iteration"
   ]
  },
  {
   "cell_type": "markdown",
   "id": "bf0ec6a3",
   "metadata": {},
   "source": [
    "Let's take a closer look at our misclassified data and the features that are the most important for the **tvec_lr** model."
   ]
  },
  {
   "cell_type": "code",
   "execution_count": 21,
   "id": "e94803be",
   "metadata": {},
   "outputs": [],
   "source": [
    "# Create tvec for tvec_lr\n",
    "\n",
    "tvec = TfidfVectorizer(max_features=1250, ngram_range = (1,1)) # Create tvec with best parameters for tvec_lr identified earlier\n",
    "\n",
    "X_train_tvec = pd.DataFrame(tvec.fit_transform(X_train).toarray(),\n",
    "                          columns = tvec.get_feature_names())\n",
    "X_test_tvec = pd.DataFrame(tvec.transform(X_test).toarray(),\n",
    "                          columns = tvec.get_feature_names())\n",
    "X_tvec = pd.DataFrame(tvec.transform(X).toarray(),\n",
    "                          columns = tvec.get_feature_names())"
   ]
  },
  {
   "cell_type": "code",
   "execution_count": 22,
   "id": "0302c3c5",
   "metadata": {},
   "outputs": [],
   "source": [
    "# Create lr instance with best parameters\n",
    "tvec_nb_selected = MultinomialNB(alpha = 0.5, fit_prior = True)\n",
    "tvec_nb_selected.fit(X_train_tvec,y_train)\n",
    "importances = pd.DataFrame(data={\n",
    "    'Attribute': X_train_tvec.columns,\n",
    "    'Importance': tvec_nb_selected.coef_[0]\n",
    "})\n",
    "importances = importances.sort_values(by='Importance', ascending=False)"
   ]
  },
  {
   "cell_type": "code",
   "execution_count": 23,
   "id": "b4b4ead5",
   "metadata": {
    "collapsed": true
   },
   "outputs": [
    {
     "data": {
      "text/html": [
       "<div>\n",
       "<style scoped>\n",
       "    .dataframe tbody tr th:only-of-type {\n",
       "        vertical-align: middle;\n",
       "    }\n",
       "\n",
       "    .dataframe tbody tr th {\n",
       "        vertical-align: top;\n",
       "    }\n",
       "\n",
       "    .dataframe thead th {\n",
       "        text-align: right;\n",
       "    }\n",
       "</style>\n",
       "<table border=\"1\" class=\"dataframe\">\n",
       "  <thead>\n",
       "    <tr style=\"text-align: right;\">\n",
       "      <th></th>\n",
       "      <th>Attribute</th>\n",
       "      <th>Importance</th>\n",
       "    </tr>\n",
       "  </thead>\n",
       "  <tbody>\n",
       "    <tr>\n",
       "      <th>399</th>\n",
       "      <td>feel</td>\n",
       "      <td>-4.606542</td>\n",
       "    </tr>\n",
       "    <tr>\n",
       "      <th>302</th>\n",
       "      <td>don</td>\n",
       "      <td>-4.704815</td>\n",
       "    </tr>\n",
       "    <tr>\n",
       "      <th>587</th>\n",
       "      <td>job</td>\n",
       "      <td>-4.747994</td>\n",
       "    </tr>\n",
       "    <tr>\n",
       "      <th>630</th>\n",
       "      <td>like</td>\n",
       "      <td>-4.753863</td>\n",
       "    </tr>\n",
       "    <tr>\n",
       "      <th>1198</th>\n",
       "      <td>want</td>\n",
       "      <td>-4.785959</td>\n",
       "    </tr>\n",
       "    <tr>\n",
       "      <th>1230</th>\n",
       "      <td>work</td>\n",
       "      <td>-4.865938</td>\n",
       "    </tr>\n",
       "    <tr>\n",
       "      <th>600</th>\n",
       "      <td>know</td>\n",
       "      <td>-4.902430</td>\n",
       "    </tr>\n",
       "    <tr>\n",
       "      <th>1243</th>\n",
       "      <td>year</td>\n",
       "      <td>-4.954139</td>\n",
       "    </tr>\n",
       "    <tr>\n",
       "      <th>438</th>\n",
       "      <td>friend</td>\n",
       "      <td>-4.963301</td>\n",
       "    </tr>\n",
       "    <tr>\n",
       "      <th>1122</th>\n",
       "      <td>time</td>\n",
       "      <td>-5.004050</td>\n",
       "    </tr>\n",
       "    <tr>\n",
       "      <th>1183</th>\n",
       "      <td>ve</td>\n",
       "      <td>-5.045105</td>\n",
       "    </tr>\n",
       "    <tr>\n",
       "      <th>1114</th>\n",
       "      <td>thing</td>\n",
       "      <td>-5.219762</td>\n",
       "    </tr>\n",
       "    <tr>\n",
       "      <th>953</th>\n",
       "      <td>school</td>\n",
       "      <td>-5.246970</td>\n",
       "    </tr>\n",
       "    <tr>\n",
       "      <th>467</th>\n",
       "      <td>go</td>\n",
       "      <td>-5.274744</td>\n",
       "    </tr>\n",
       "    <tr>\n",
       "      <th>639</th>\n",
       "      <td>live</td>\n",
       "      <td>-5.304611</td>\n",
       "    </tr>\n",
       "  </tbody>\n",
       "</table>\n",
       "</div>"
      ],
      "text/plain": [
       "     Attribute  Importance\n",
       "399       feel   -4.606542\n",
       "302        don   -4.704815\n",
       "587        job   -4.747994\n",
       "630       like   -4.753863\n",
       "1198      want   -4.785959\n",
       "1230      work   -4.865938\n",
       "600       know   -4.902430\n",
       "1243      year   -4.954139\n",
       "438     friend   -4.963301\n",
       "1122      time   -5.004050\n",
       "1183        ve   -5.045105\n",
       "1114     thing   -5.219762\n",
       "953     school   -5.246970\n",
       "467         go   -5.274744\n",
       "639       live   -5.304611"
      ]
     },
     "execution_count": 23,
     "metadata": {},
     "output_type": "execute_result"
    }
   ],
   "source": [
    "# 15 Most important words for predicting LifeAdvice Subreddit\n",
    "importances.head(15)\n",
    "\n",
    "# Click on the ... bubble to see words"
   ]
  },
  {
   "cell_type": "code",
   "execution_count": 24,
   "id": "36879ba1",
   "metadata": {
    "collapsed": true
   },
   "outputs": [
    {
     "data": {
      "text/html": [
       "<div>\n",
       "<style scoped>\n",
       "    .dataframe tbody tr th:only-of-type {\n",
       "        vertical-align: middle;\n",
       "    }\n",
       "\n",
       "    .dataframe tbody tr th {\n",
       "        vertical-align: top;\n",
       "    }\n",
       "\n",
       "    .dataframe thead th {\n",
       "        text-align: right;\n",
       "    }\n",
       "</style>\n",
       "<table border=\"1\" class=\"dataframe\">\n",
       "  <thead>\n",
       "    <tr style=\"text-align: right;\">\n",
       "      <th></th>\n",
       "      <th>Attribute</th>\n",
       "      <th>Importance</th>\n",
       "    </tr>\n",
       "  </thead>\n",
       "  <tbody>\n",
       "    <tr>\n",
       "      <th>385</th>\n",
       "      <td>fandom</td>\n",
       "      <td>-9.170117</td>\n",
       "    </tr>\n",
       "    <tr>\n",
       "      <th>73</th>\n",
       "      <td>author</td>\n",
       "      <td>-9.170117</td>\n",
       "    </tr>\n",
       "    <tr>\n",
       "      <th>72</th>\n",
       "      <td>au</td>\n",
       "      <td>-9.170117</td>\n",
       "    </tr>\n",
       "    <tr>\n",
       "      <th>505</th>\n",
       "      <td>harry</td>\n",
       "      <td>-9.170117</td>\n",
       "    </tr>\n",
       "    <tr>\n",
       "      <th>1204</th>\n",
       "      <td>wattpad</td>\n",
       "      <td>-9.170117</td>\n",
       "    </tr>\n",
       "    <tr>\n",
       "      <th>350</th>\n",
       "      <td>et</td>\n",
       "      <td>-9.170117</td>\n",
       "    </tr>\n",
       "    <tr>\n",
       "      <th>1019</th>\n",
       "      <td>smut</td>\n",
       "      <td>-9.170117</td>\n",
       "    </tr>\n",
       "    <tr>\n",
       "      <th>521</th>\n",
       "      <td>hero</td>\n",
       "      <td>-9.170117</td>\n",
       "    </tr>\n",
       "    <tr>\n",
       "      <th>869</th>\n",
       "      <td>que</td>\n",
       "      <td>-9.170117</td>\n",
       "    </tr>\n",
       "    <tr>\n",
       "      <th>552</th>\n",
       "      <td>il</td>\n",
       "      <td>-9.170117</td>\n",
       "    </tr>\n",
       "    <tr>\n",
       "      <th>857</th>\n",
       "      <td>protagonist</td>\n",
       "      <td>-9.170117</td>\n",
       "    </tr>\n",
       "    <tr>\n",
       "      <th>855</th>\n",
       "      <td>prompt</td>\n",
       "      <td>-9.170117</td>\n",
       "    </tr>\n",
       "    <tr>\n",
       "      <th>286</th>\n",
       "      <td>dialogue</td>\n",
       "      <td>-9.170117</td>\n",
       "    </tr>\n",
       "    <tr>\n",
       "      <th>585</th>\n",
       "      <td>je</td>\n",
       "      <td>-9.170117</td>\n",
       "    </tr>\n",
       "    <tr>\n",
       "      <th>1150</th>\n",
       "      <td>trope</td>\n",
       "      <td>-9.170117</td>\n",
       "    </tr>\n",
       "  </tbody>\n",
       "</table>\n",
       "</div>"
      ],
      "text/plain": [
       "        Attribute  Importance\n",
       "385        fandom   -9.170117\n",
       "73         author   -9.170117\n",
       "72             au   -9.170117\n",
       "505         harry   -9.170117\n",
       "1204      wattpad   -9.170117\n",
       "350            et   -9.170117\n",
       "1019         smut   -9.170117\n",
       "521          hero   -9.170117\n",
       "869           que   -9.170117\n",
       "552            il   -9.170117\n",
       "857   protagonist   -9.170117\n",
       "855        prompt   -9.170117\n",
       "286      dialogue   -9.170117\n",
       "585            je   -9.170117\n",
       "1150        trope   -9.170117"
      ]
     },
     "execution_count": 24,
     "metadata": {},
     "output_type": "execute_result"
    }
   ],
   "source": [
    "# 15 Most important words for predicting Fanfiction Subreddit\n",
    "importances.tail(15)\n",
    "\n",
    "# Click on the ... bubble to see words"
   ]
  },
  {
   "cell_type": "code",
   "execution_count": 25,
   "id": "8eae7c03",
   "metadata": {},
   "outputs": [],
   "source": [
    "# Get the most important words into lists\n",
    "most_impt_feats_pos = importances.head(15)['Attribute'].values\n",
    "most_impt_feats_neg = importances.tail(15)['Attribute'].values\n",
    "\n",
    "# Combining both lists\n",
    "most_impt_feats = most_impt_feats_pos + most_impt_feats_neg"
   ]
  },
  {
   "cell_type": "code",
   "execution_count": 26,
   "id": "65c2b39b",
   "metadata": {},
   "outputs": [],
   "source": [
    "# Checks words from positive class against words in negative class and stores them in variable if any\n",
    "most_impt_feats_overlap = [w for w in most_impt_feats_pos if w in most_impt_feats_neg]"
   ]
  },
  {
   "cell_type": "code",
   "execution_count": 27,
   "id": "e1ffcbeb",
   "metadata": {},
   "outputs": [
    {
     "data": {
      "text/plain": [
       "[]"
      ]
     },
     "execution_count": 27,
     "metadata": {},
     "output_type": "execute_result"
    }
   ],
   "source": [
    "most_impt_feats_overlap"
   ]
  },
  {
   "cell_type": "markdown",
   "id": "86760a30",
   "metadata": {},
   "source": [
    "It seems we do not have any overlapping words, which is very good as it shows that each subreddit have it's own unique vocabulary.\n",
    "\n",
    "To analyse the misclassfied data, we will add the 'all_text' and 'all_text_cleaned' into one dataframe."
   ]
  },
  {
   "cell_type": "code",
   "execution_count": 28,
   "id": "9c0361e1",
   "metadata": {
    "collapsed": true
   },
   "outputs": [
    {
     "data": {
      "text/html": [
       "<div>\n",
       "<style scoped>\n",
       "    .dataframe tbody tr th:only-of-type {\n",
       "        vertical-align: middle;\n",
       "    }\n",
       "\n",
       "    .dataframe tbody tr th {\n",
       "        vertical-align: top;\n",
       "    }\n",
       "\n",
       "    .dataframe thead th {\n",
       "        text-align: right;\n",
       "    }\n",
       "</style>\n",
       "<table border=\"1\" class=\"dataframe\">\n",
       "  <thead>\n",
       "    <tr style=\"text-align: right;\">\n",
       "      <th></th>\n",
       "      <th>actual_subreddit</th>\n",
       "      <th>predicted_subreddit</th>\n",
       "      <th>raw_post</th>\n",
       "      <th>cleaned_post</th>\n",
       "      <th>misclassified</th>\n",
       "    </tr>\n",
       "  </thead>\n",
       "  <tbody>\n",
       "    <tr>\n",
       "      <th>1039</th>\n",
       "      <td>1</td>\n",
       "      <td>0</td>\n",
       "      <td>How to find a cash piggy [removed]</td>\n",
       "      <td>find cash piggy remove</td>\n",
       "      <td>1</td>\n",
       "    </tr>\n",
       "    <tr>\n",
       "      <th>1046</th>\n",
       "      <td>1</td>\n",
       "      <td>0</td>\n",
       "      <td>How do I get any sense of direction in life? [removed]</td>\n",
       "      <td>sense direction remove</td>\n",
       "      <td>1</td>\n",
       "    </tr>\n",
       "    <tr>\n",
       "      <th>1127</th>\n",
       "      <td>1</td>\n",
       "      <td>0</td>\n",
       "      <td>WE NEED YOUR HELP [removed]</td>\n",
       "      <td>need help remove</td>\n",
       "      <td>1</td>\n",
       "    </tr>\n",
       "    <tr>\n",
       "      <th>1153</th>\n",
       "      <td>1</td>\n",
       "      <td>0</td>\n",
       "      <td>How do I tell my mentor I don't care about a particular style. For context I am an apprentice at a Tattoo studio in the city I live in. My Mentor has been having me take on almost every project th...</td>\n",
       "      <td>tell mentor don t care particular style context apprentice tattoo studio city live mentor have project gets throw way regardless feeling need experience fund project currently huge clientele come ...</td>\n",
       "      <td>1</td>\n",
       "    </tr>\n",
       "    <tr>\n",
       "      <th>1310</th>\n",
       "      <td>1</td>\n",
       "      <td>0</td>\n",
       "      <td>Saw this and thought it belonged here. Please help this person out on their post. [removed]</td>\n",
       "      <td>see think belong help person post remove</td>\n",
       "      <td>1</td>\n",
       "    </tr>\n",
       "    <tr>\n",
       "      <th>1324</th>\n",
       "      <td>1</td>\n",
       "      <td>0</td>\n",
       "      <td>What songs have you helped you with depression?</td>\n",
       "      <td>song help depression</td>\n",
       "      <td>1</td>\n",
       "    </tr>\n",
       "    <tr>\n",
       "      <th>1335</th>\n",
       "      <td>1</td>\n",
       "      <td>0</td>\n",
       "      <td>Can people change? Like not from any type of hand trauma or anything like that. Do people actually change or like do they just learn that's not going to be a good out come? \\n\\nAny other studies o...</td>\n",
       "      <td>people change like type hand trauma like people actually change like learn s go good come study thread link welcome</td>\n",
       "      <td>1</td>\n",
       "    </tr>\n",
       "    <tr>\n",
       "      <th>1427</th>\n",
       "      <td>1</td>\n",
       "      <td>0</td>\n",
       "      <td>I (18m) have been going out with a (23f) woman. Is this weird?</td>\n",
       "      <td>m go f woman weird</td>\n",
       "      <td>1</td>\n",
       "    </tr>\n",
       "    <tr>\n",
       "      <th>1453</th>\n",
       "      <td>1</td>\n",
       "      <td>0</td>\n",
       "      <td>Finding good advice Wondering if anyone can point me to some good advice posts, comments that they found interesting and aspiring</td>\n",
       "      <td>find good wonder point good post comment find interesting aspiring</td>\n",
       "      <td>1</td>\n",
       "    </tr>\n",
       "    <tr>\n",
       "      <th>1492</th>\n",
       "      <td>1</td>\n",
       "      <td>0</td>\n",
       "      <td>My discord chat server was recently raided while I was asleep &amp;amp;#x200B;\\n\\nHello, my server was recently raided wherein someone spammed gore and pinged a bunch of people that were online. I'm t...</td>\n",
       "      <td>discord chat server recently raid asleep x b hello server recently raid spamme gore ping bunch people online m admin server ve member user join week ago link think like write announcement apologiz...</td>\n",
       "      <td>1</td>\n",
       "    </tr>\n",
       "  </tbody>\n",
       "</table>\n",
       "</div>"
      ],
      "text/plain": [
       "      actual_subreddit  predicted_subreddit  \\\n",
       "1039                 1                    0   \n",
       "1046                 1                    0   \n",
       "1127                 1                    0   \n",
       "1153                 1                    0   \n",
       "1310                 1                    0   \n",
       "1324                 1                    0   \n",
       "1335                 1                    0   \n",
       "1427                 1                    0   \n",
       "1453                 1                    0   \n",
       "1492                 1                    0   \n",
       "\n",
       "                                                                                                                                                                                                     raw_post  \\\n",
       "1039                                                                                                                                                                       How to find a cash piggy [removed]   \n",
       "1046                                                                                                                                                   How do I get any sense of direction in life? [removed]   \n",
       "1127                                                                                                                                                                              WE NEED YOUR HELP [removed]   \n",
       "1153  How do I tell my mentor I don't care about a particular style. For context I am an apprentice at a Tattoo studio in the city I live in. My Mentor has been having me take on almost every project th...   \n",
       "1310                                                                                                              Saw this and thought it belonged here. Please help this person out on their post. [removed]   \n",
       "1324                                                                                                                                                         What songs have you helped you with depression?    \n",
       "1335  Can people change? Like not from any type of hand trauma or anything like that. Do people actually change or like do they just learn that's not going to be a good out come? \\n\\nAny other studies o...   \n",
       "1427                                                                                                                                          I (18m) have been going out with a (23f) woman. Is this weird?    \n",
       "1453                                                                        Finding good advice Wondering if anyone can point me to some good advice posts, comments that they found interesting and aspiring   \n",
       "1492  My discord chat server was recently raided while I was asleep &amp;#x200B;\\n\\nHello, my server was recently raided wherein someone spammed gore and pinged a bunch of people that were online. I'm t...   \n",
       "\n",
       "                                                                                                                                                                                                 cleaned_post  \\\n",
       "1039                                                                                                                                                                                   find cash piggy remove   \n",
       "1046                                                                                                                                                                                   sense direction remove   \n",
       "1127                                                                                                                                                                                         need help remove   \n",
       "1153  tell mentor don t care particular style context apprentice tattoo studio city live mentor have project gets throw way regardless feeling need experience fund project currently huge clientele come ...   \n",
       "1310                                                                                                                                                                 see think belong help person post remove   \n",
       "1324                                                                                                                                                                                     song help depression   \n",
       "1335                                                                                      people change like type hand trauma like people actually change like learn s go good come study thread link welcome   \n",
       "1427                                                                                                                                                                                       m go f woman weird   \n",
       "1453                                                                                                                                       find good wonder point good post comment find interesting aspiring   \n",
       "1492  discord chat server recently raid asleep x b hello server recently raid spamme gore ping bunch people online m admin server ve member user join week ago link think like write announcement apologiz...   \n",
       "\n",
       "      misclassified  \n",
       "1039              1  \n",
       "1046              1  \n",
       "1127              1  \n",
       "1153              1  \n",
       "1310              1  \n",
       "1324              1  \n",
       "1335              1  \n",
       "1427              1  \n",
       "1453              1  \n",
       "1492              1  "
      ]
     },
     "execution_count": 28,
     "metadata": {},
     "output_type": "execute_result"
    }
   ],
   "source": [
    "#Create dataframe and add actual y values\n",
    "all_model_predictions = pd.DataFrame()\n",
    "all_model_predictions['actual_subreddit'] = y\n",
    "all_model_predictions['predicted_subreddit'] = tvec_nb_selected.predict(X_tvec)\n",
    "all_model_predictions['raw_post'] = master_df['all_text']\n",
    "all_model_predictions['cleaned_post'] = master_df['all_text_cleaned']\n",
    "all_model_predictions['misclassified'] = np.where(all_model_predictions['actual_subreddit'] != all_model_predictions['predicted_subreddit'], 1, 0)\n",
    "all_model_predictions.loc[(all_model_predictions['misclassified'] == 1) & (all_model_predictions['actual_subreddit'] == 1), :].head(10)\n",
    "\n",
    "# Click on the ... bubble to see misclassified posts"
   ]
  },
  {
   "cell_type": "markdown",
   "id": "e58baf7d",
   "metadata": {},
   "source": [
    "We want to see which words are the most common in our misclassified lists"
   ]
  },
  {
   "cell_type": "code",
   "execution_count": 29,
   "id": "3810434f",
   "metadata": {
    "collapsed": true
   },
   "outputs": [
    {
     "data": {
      "text/html": [
       "<div>\n",
       "<style scoped>\n",
       "    .dataframe tbody tr th:only-of-type {\n",
       "        vertical-align: middle;\n",
       "    }\n",
       "\n",
       "    .dataframe tbody tr th {\n",
       "        vertical-align: top;\n",
       "    }\n",
       "\n",
       "    .dataframe thead th {\n",
       "        text-align: right;\n",
       "    }\n",
       "</style>\n",
       "<table border=\"1\" class=\"dataframe\">\n",
       "  <thead>\n",
       "    <tr style=\"text-align: right;\">\n",
       "      <th></th>\n",
       "      <th>wordcount</th>\n",
       "    </tr>\n",
       "  </thead>\n",
       "  <tbody>\n",
       "    <tr>\n",
       "      <th>m</th>\n",
       "      <td>13</td>\n",
       "    </tr>\n",
       "    <tr>\n",
       "      <th>style</th>\n",
       "      <td>11</td>\n",
       "    </tr>\n",
       "    <tr>\n",
       "      <th>like</th>\n",
       "      <td>10</td>\n",
       "    </tr>\n",
       "    <tr>\n",
       "      <th>good</th>\n",
       "      <td>10</td>\n",
       "    </tr>\n",
       "    <tr>\n",
       "      <th>t</th>\n",
       "      <td>10</td>\n",
       "    </tr>\n",
       "    <tr>\n",
       "      <th>know</th>\n",
       "      <td>8</td>\n",
       "    </tr>\n",
       "    <tr>\n",
       "      <th>don</th>\n",
       "      <td>8</td>\n",
       "    </tr>\n",
       "    <tr>\n",
       "      <th>remove</th>\n",
       "      <td>7</td>\n",
       "    </tr>\n",
       "    <tr>\n",
       "      <th>think</th>\n",
       "      <td>7</td>\n",
       "    </tr>\n",
       "    <tr>\n",
       "      <th>happen</th>\n",
       "      <td>6</td>\n",
       "    </tr>\n",
       "    <tr>\n",
       "      <th>s</th>\n",
       "      <td>6</td>\n",
       "    </tr>\n",
       "    <tr>\n",
       "      <th>go</th>\n",
       "      <td>6</td>\n",
       "    </tr>\n",
       "    <tr>\n",
       "      <th>thing</th>\n",
       "      <td>5</td>\n",
       "    </tr>\n",
       "    <tr>\n",
       "      <th>people</th>\n",
       "      <td>5</td>\n",
       "    </tr>\n",
       "    <tr>\n",
       "      <th>write</th>\n",
       "      <td>5</td>\n",
       "    </tr>\n",
       "  </tbody>\n",
       "</table>\n",
       "</div>"
      ],
      "text/plain": [
       "        wordcount\n",
       "m              13\n",
       "style          11\n",
       "like           10\n",
       "good           10\n",
       "t              10\n",
       "know            8\n",
       "don             8\n",
       "remove          7\n",
       "think           7\n",
       "happen          6\n",
       "s               6\n",
       "go              6\n",
       "thing           5\n",
       "people          5\n",
       "write           5"
      ]
     },
     "execution_count": 29,
     "metadata": {},
     "output_type": "execute_result"
    }
   ],
   "source": [
    "# List of misclassified LifeAdvice posts\n",
    "misclassed_la = all_model_predictions.loc[(all_model_predictions['misclassified'] == 1) \n",
    "                                            & (all_model_predictions['actual_subreddit'] == 1), :]['cleaned_post'].tolist()\n",
    "# Find counts of words in misclassified posts\n",
    "misclassed_la_string = \" \".join(misclassed_la)\n",
    "misclassed_la_words = misclassed_la_string.split()\n",
    "misclassed_la_counts = Counter(misclassed_la_words)\n",
    "\n",
    "# Show words with the highest wordcount\n",
    "misclassed_la_df = pd.DataFrame.from_dict(misclassed_la_counts,orient = 'index',columns=['wordcount'])\n",
    "misclassed_la_df.sort_values(by='wordcount',ascending=False).head(15)\n",
    "# Click on the ... bubble to see words"
   ]
  },
  {
   "cell_type": "code",
   "execution_count": 30,
   "id": "1374be5b",
   "metadata": {
    "collapsed": true
   },
   "outputs": [
    {
     "data": {
      "text/html": [
       "<div>\n",
       "<style scoped>\n",
       "    .dataframe tbody tr th:only-of-type {\n",
       "        vertical-align: middle;\n",
       "    }\n",
       "\n",
       "    .dataframe tbody tr th {\n",
       "        vertical-align: top;\n",
       "    }\n",
       "\n",
       "    .dataframe thead th {\n",
       "        text-align: right;\n",
       "    }\n",
       "</style>\n",
       "<table border=\"1\" class=\"dataframe\">\n",
       "  <thead>\n",
       "    <tr style=\"text-align: right;\">\n",
       "      <th></th>\n",
       "      <th>wordcount</th>\n",
       "    </tr>\n",
       "  </thead>\n",
       "  <tbody>\n",
       "    <tr>\n",
       "      <th>s</th>\n",
       "      <td>60</td>\n",
       "    </tr>\n",
       "    <tr>\n",
       "      <th>t</th>\n",
       "      <td>58</td>\n",
       "    </tr>\n",
       "    <tr>\n",
       "      <th>cock</th>\n",
       "      <td>39</td>\n",
       "    </tr>\n",
       "    <tr>\n",
       "      <th>know</th>\n",
       "      <td>27</td>\n",
       "    </tr>\n",
       "    <tr>\n",
       "      <th>like</th>\n",
       "      <td>27</td>\n",
       "    </tr>\n",
       "    <tr>\n",
       "      <th>m</th>\n",
       "      <td>25</td>\n",
       "    </tr>\n",
       "    <tr>\n",
       "      <th>find</th>\n",
       "      <td>23</td>\n",
       "    </tr>\n",
       "    <tr>\n",
       "      <th>want</th>\n",
       "      <td>22</td>\n",
       "    </tr>\n",
       "    <tr>\n",
       "      <th>time</th>\n",
       "      <td>21</td>\n",
       "    </tr>\n",
       "    <tr>\n",
       "      <th>head</th>\n",
       "      <td>20</td>\n",
       "    </tr>\n",
       "    <tr>\n",
       "      <th>think</th>\n",
       "      <td>19</td>\n",
       "    </tr>\n",
       "    <tr>\n",
       "      <th>look</th>\n",
       "      <td>19</td>\n",
       "    </tr>\n",
       "    <tr>\n",
       "      <th>don</th>\n",
       "      <td>19</td>\n",
       "    </tr>\n",
       "    <tr>\n",
       "      <th>hand</th>\n",
       "      <td>18</td>\n",
       "    </tr>\n",
       "    <tr>\n",
       "      <th>jason</th>\n",
       "      <td>17</td>\n",
       "    </tr>\n",
       "  </tbody>\n",
       "</table>\n",
       "</div>"
      ],
      "text/plain": [
       "       wordcount\n",
       "s             60\n",
       "t             58\n",
       "cock          39\n",
       "know          27\n",
       "like          27\n",
       "m             25\n",
       "find          23\n",
       "want          22\n",
       "time          21\n",
       "head          20\n",
       "think         19\n",
       "look          19\n",
       "don           19\n",
       "hand          18\n",
       "jason         17"
      ]
     },
     "execution_count": 30,
     "metadata": {},
     "output_type": "execute_result"
    }
   ],
   "source": [
    "# List of misclassified Fanfic posts\n",
    "\n",
    "misclassed_ff = all_model_predictions.loc[(all_model_predictions['misclassified'] == 1) \n",
    "                                            & (all_model_predictions['actual_subreddit'] == 0), :]['cleaned_post'].tolist()\n",
    "# Find counts of words in misclassified posts\n",
    "misclassed_ff_string = \" \".join(misclassed_ff)\n",
    "misclassed_ff_words = misclassed_ff_string.split()\n",
    "misclassed_ff_counts = Counter(misclassed_ff_words)\n",
    "\n",
    "# Show words with the highest wordcount\n",
    "misclassed_ff_df = pd.DataFrame.from_dict(misclassed_ff_counts,orient = 'index',columns=['wordcount'])\n",
    "misclassed_ff_df.sort_values(by='wordcount',ascending=False).head(15)\n",
    "# Click on the ... bubble to see words"
   ]
  },
  {
   "cell_type": "markdown",
   "id": "3e1bba54",
   "metadata": {},
   "source": [
    "To improve our model, we will try to add in more stopwords using the words that appear most in the misclassified posts, but we want to make sure that we are not removing words from the most important features."
   ]
  },
  {
   "cell_type": "code",
   "execution_count": 31,
   "id": "199cfbf3",
   "metadata": {},
   "outputs": [],
   "source": [
    "new_stopwords = misclassed_la_df[misclassed_la_df['wordcount'] > 5].index.tolist()\n",
    "new_stopwords.extend(misclassed_ff_df[misclassed_ff_df['wordcount'] > 20].index.tolist())"
   ]
  },
  {
   "cell_type": "code",
   "execution_count": 32,
   "id": "b85f313d",
   "metadata": {},
   "outputs": [],
   "source": [
    "new_stopwords = [w for w in new_stopwords if w not in most_impt_feats]"
   ]
  },
  {
   "cell_type": "code",
   "execution_count": 33,
   "id": "b4206e97",
   "metadata": {},
   "outputs": [],
   "source": [
    "# Create new TF-IDF with new stopwords\n",
    "tvec_n = TfidfVectorizer(max_features=1250, ngram_range = (1,1), stop_words=new_stopwords) # Add in new stop words\n",
    "\n",
    "X_train_tvec_new = pd.DataFrame(tvec_n.fit_transform(X_train).toarray(),\n",
    "                          columns = tvec_n.get_feature_names())\n",
    "X_test_tvec_new = pd.DataFrame(tvec_n.transform(X_test).toarray(),\n",
    "                          columns = tvec_n.get_feature_names())\n",
    "X_tvec_new = pd.DataFrame(tvec_n.transform(X).toarray(),\n",
    "                          columns = tvec_n.get_feature_names())"
   ]
  },
  {
   "cell_type": "code",
   "execution_count": 34,
   "id": "9951cec4",
   "metadata": {},
   "outputs": [
    {
     "data": {
      "text/plain": [
       "0.9526226734348562"
      ]
     },
     "execution_count": 34,
     "metadata": {},
     "output_type": "execute_result"
    }
   ],
   "source": [
    "# Create new lr model\n",
    "tvec_nb_new = MultinomialNB(alpha = 0.5, fit_prior = True)\n",
    "tvec_nb_new.fit(X_train_tvec_new,y_train)\n",
    "tvec_nb_new.score(X_test_tvec_new,y_test)"
   ]
  },
  {
   "cell_type": "code",
   "execution_count": 35,
   "id": "9f1b8a0f",
   "metadata": {},
   "outputs": [
    {
     "name": "stdout",
     "output_type": "stream",
     "text": [
      "ROC-AUC Score: 0.994\n",
      "\n",
      "True Negatives: 273\n",
      "False Positives: 24\n",
      "False Negatives: 4\n",
      "True Positives: 290\n",
      "Sensitivity (Positive Detection Rate): 0.986\n",
      "Specificity (Negative Detection Rate): 0.919\n"
     ]
    },
    {
     "data": {
      "image/png": "[encoded data removed]",
      "text/plain": [
       "<Figure size 1008x360 with 3 Axes>"
      ]
     },
     "metadata": {},
     "output_type": "display_data"
    }
   ],
   "source": [
    "# Get new metrics\n",
    "tvec_nb_new_metrics = ['tvec_lr_new','NA',tvec_nb_new.score(X_train_tvec_new,y_train),tvec_nb_new.score(X_test_tvec_new,y_test)]\n",
    "# Plot confusion matrix, ROC-AUC curve and get more metrics\n",
    "tvec_nb_new_metrics.extend(model_eval(tvec_nb_new, X_test_tvec_new,y_test))"
   ]
  },
  {
   "cell_type": "code",
   "execution_count": 36,
   "id": "5e512ac9",
   "metadata": {
    "scrolled": false
   },
   "outputs": [
    {
     "data": {
      "text/html": [
       "<div>\n",
       "<style scoped>\n",
       "    .dataframe tbody tr th:only-of-type {\n",
       "        vertical-align: middle;\n",
       "    }\n",
       "\n",
       "    .dataframe tbody tr th {\n",
       "        vertical-align: top;\n",
       "    }\n",
       "\n",
       "    .dataframe thead th {\n",
       "        text-align: right;\n",
       "    }\n",
       "</style>\n",
       "<table border=\"1\" class=\"dataframe\">\n",
       "  <thead>\n",
       "    <tr style=\"text-align: right;\">\n",
       "      <th></th>\n",
       "      <th>Model Name</th>\n",
       "      <th>GS Best Score</th>\n",
       "      <th>Train Score</th>\n",
       "      <th>Test Score</th>\n",
       "      <th>ROC-AUC Score</th>\n",
       "      <th>Sensitivity</th>\n",
       "      <th>Specificity</th>\n",
       "    </tr>\n",
       "  </thead>\n",
       "  <tbody>\n",
       "    <tr>\n",
       "      <th>0</th>\n",
       "      <td>tvec_lr</td>\n",
       "      <td>0.959</td>\n",
       "      <td>0.983000</td>\n",
       "      <td>0.963000</td>\n",
       "      <td>0.993</td>\n",
       "      <td>0.963</td>\n",
       "      <td>0.963</td>\n",
       "    </tr>\n",
       "    <tr>\n",
       "      <th>1</th>\n",
       "      <td>tvec_nb</td>\n",
       "      <td>0.962</td>\n",
       "      <td>0.977000</td>\n",
       "      <td>0.951000</td>\n",
       "      <td>0.994</td>\n",
       "      <td>0.980</td>\n",
       "      <td>0.923</td>\n",
       "    </tr>\n",
       "    <tr>\n",
       "      <th>2</th>\n",
       "      <td>tvec_rfc</td>\n",
       "      <td>0.916</td>\n",
       "      <td>0.930000</td>\n",
       "      <td>0.905000</td>\n",
       "      <td>0.975</td>\n",
       "      <td>0.850</td>\n",
       "      <td>0.960</td>\n",
       "    </tr>\n",
       "    <tr>\n",
       "      <th>3</th>\n",
       "      <td>tvec_knn</td>\n",
       "      <td>0.914</td>\n",
       "      <td>0.945000</td>\n",
       "      <td>0.895000</td>\n",
       "      <td>0.953</td>\n",
       "      <td>0.966</td>\n",
       "      <td>0.825</td>\n",
       "    </tr>\n",
       "    <tr>\n",
       "      <th>4</th>\n",
       "      <td>tvec_lr_new</td>\n",
       "      <td>NA</td>\n",
       "      <td>0.976744</td>\n",
       "      <td>0.952623</td>\n",
       "      <td>0.994</td>\n",
       "      <td>0.986</td>\n",
       "      <td>0.919</td>\n",
       "    </tr>\n",
       "  </tbody>\n",
       "</table>\n",
       "</div>"
      ],
      "text/plain": [
       "    Model Name GS Best Score  Train Score  Test Score  ROC-AUC Score  \\\n",
       "0      tvec_lr         0.959     0.983000    0.963000          0.993   \n",
       "1      tvec_nb         0.962     0.977000    0.951000          0.994   \n",
       "2     tvec_rfc         0.916     0.930000    0.905000          0.975   \n",
       "3     tvec_knn         0.914     0.945000    0.895000          0.953   \n",
       "4  tvec_lr_new            NA     0.976744    0.952623          0.994   \n",
       "\n",
       "   Sensitivity  Specificity  \n",
       "0        0.963        0.963  \n",
       "1        0.980        0.923  \n",
       "2        0.850        0.960  \n",
       "3        0.966        0.825  \n",
       "4        0.986        0.919  "
      ]
     },
     "execution_count": 36,
     "metadata": {},
     "output_type": "execute_result"
    }
   ],
   "source": [
    "# Add to model tracker\n",
    "model_tracker.loc[len(model_tracker)] = tvec_nb_new_metrics\n",
    "model_tracker"
   ]
  },
  {
   "cell_type": "markdown",
   "id": "49b6bb30",
   "metadata": {},
   "source": [
    "Removing some stopwords has actually worked and improved our test and sensitivity, which meant that by nature of reducing false negatives we increased our total number of true positives.\n",
    "\n",
    "Our model is overfitting less compared to before implementing the new stopwords."
   ]
  },
  {
   "cell_type": "markdown",
   "id": "0748a390",
   "metadata": {},
   "source": [
    "## Model Interpretation"
   ]
  },
  {
   "cell_type": "markdown",
   "id": "caa3036a",
   "metadata": {},
   "source": [
    "Looking closer at the model, we'll want to look at the features that are the most important for both classes."
   ]
  },
  {
   "cell_type": "code",
   "execution_count": 37,
   "id": "2b1e3a12",
   "metadata": {},
   "outputs": [
    {
     "data": {
      "text/plain": [
       "[]"
      ]
     },
     "execution_count": 37,
     "metadata": {},
     "output_type": "execute_result"
    }
   ],
   "source": [
    "most_impt_feats_overlap"
   ]
  },
  {
   "cell_type": "code",
   "execution_count": 38,
   "id": "4988d629",
   "metadata": {
    "collapsed": true
   },
   "outputs": [
    {
     "name": "stdout",
     "output_type": "stream",
     "text": [
      "feel\n",
      "don\n",
      "job\n",
      "like\n",
      "want\n",
      "work\n",
      "know\n",
      "year\n",
      "friend\n",
      "time\n",
      "ve\n",
      "thing\n",
      "school\n",
      "go\n",
      "live\n"
     ]
    }
   ],
   "source": [
    "# 15 Most important words for predicting LifeAdvice Subreddit\n",
    "for word in most_impt_feats_pos:\n",
    "    print(word)\n",
    "# Click on the ... bubble to see words"
   ]
  },
  {
   "cell_type": "code",
   "execution_count": 39,
   "id": "ac9be966",
   "metadata": {
    "collapsed": true
   },
   "outputs": [
    {
     "name": "stdout",
     "output_type": "stream",
     "text": [
      "fandom\n",
      "author\n",
      "au\n",
      "harry\n",
      "wattpad\n",
      "et\n",
      "smut\n",
      "hero\n",
      "que\n",
      "il\n",
      "protagonist\n",
      "prompt\n",
      "dialogue\n",
      "je\n",
      "trope\n"
     ]
    }
   ],
   "source": [
    "# 15 Most important words for predicting Fanfiction Subreddit\n",
    "for word in most_impt_feats_neg:\n",
    "    print(word)\n",
    "# Click on the ... bubble to see words"
   ]
  },
  {
   "cell_type": "markdown",
   "id": "1f1c3870",
   "metadata": {},
   "source": [
    "What seems to differentiate the posts between FanFiction and LifeAdvice?\n",
    "\n",
    "**FanFiction**\n",
    "\n",
    "It seems that posts from the FanFiction subreddit tend to revolve around the writing process with words like 'story','character','reader','author','chapter'. My initial feeling of the FanFiction subreddit is that of a community where people share their 'fanfics' for feedback and look for inspiration to write their own fiction stories. However, it is evident that the subreddit is more commonly used for hobbyist or aspiring writers to find out more on the writing process. Looking into the subreddit further, it seems that posting of 'fanfics' or promoting of oneself's writing is actually forbidden unless a weekly/ monthly prompt is given for redditors to respond with comments of their own writing.\n",
    "\n",
    "**LifeAdvice**\n",
    "\n",
    "Posts from LifeAdvice tend to resolve around issues, we can clearly group certain words into various types of issues people face:  \n",
    "\n",
    "- Education and Jobs ('job','school','study')\n",
    "- Relationships ('friend','family','parent')\n",
    "- Financial ('money','pay')\n",
    "\n",
    "The fact that we were able to group words into themes/topics was very insightful as we have the potential to further explore a post given  it seeking advice, what kind of advice is being seeked? Can we build a model that is able to classify posts into various topics?   \n",
    "\n",
    "[**Multi-class classification**](https://en.wikipedia.org/wiki/Multiclass_classification)"
   ]
  },
  {
   "cell_type": "markdown",
   "id": "34272c62",
   "metadata": {},
   "source": [
    "Ultimately, it is hard to definitively say that any one feature is very important, over the others, as our model is based on the interaction of many, many features (words) to provide us with context. As such looking at words in isolation tend to not provide us with useful information."
   ]
  },
  {
   "cell_type": "markdown",
   "id": "b7ef471b",
   "metadata": {},
   "source": [
    "## Conclusions & Recommendations"
   ]
  },
  {
   "cell_type": "markdown",
   "id": "982c0b63",
   "metadata": {},
   "source": [
    "Let's revisit our problem statement once more:"
   ]
  },
  {
   "cell_type": "markdown",
   "id": "dd5eb478",
   "metadata": {},
   "source": [
    "**Problem Statement**\n",
    "\n",
    "We seek to classify which subreddit a post belongs to in a bid to understand if there are any differences in posts of a fictitious nature against one of a non-ficticious nature.  \n",
    "\n",
    "- To understand words which belong in the vocabulary of fiction/ non-fiction\n",
    "\n",
    "- To understand words which describe issues that people are seeking advice for\n",
    "\n",
    "Based on our analyses and the data science process, we managed to come up with a model that accurately predicts around 96% of posts' subreddit. Here are some of our findings:\n",
    "\n",
    "- **Vocabulary Differences:** Posts which are fictional/ non-fictional nature tend to have different vocabulary. Fictional posts tend to stretch the truth while posts that are non-fiction tend to report the truth.\n",
    "\n",
    "- **Reddit a good source of reference as book excerpts?** Most reddit posts tend to be written in first person as most ports are personal recounts of experiences. Books on the other hand tend be written in the second or third person perspective as it allows authors to write from a broader perspective. Reddit posts also tend to have many spelling/ grammar errors which is not the case of published books which are proof-read multiple times before publishing."
   ]
  },
  {
   "cell_type": "markdown",
   "id": "28eee82d",
   "metadata": {},
   "source": [
    "## Considering Limitations"
   ]
  },
  {
   "cell_type": "markdown",
   "id": "2b32cd7d",
   "metadata": {},
   "source": [
    "As with every dataset and project, there are limitations we need to consider:"
   ]
  },
  {
   "cell_type": "markdown",
   "id": "6da3fe2b",
   "metadata": {},
   "source": [
    "**Data Collection**:   \n",
    "- Context provided by posts from Reddits tends to be more U.S. centric, so these themes and language may only be applicable to the U.S. Additionally, we'll need to remember that U.S Reddit users are only a subset of the U.S that is also not representative of Singapore country's preferences and demographic.\n",
    "- For the purposes of this project, we managed to collect a balanced dataset, keeping in mind our problem statement, there is a very high chacne that new data (documents/books/text) will not be balanced. We may have to adapt our model/ evaluation metrics to be better able to anticipate changes in class balances or be unaffected by class balances.\n",
    "- As we only scraped approximately 1000 posts per subreddit, I believe our model could be more accurate if we increase the number of posts in our training dataset so that the model can learn more through existing data."
   ]
  },
  {
   "cell_type": "markdown",
   "id": "25919250",
   "metadata": {},
   "source": [
    "**Feature Engineering**:"
   ]
  },
  {
   "cell_type": "markdown",
   "id": "aab8b011",
   "metadata": {},
   "source": [
    "- Majority of our feature engineering/transformation came from tokenizing and vectorizing texts. While we created some numerical features relating to the texts like word_count, character_lengths we did not use these feature in our model. Moving forward, we explore more numerical features like avg_sentence_length/avg_word_length make our model more robust."
   ]
  },
  {
   "cell_type": "markdown",
   "id": "d9737f2b",
   "metadata": {},
   "source": [
    "**Modelling**"
   ]
  },
  {
   "cell_type": "markdown",
   "id": "642be54f",
   "metadata": {},
   "source": [
    "- Building on the earlier point made data collection, we were able to collect our data in a balanced manner. Very likely in a production environment, we would have little control over the balanceness of our data. In the context of the library, we will probably have to classify whatever comes to hand be it a new book which the library acquired or an existing one which was returned by a reader. In cases of imbalanced data like this, is our current model able to cope with unbalanced data? How will it affect our evlauation metrics?\n",
    "\n",
    "- Furthermore, we may also want to explore expanding our model to serve more problem statements. We can consider making a model with more 'depth', in the case of non-fiction books, can we train another model which can classify non-fiction books into sub-genres of non-fiction? Another way wse can consider moving forward is expanding the 'breadth' of the model, are we able to create a model which is able to classify more than 2 genres? What are the considerations as well as evaluation metrics do we have to conside for such a model?"
   ]
  },
  {
   "cell_type": "code",
   "execution_count": 40,
   "id": "a8414597",
   "metadata": {
    "scrolled": false
   },
   "outputs": [],
   "source": [
    "#Saving our scores to a .csv file\n",
    "model_tracker.to_csv('../datasets/model_score_tracking.csv',index=False)"
   ]
  },
  {
   "cell_type": "markdown",
   "id": "c292e1dd",
   "metadata": {},
   "source": [
    "--- End of Notebook ---"
   ]
  },
  {
   "cell_type": "markdown",
   "id": "04c6db96",
   "metadata": {},
   "source": [
    "---"
   ]
  }
 ],
 "metadata": {
  "kernelspec": {
   "display_name": "Python 3",
   "language": "python",
   "name": "python3"
  },
  "language_info": {
   "codemirror_mode": {
    "name": "ipython",
    "version": 3
   },
   "file_extension": ".py",
   "mimetype": "text/x-python",
   "name": "python",
   "nbconvert_exporter": "python",
   "pygments_lexer": "ipython3",
   "version": "3.8.8"
  }
 },
 "nbformat": 4,
 "nbformat_minor": 5
}
