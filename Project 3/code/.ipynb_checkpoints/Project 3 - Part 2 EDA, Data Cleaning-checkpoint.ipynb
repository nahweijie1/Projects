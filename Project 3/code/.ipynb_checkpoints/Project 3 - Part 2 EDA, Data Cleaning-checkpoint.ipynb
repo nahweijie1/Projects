{
 "cells": [
  {
   "cell_type": "markdown",
   "id": "a4ee08a1",
   "metadata": {},
   "source": [
    "# Project 3 - Part 2 EDA, Data Cleaning\n",
    "by: Nah Wei Jie"
   ]
  },
  {
   "cell_type": "markdown",
   "id": "9c175ece",
   "metadata": {},
   "source": [
    "---"
   ]
  },
  {
   "cell_type": "markdown",
   "id": "d5163869",
   "metadata": {},
   "source": [
    "## Table of Contents\n",
    "This project is broken down into 3 different parts, each with it's accompanying notebook."
   ]
  },
  {
   "cell_type": "markdown",
   "id": "ad944e4e",
   "metadata": {},
   "source": [
    "**Part 1**\n",
    "\n",
    "- Web scraping  \n",
    "\n",
    "**Part 2**\n",
    "\n",
    "- Exploratory Data Analysis\n",
    "- Data Cleaning\n",
    "- Visualizations  \n",
    "\n",
    "**Part 3** \n",
    "- Pre-processing\n",
    "- Model Fit and Testing\n",
    "- Model Iteration\n",
    "- Model Evaluation\n",
    "    "
   ]
  },
  {
   "cell_type": "markdown",
   "id": "f58f706a",
   "metadata": {},
   "source": [
    "---"
   ]
  },
  {
   "cell_type": "markdown",
   "id": "8956a1e4",
   "metadata": {},
   "source": [
    "## Library Imports"
   ]
  },
  {
   "cell_type": "code",
   "execution_count": 1,
   "id": "e4f1fe72",
   "metadata": {},
   "outputs": [],
   "source": [
    "# Standard imports\n",
    "import pandas as pd # Version 1.2.4\n",
    "import numpy as np # Version 1.20.1\n",
    "import time\n",
    "import random\n",
    "\n",
    "# Set pandas to display a maximum of 400 characters in the column\n",
    "pd.options.display.max_colwidth = 400\n",
    "pd.set_option('display.max_rows', 100)\n",
    "\n",
    "# Datetime imports\n",
    "from datetime import datetime\n",
    "from dateutil import tz\n",
    "\n",
    "# Visualization imports\n",
    "import seaborn as sns # Version 0.11.1\n",
    "import matplotlib.pyplot as plt # Version 3.3.4\n",
    "\n",
    "# Matplotlib settings\n",
    "small = 12\n",
    "medium = 15\n",
    "large = 20\n",
    "\n",
    "plt.rc('font', size=small)          # controls default text sizes\n",
    "plt.rc('axes', titlesize=small)     # fontsize of the axes title\n",
    "plt.rc('axes', labelsize=medium)    # fontsize of the x and y labels\n",
    "plt.rc('xtick', labelsize=small)    # fontsize of the tick labels\n",
    "plt.rc('ytick', labelsize=small)    # fontsize of the tick labels\n",
    "plt.rc('legend', fontsize=small)    # legend fontsize\n",
    "plt.rc('figure', titlesize=large)  # fontsize of the figure title"
   ]
  },
  {
   "cell_type": "code",
   "execution_count": 2,
   "id": "c7725cdc",
   "metadata": {},
   "outputs": [],
   "source": [
    "# NLP imports\n",
    "import regex as re # Version 2.5.93\n",
    "import nltk\n",
    "from nltk.stem import WordNetLemmatizer\n",
    "from nltk.stem.porter import PorterStemmer\n",
    "from nltk.tokenize import RegexpTokenizer\n",
    "from nltk.corpus import stopwords\n",
    "import spacy # Version 3.2.3\n",
    "sp = spacy.load('en_core_web_sm') \n",
    "\n",
    "# Modelling Imports\n",
    "from sklearn.feature_extraction.text import CountVectorizer, TfidfVectorizer\n",
    "\n",
    "# Ignore warnings\n",
    "import warnings\n",
    "def ignore_warn(*args,**kwargs):\n",
    "    pass\n",
    "warnings.warn=ignore_warn"
   ]
  },
  {
   "cell_type": "markdown",
   "id": "10233d1e",
   "metadata": {},
   "source": [
    "---"
   ]
  },
  {
   "cell_type": "markdown",
   "id": "4dd6ba26",
   "metadata": {},
   "source": [
    "## Import Data"
   ]
  },
  {
   "cell_type": "code",
   "execution_count": 4,
   "id": "469c6655",
   "metadata": {},
   "outputs": [],
   "source": [
    "# Loading in our saved .csv files from notebook 1 \n",
    "df_fanfic = pd.read_csv('../datasets/fanfic.csv')\n",
    "df_lifeadv = pd.read_csv('../datasets/lifeadv.csv')"
   ]
  },
  {
   "cell_type": "markdown",
   "id": "91b55929",
   "metadata": {},
   "source": [
    "## EDA"
   ]
  },
  {
   "cell_type": "code",
   "execution_count": 5,
   "id": "c4982ab4",
   "metadata": {
    "collapsed": true
   },
   "outputs": [
    {
     "data": {
      "text/html": [
       "<div>\n",
       "<style scoped>\n",
       "    .dataframe tbody tr th:only-of-type {\n",
       "        vertical-align: middle;\n",
       "    }\n",
       "\n",
       "    .dataframe tbody tr th {\n",
       "        vertical-align: top;\n",
       "    }\n",
       "\n",
       "    .dataframe thead th {\n",
       "        text-align: right;\n",
       "    }\n",
       "</style>\n",
       "<table border=\"1\" class=\"dataframe\">\n",
       "  <thead>\n",
       "    <tr style=\"text-align: right;\">\n",
       "      <th></th>\n",
       "      <th>all_awardings</th>\n",
       "      <th>allow_live_comments</th>\n",
       "      <th>author</th>\n",
       "      <th>author_flair_css_class</th>\n",
       "      <th>author_flair_richtext</th>\n",
       "      <th>author_flair_template_id</th>\n",
       "      <th>author_flair_text</th>\n",
       "      <th>author_flair_text_color</th>\n",
       "      <th>author_flair_type</th>\n",
       "      <th>author_fullname</th>\n",
       "      <th>...</th>\n",
       "      <th>removed_by_category</th>\n",
       "      <th>post_hint</th>\n",
       "      <th>preview</th>\n",
       "      <th>poll_data</th>\n",
       "      <th>author_cakeday</th>\n",
       "      <th>crosspost_parent</th>\n",
       "      <th>crosspost_parent_list</th>\n",
       "      <th>url_overridden_by_dest</th>\n",
       "      <th>call_to_action</th>\n",
       "      <th>category</th>\n",
       "    </tr>\n",
       "  </thead>\n",
       "  <tbody>\n",
       "    <tr>\n",
       "      <th>0</th>\n",
       "      <td>[]</td>\n",
       "      <td>False</td>\n",
       "      <td>GreeneyedSigma</td>\n",
       "      <td>ocdlinker</td>\n",
       "      <td>[]</td>\n",
       "      <td>508529a4-fbf1-11e0-8d2d-12313b071981</td>\n",
       "      <td>AO3 Greeneyedsigma</td>\n",
       "      <td>dark</td>\n",
       "      <td>text</td>\n",
       "      <td>t2_2c04jkkv</td>\n",
       "      <td>...</td>\n",
       "      <td>NaN</td>\n",
       "      <td>NaN</td>\n",
       "      <td>NaN</td>\n",
       "      <td>NaN</td>\n",
       "      <td>NaN</td>\n",
       "      <td>NaN</td>\n",
       "      <td>NaN</td>\n",
       "      <td>NaN</td>\n",
       "      <td>NaN</td>\n",
       "      <td>NaN</td>\n",
       "    </tr>\n",
       "    <tr>\n",
       "      <th>1</th>\n",
       "      <td>[]</td>\n",
       "      <td>False</td>\n",
       "      <td>jisungsunshine</td>\n",
       "      <td>NaN</td>\n",
       "      <td>[]</td>\n",
       "      <td>NaN</td>\n",
       "      <td>NaN</td>\n",
       "      <td>NaN</td>\n",
       "      <td>text</td>\n",
       "      <td>t2_fgmkva1h</td>\n",
       "      <td>...</td>\n",
       "      <td>NaN</td>\n",
       "      <td>NaN</td>\n",
       "      <td>NaN</td>\n",
       "      <td>NaN</td>\n",
       "      <td>NaN</td>\n",
       "      <td>NaN</td>\n",
       "      <td>NaN</td>\n",
       "      <td>NaN</td>\n",
       "      <td>NaN</td>\n",
       "      <td>NaN</td>\n",
       "    </tr>\n",
       "    <tr>\n",
       "      <th>2</th>\n",
       "      <td>[]</td>\n",
       "      <td>False</td>\n",
       "      <td>nochugotchim</td>\n",
       "      <td>NaN</td>\n",
       "      <td>[]</td>\n",
       "      <td>NaN</td>\n",
       "      <td>NaN</td>\n",
       "      <td>NaN</td>\n",
       "      <td>text</td>\n",
       "      <td>t2_3o6zv4qk</td>\n",
       "      <td>...</td>\n",
       "      <td>NaN</td>\n",
       "      <td>NaN</td>\n",
       "      <td>NaN</td>\n",
       "      <td>NaN</td>\n",
       "      <td>NaN</td>\n",
       "      <td>NaN</td>\n",
       "      <td>NaN</td>\n",
       "      <td>NaN</td>\n",
       "      <td>NaN</td>\n",
       "      <td>NaN</td>\n",
       "    </tr>\n",
       "    <tr>\n",
       "      <th>3</th>\n",
       "      <td>[]</td>\n",
       "      <td>False</td>\n",
       "      <td>Eomercin</td>\n",
       "      <td>mblu</td>\n",
       "      <td>[]</td>\n",
       "      <td>82250558-0ded-11ea-8921-0e7e60fadb45</td>\n",
       "      <td>AzafuseYugi / AO3 / FFN</td>\n",
       "      <td>light</td>\n",
       "      <td>text</td>\n",
       "      <td>t2_l2g9c9r</td>\n",
       "      <td>...</td>\n",
       "      <td>NaN</td>\n",
       "      <td>NaN</td>\n",
       "      <td>NaN</td>\n",
       "      <td>NaN</td>\n",
       "      <td>NaN</td>\n",
       "      <td>NaN</td>\n",
       "      <td>NaN</td>\n",
       "      <td>NaN</td>\n",
       "      <td>NaN</td>\n",
       "      <td>NaN</td>\n",
       "    </tr>\n",
       "    <tr>\n",
       "      <th>4</th>\n",
       "      <td>[]</td>\n",
       "      <td>False</td>\n",
       "      <td>EmilyAnn2020</td>\n",
       "      <td>NaN</td>\n",
       "      <td>[]</td>\n",
       "      <td>NaN</td>\n",
       "      <td>NaN</td>\n",
       "      <td>NaN</td>\n",
       "      <td>text</td>\n",
       "      <td>t2_je7kbt0d</td>\n",
       "      <td>...</td>\n",
       "      <td>NaN</td>\n",
       "      <td>NaN</td>\n",
       "      <td>NaN</td>\n",
       "      <td>NaN</td>\n",
       "      <td>NaN</td>\n",
       "      <td>NaN</td>\n",
       "      <td>NaN</td>\n",
       "      <td>NaN</td>\n",
       "      <td>NaN</td>\n",
       "      <td>NaN</td>\n",
       "    </tr>\n",
       "  </tbody>\n",
       "</table>\n",
       "<p>5 rows × 76 columns</p>\n",
       "</div>"
      ],
      "text/plain": [
       "  all_awardings  allow_live_comments          author author_flair_css_class  \\\n",
       "0            []                False  GreeneyedSigma              ocdlinker   \n",
       "1            []                False  jisungsunshine                    NaN   \n",
       "2            []                False    nochugotchim                    NaN   \n",
       "3            []                False        Eomercin                   mblu   \n",
       "4            []                False    EmilyAnn2020                    NaN   \n",
       "\n",
       "  author_flair_richtext              author_flair_template_id  \\\n",
       "0                    []  508529a4-fbf1-11e0-8d2d-12313b071981   \n",
       "1                    []                                   NaN   \n",
       "2                    []                                   NaN   \n",
       "3                    []  82250558-0ded-11ea-8921-0e7e60fadb45   \n",
       "4                    []                                   NaN   \n",
       "\n",
       "         author_flair_text author_flair_text_color author_flair_type  \\\n",
       "0       AO3 Greeneyedsigma                    dark              text   \n",
       "1                      NaN                     NaN              text   \n",
       "2                      NaN                     NaN              text   \n",
       "3  AzafuseYugi / AO3 / FFN                   light              text   \n",
       "4                      NaN                     NaN              text   \n",
       "\n",
       "  author_fullname  ...  removed_by_category post_hint preview poll_data  \\\n",
       "0     t2_2c04jkkv  ...                  NaN       NaN     NaN       NaN   \n",
       "1     t2_fgmkva1h  ...                  NaN       NaN     NaN       NaN   \n",
       "2     t2_3o6zv4qk  ...                  NaN       NaN     NaN       NaN   \n",
       "3      t2_l2g9c9r  ...                  NaN       NaN     NaN       NaN   \n",
       "4     t2_je7kbt0d  ...                  NaN       NaN     NaN       NaN   \n",
       "\n",
       "   author_cakeday  crosspost_parent  crosspost_parent_list  \\\n",
       "0             NaN               NaN                    NaN   \n",
       "1             NaN               NaN                    NaN   \n",
       "2             NaN               NaN                    NaN   \n",
       "3             NaN               NaN                    NaN   \n",
       "4             NaN               NaN                    NaN   \n",
       "\n",
       "  url_overridden_by_dest call_to_action category  \n",
       "0                    NaN            NaN      NaN  \n",
       "1                    NaN            NaN      NaN  \n",
       "2                    NaN            NaN      NaN  \n",
       "3                    NaN            NaN      NaN  \n",
       "4                    NaN            NaN      NaN  \n",
       "\n",
       "[5 rows x 76 columns]"
      ]
     },
     "execution_count": 5,
     "metadata": {},
     "output_type": "execute_result"
    }
   ],
   "source": [
    "# Displays the first 5 rows of data\n",
    "df_fanfic.head()\n",
    "## Click the ... bubble to see output"
   ]
  },
  {
   "cell_type": "code",
   "execution_count": 6,
   "id": "721a0430",
   "metadata": {
    "collapsed": true
   },
   "outputs": [
    {
     "data": {
      "text/html": [
       "<div>\n",
       "<style scoped>\n",
       "    .dataframe tbody tr th:only-of-type {\n",
       "        vertical-align: middle;\n",
       "    }\n",
       "\n",
       "    .dataframe tbody tr th {\n",
       "        vertical-align: top;\n",
       "    }\n",
       "\n",
       "    .dataframe thead th {\n",
       "        text-align: right;\n",
       "    }\n",
       "</style>\n",
       "<table border=\"1\" class=\"dataframe\">\n",
       "  <thead>\n",
       "    <tr style=\"text-align: right;\">\n",
       "      <th></th>\n",
       "      <th>all_awardings</th>\n",
       "      <th>allow_live_comments</th>\n",
       "      <th>author</th>\n",
       "      <th>author_flair_css_class</th>\n",
       "      <th>author_flair_richtext</th>\n",
       "      <th>author_flair_text</th>\n",
       "      <th>author_flair_type</th>\n",
       "      <th>author_fullname</th>\n",
       "      <th>author_is_blocked</th>\n",
       "      <th>author_patreon_flair</th>\n",
       "      <th>...</th>\n",
       "      <th>whitelist_status</th>\n",
       "      <th>wls</th>\n",
       "      <th>author_cakeday</th>\n",
       "      <th>removed_by_category</th>\n",
       "      <th>post_hint</th>\n",
       "      <th>preview</th>\n",
       "      <th>crosspost_parent</th>\n",
       "      <th>crosspost_parent_list</th>\n",
       "      <th>url_overridden_by_dest</th>\n",
       "      <th>distinguished</th>\n",
       "    </tr>\n",
       "  </thead>\n",
       "  <tbody>\n",
       "    <tr>\n",
       "      <th>0</th>\n",
       "      <td>[]</td>\n",
       "      <td>False</td>\n",
       "      <td>purplezebra62</td>\n",
       "      <td>NaN</td>\n",
       "      <td>[]</td>\n",
       "      <td>NaN</td>\n",
       "      <td>text</td>\n",
       "      <td>t2_5aolzj07</td>\n",
       "      <td>False</td>\n",
       "      <td>False</td>\n",
       "      <td>...</td>\n",
       "      <td>no_ads</td>\n",
       "      <td>0.0</td>\n",
       "      <td>NaN</td>\n",
       "      <td>NaN</td>\n",
       "      <td>NaN</td>\n",
       "      <td>NaN</td>\n",
       "      <td>NaN</td>\n",
       "      <td>NaN</td>\n",
       "      <td>NaN</td>\n",
       "      <td>NaN</td>\n",
       "    </tr>\n",
       "    <tr>\n",
       "      <th>1</th>\n",
       "      <td>[]</td>\n",
       "      <td>False</td>\n",
       "      <td>Timely-Ad4772</td>\n",
       "      <td>NaN</td>\n",
       "      <td>[]</td>\n",
       "      <td>NaN</td>\n",
       "      <td>text</td>\n",
       "      <td>t2_ar9k34m6</td>\n",
       "      <td>False</td>\n",
       "      <td>False</td>\n",
       "      <td>...</td>\n",
       "      <td>no_ads</td>\n",
       "      <td>0.0</td>\n",
       "      <td>True</td>\n",
       "      <td>NaN</td>\n",
       "      <td>NaN</td>\n",
       "      <td>NaN</td>\n",
       "      <td>NaN</td>\n",
       "      <td>NaN</td>\n",
       "      <td>NaN</td>\n",
       "      <td>NaN</td>\n",
       "    </tr>\n",
       "    <tr>\n",
       "      <th>2</th>\n",
       "      <td>[]</td>\n",
       "      <td>False</td>\n",
       "      <td>dapin98</td>\n",
       "      <td>NaN</td>\n",
       "      <td>[]</td>\n",
       "      <td>NaN</td>\n",
       "      <td>text</td>\n",
       "      <td>t2_45ab6ua6</td>\n",
       "      <td>False</td>\n",
       "      <td>False</td>\n",
       "      <td>...</td>\n",
       "      <td>no_ads</td>\n",
       "      <td>0.0</td>\n",
       "      <td>NaN</td>\n",
       "      <td>NaN</td>\n",
       "      <td>NaN</td>\n",
       "      <td>NaN</td>\n",
       "      <td>NaN</td>\n",
       "      <td>NaN</td>\n",
       "      <td>NaN</td>\n",
       "      <td>NaN</td>\n",
       "    </tr>\n",
       "    <tr>\n",
       "      <th>3</th>\n",
       "      <td>[]</td>\n",
       "      <td>False</td>\n",
       "      <td>MichaelScott2003</td>\n",
       "      <td>NaN</td>\n",
       "      <td>[]</td>\n",
       "      <td>NaN</td>\n",
       "      <td>text</td>\n",
       "      <td>t2_py655q1</td>\n",
       "      <td>False</td>\n",
       "      <td>False</td>\n",
       "      <td>...</td>\n",
       "      <td>no_ads</td>\n",
       "      <td>0.0</td>\n",
       "      <td>NaN</td>\n",
       "      <td>NaN</td>\n",
       "      <td>NaN</td>\n",
       "      <td>NaN</td>\n",
       "      <td>NaN</td>\n",
       "      <td>NaN</td>\n",
       "      <td>NaN</td>\n",
       "      <td>NaN</td>\n",
       "    </tr>\n",
       "    <tr>\n",
       "      <th>4</th>\n",
       "      <td>[]</td>\n",
       "      <td>False</td>\n",
       "      <td>dillonmcyds</td>\n",
       "      <td>NaN</td>\n",
       "      <td>[]</td>\n",
       "      <td>NaN</td>\n",
       "      <td>text</td>\n",
       "      <td>t2_bdxxsktv</td>\n",
       "      <td>False</td>\n",
       "      <td>False</td>\n",
       "      <td>...</td>\n",
       "      <td>no_ads</td>\n",
       "      <td>0.0</td>\n",
       "      <td>NaN</td>\n",
       "      <td>NaN</td>\n",
       "      <td>NaN</td>\n",
       "      <td>NaN</td>\n",
       "      <td>NaN</td>\n",
       "      <td>NaN</td>\n",
       "      <td>NaN</td>\n",
       "      <td>NaN</td>\n",
       "    </tr>\n",
       "  </tbody>\n",
       "</table>\n",
       "<p>5 rows × 69 columns</p>\n",
       "</div>"
      ],
      "text/plain": [
       "  all_awardings  allow_live_comments            author  \\\n",
       "0            []                False     purplezebra62   \n",
       "1            []                False     Timely-Ad4772   \n",
       "2            []                False           dapin98   \n",
       "3            []                False  MichaelScott2003   \n",
       "4            []                False       dillonmcyds   \n",
       "\n",
       "   author_flair_css_class author_flair_richtext  author_flair_text  \\\n",
       "0                     NaN                    []                NaN   \n",
       "1                     NaN                    []                NaN   \n",
       "2                     NaN                    []                NaN   \n",
       "3                     NaN                    []                NaN   \n",
       "4                     NaN                    []                NaN   \n",
       "\n",
       "  author_flair_type author_fullname  author_is_blocked  author_patreon_flair  \\\n",
       "0              text     t2_5aolzj07              False                 False   \n",
       "1              text     t2_ar9k34m6              False                 False   \n",
       "2              text     t2_45ab6ua6              False                 False   \n",
       "3              text      t2_py655q1              False                 False   \n",
       "4              text     t2_bdxxsktv              False                 False   \n",
       "\n",
       "   ...  whitelist_status  wls  author_cakeday  removed_by_category  post_hint  \\\n",
       "0  ...            no_ads  0.0             NaN                  NaN        NaN   \n",
       "1  ...            no_ads  0.0            True                  NaN        NaN   \n",
       "2  ...            no_ads  0.0             NaN                  NaN        NaN   \n",
       "3  ...            no_ads  0.0             NaN                  NaN        NaN   \n",
       "4  ...            no_ads  0.0             NaN                  NaN        NaN   \n",
       "\n",
       "  preview crosspost_parent crosspost_parent_list url_overridden_by_dest  \\\n",
       "0     NaN              NaN                   NaN                    NaN   \n",
       "1     NaN              NaN                   NaN                    NaN   \n",
       "2     NaN              NaN                   NaN                    NaN   \n",
       "3     NaN              NaN                   NaN                    NaN   \n",
       "4     NaN              NaN                   NaN                    NaN   \n",
       "\n",
       "   distinguished  \n",
       "0            NaN  \n",
       "1            NaN  \n",
       "2            NaN  \n",
       "3            NaN  \n",
       "4            NaN  \n",
       "\n",
       "[5 rows x 69 columns]"
      ]
     },
     "execution_count": 6,
     "metadata": {},
     "output_type": "execute_result"
    }
   ],
   "source": [
    "# Displays the first 5 rows of data\n",
    "df_lifeadv.head()\n",
    "## Click the ... bubble to see output"
   ]
  },
  {
   "cell_type": "code",
   "execution_count": 7,
   "id": "08ab0aa5",
   "metadata": {},
   "outputs": [
    {
     "name": "stdout",
     "output_type": "stream",
     "text": [
      "FanFiction Dataframe Shape: (998, 76)\n",
      "LifeAdvice Dataframe Shape: (1000, 69)\n"
     ]
    }
   ],
   "source": [
    "print(f'FanFiction Dataframe Shape: {df_fanfic.shape}')\n",
    "print(f'LifeAdvice Dataframe Shape: {df_lifeadv.shape}')"
   ]
  },
  {
   "cell_type": "markdown",
   "id": "f8e5a3e1",
   "metadata": {},
   "source": [
    "Mentioned in notebook 1, we have slightly more entries in the LifeAdvice dataframe compared to FanFiction. The number of columns between the two dataframes are different as well which is expected given that different subreddits might have differents rules and features for their posts. Moving on we will identify columns which are interesting to us and ensure that both the dataframes have them, before that we will explore which are the columns which exist in only one of the dataframes."
   ]
  },
  {
   "cell_type": "code",
   "execution_count": 8,
   "id": "9fdf68bd",
   "metadata": {
    "collapsed": true
   },
   "outputs": [
    {
     "data": {
      "text/plain": [
       "Index(['all_awardings', 'allow_live_comments', 'author',\n",
       "       'author_flair_css_class', 'author_flair_richtext',\n",
       "       'author_flair_template_id', 'author_flair_text',\n",
       "       'author_flair_text_color', 'author_flair_type', 'author_fullname',\n",
       "       'author_is_blocked', 'author_patreon_flair', 'author_premium',\n",
       "       'awarders', 'can_mod_post', 'contest_mode', 'created_utc', 'domain',\n",
       "       'full_link', 'gildings', 'id', 'is_created_from_ads_ui',\n",
       "       'is_crosspostable', 'is_meta', 'is_original_content',\n",
       "       'is_reddit_media_domain', 'is_robot_indexable', 'is_self', 'is_video',\n",
       "       'link_flair_background_color', 'link_flair_css_class',\n",
       "       'link_flair_richtext', 'link_flair_template_id', 'link_flair_text',\n",
       "       'link_flair_text_color', 'link_flair_type', 'locked', 'media_only',\n",
       "       'no_follow', 'num_comments', 'num_crossposts', 'over_18',\n",
       "       'parent_whitelist_status', 'permalink', 'pinned', 'pwls',\n",
       "       'retrieved_on', 'score', 'selftext', 'send_replies', 'spoiler',\n",
       "       'stickied', 'subreddit', 'subreddit_id', 'subreddit_subscribers',\n",
       "       'subreddit_type', 'thumbnail', 'title', 'total_awards_received',\n",
       "       'treatment_tags', 'upvote_ratio', 'url', 'whitelist_status', 'wls',\n",
       "       'author_flair_background_color', 'suggested_sort',\n",
       "       'removed_by_category', 'post_hint', 'preview', 'poll_data',\n",
       "       'author_cakeday', 'crosspost_parent', 'crosspost_parent_list',\n",
       "       'url_overridden_by_dest', 'call_to_action', 'category'],\n",
       "      dtype='object')"
      ]
     },
     "execution_count": 8,
     "metadata": {},
     "output_type": "execute_result"
    }
   ],
   "source": [
    "# Display column names of the Fanfiction Dataframe\n",
    "df_fanfic.columns\n",
    "## Click the ... bubble to see output"
   ]
  },
  {
   "cell_type": "code",
   "execution_count": 9,
   "id": "15993b22",
   "metadata": {
    "collapsed": true
   },
   "outputs": [
    {
     "data": {
      "text/plain": [
       "Index(['all_awardings', 'allow_live_comments', 'author',\n",
       "       'author_flair_css_class', 'author_flair_richtext', 'author_flair_text',\n",
       "       'author_flair_type', 'author_fullname', 'author_is_blocked',\n",
       "       'author_patreon_flair', 'author_premium', 'awarders', 'can_mod_post',\n",
       "       'contest_mode', 'created_utc', 'domain', 'full_link', 'gildings', 'id',\n",
       "       'is_created_from_ads_ui', 'is_crosspostable', 'is_meta',\n",
       "       'is_original_content', 'is_reddit_media_domain', 'is_robot_indexable',\n",
       "       'is_self', 'is_video', 'link_flair_background_color',\n",
       "       'link_flair_richtext', 'link_flair_template_id', 'link_flair_text',\n",
       "       'link_flair_text_color', 'link_flair_type', 'locked', 'media_only',\n",
       "       'no_follow', 'num_comments', 'num_crossposts', 'over_18',\n",
       "       'parent_whitelist_status', 'permalink', 'pinned', 'pwls',\n",
       "       'retrieved_on', 'score', 'selftext', 'send_replies', 'spoiler',\n",
       "       'stickied', 'subreddit', 'subreddit_id', 'subreddit_subscribers',\n",
       "       'subreddit_type', 'thumbnail', 'title', 'total_awards_received',\n",
       "       'treatment_tags', 'upvote_ratio', 'url', 'whitelist_status', 'wls',\n",
       "       'author_cakeday', 'removed_by_category', 'post_hint', 'preview',\n",
       "       'crosspost_parent', 'crosspost_parent_list', 'url_overridden_by_dest',\n",
       "       'distinguished'],\n",
       "      dtype='object')"
      ]
     },
     "execution_count": 9,
     "metadata": {},
     "output_type": "execute_result"
    }
   ],
   "source": [
    "# Display column names of the LifeAdvice Dataframe\n",
    "df_lifeadv.columns\n",
    "## Click the ... bubble to see output"
   ]
  },
  {
   "cell_type": "code",
   "execution_count": 10,
   "id": "8ad1af3c",
   "metadata": {
    "collapsed": true
   },
   "outputs": [
    {
     "name": "stdout",
     "output_type": "stream",
     "text": [
      "Columns which are unique to FanFiction Subreddit:\n",
      "author_flair_template_id\n",
      "author_flair_text_color\n",
      "link_flair_css_class\n",
      "author_flair_background_color\n",
      "suggested_sort\n",
      "poll_data\n",
      "call_to_action\n",
      "category\n",
      "\n",
      "\n",
      "Columns which are unique to LifeAdvice Subreddit:\n",
      "distinguished\n"
     ]
    }
   ],
   "source": [
    "# Check column names of one subreddit against the other and returns those present in one but not the other\n",
    "print('Columns which are unique to FanFiction Subreddit:')  \n",
    "for x in df_fanfic.columns.tolist():\n",
    "    if x not in df_lifeadv.columns.tolist():\n",
    "        print(x)\n",
    "\n",
    "print('\\n')\n",
    "\n",
    "print('Columns which are unique to LifeAdvice Subreddit:')\n",
    "for x in df_lifeadv.columns.tolist():\n",
    "    if x not in df_fanfic.columns.tolist():\n",
    "        print(x)\n",
    "\n",
    "# Click the ... bubble below to see the columns unique to each subreddit"
   ]
  },
  {
   "cell_type": "markdown",
   "id": "3c972e13",
   "metadata": {},
   "source": [
    "It seems that the columns which are present in only one of the dataframes are not very useful\n",
    "in providing us information to identify which subreddit they belong to. After looking at the columns of both dataframes, these stood out as the most important columns:\n",
    "\n",
    "|Column Name|Description|\n",
    "|-------|-----------|\n",
    "|selftext|The body of the post|\n",
    "|title|Title of the post |\n",
    "|id|Unique post ID|\n",
    "|subreddit|Identifies which subreddit post was from|\n",
    "\n",
    "Aside from the three mentioned above these columns below could give us more insights:\n",
    "\n",
    "|Column Name|Description|\n",
    "|-------|-----------|\n",
    "|author|Author of the post\n",
    "|score|Score after totaling upvotes and downvotes|\n",
    "|upvote_ratio|Upvote ratio of the post|\n",
    "|total_awards_received|Number of awards received|\n",
    "|num_comments|Number of comments|\n",
    "|created_utc|Timestamp where the post was created|\n",
    "|permalink|Hyperlink for a post (For easy accessibility)|\n"
   ]
  },
  {
   "cell_type": "code",
   "execution_count": 11,
   "id": "f9e4ac87",
   "metadata": {},
   "outputs": [],
   "source": [
    "# Storing our selected columns in a list\n",
    "cols = ['selftext','title','id','subreddit','author','score','upvote_ratio','total_awards_received','num_comments','permalink','created_utc']"
   ]
  },
  {
   "cell_type": "code",
   "execution_count": 12,
   "id": "0ef5400a",
   "metadata": {},
   "outputs": [],
   "source": [
    "# Updating dataframes with only selected columns displayed\n",
    "df_fanfic = df_fanfic[cols]\n",
    "df_lifeadv = df_lifeadv[cols]"
   ]
  },
  {
   "cell_type": "code",
   "execution_count": 13,
   "id": "a1cd8339",
   "metadata": {},
   "outputs": [
    {
     "data": {
      "text/plain": [
       "(6, 11)"
      ]
     },
     "execution_count": 13,
     "metadata": {},
     "output_type": "execute_result"
    }
   ],
   "source": [
    "# Checks for duplicate values in 'selftext','title' columns and returns the shape\n",
    "df_fanfic[df_fanfic.duplicated(subset=['selftext','title'])].shape"
   ]
  },
  {
   "cell_type": "code",
   "execution_count": 14,
   "id": "f32f0f46",
   "metadata": {},
   "outputs": [
    {
     "data": {
      "text/plain": [
       "(3, 11)"
      ]
     },
     "execution_count": 14,
     "metadata": {},
     "output_type": "execute_result"
    }
   ],
   "source": [
    "# Checks for duplicate values in 'selftext','title' columns and returns the shape\n",
    "df_lifeadv[df_lifeadv.duplicated(subset=['selftext','title'])].shape"
   ]
  },
  {
   "cell_type": "markdown",
   "id": "86929505",
   "metadata": {},
   "source": [
    "We see that both subreddits do have a few duplicates (6 for FanFiction, 3 for LifeAdv), we will be dropping them as they constitute a very small percentage of data lost (~0.6% for FanFiction, 0.3% for LifeAdvice). "
   ]
  },
  {
   "cell_type": "code",
   "execution_count": 15,
   "id": "fbca035e",
   "metadata": {},
   "outputs": [],
   "source": [
    "# Drop duplicated rows identified in 'selftext', 'title' columns in place\n",
    "df_fanfic.drop_duplicates(subset=['selftext','title'],inplace=True)\n",
    "df_lifeadv.drop_duplicates(subset=['selftext','title'],inplace=True)"
   ]
  },
  {
   "cell_type": "code",
   "execution_count": 16,
   "id": "3a24f37c",
   "metadata": {
    "scrolled": true
   },
   "outputs": [
    {
     "name": "stdout",
     "output_type": "stream",
     "text": [
      "<class 'pandas.core.frame.DataFrame'>\n",
      "Int64Index: 992 entries, 0 to 997\n",
      "Data columns (total 11 columns):\n",
      " #   Column                 Non-Null Count  Dtype  \n",
      "---  ------                 --------------  -----  \n",
      " 0   selftext               964 non-null    object \n",
      " 1   title                  992 non-null    object \n",
      " 2   id                     992 non-null    object \n",
      " 3   subreddit              992 non-null    object \n",
      " 4   author                 992 non-null    object \n",
      " 5   score                  992 non-null    int64  \n",
      " 6   upvote_ratio           992 non-null    float64\n",
      " 7   total_awards_received  992 non-null    int64  \n",
      " 8   num_comments           992 non-null    int64  \n",
      " 9   permalink              992 non-null    object \n",
      " 10  created_utc            992 non-null    int64  \n",
      "dtypes: float64(1), int64(4), object(6)\n",
      "memory usage: 93.0+ KB\n"
     ]
    }
   ],
   "source": [
    "# Displays information about the Fanfiction dataframe\n",
    "df_fanfic.info()"
   ]
  },
  {
   "cell_type": "code",
   "execution_count": 17,
   "id": "a4008318",
   "metadata": {},
   "outputs": [
    {
     "name": "stdout",
     "output_type": "stream",
     "text": [
      "<class 'pandas.core.frame.DataFrame'>\n",
      "Int64Index: 997 entries, 0 to 999\n",
      "Data columns (total 11 columns):\n",
      " #   Column                 Non-Null Count  Dtype  \n",
      "---  ------                 --------------  -----  \n",
      " 0   selftext               961 non-null    object \n",
      " 1   title                  997 non-null    object \n",
      " 2   id                     997 non-null    object \n",
      " 3   subreddit              997 non-null    object \n",
      " 4   author                 997 non-null    object \n",
      " 5   score                  997 non-null    int64  \n",
      " 6   upvote_ratio           997 non-null    float64\n",
      " 7   total_awards_received  997 non-null    int64  \n",
      " 8   num_comments           997 non-null    int64  \n",
      " 9   permalink              997 non-null    object \n",
      " 10  created_utc            997 non-null    int64  \n",
      "dtypes: float64(1), int64(4), object(6)\n",
      "memory usage: 93.5+ KB\n"
     ]
    }
   ],
   "source": [
    "# Displays information about the Fanfiction dataframe\n",
    "df_lifeadv.info()"
   ]
  },
  {
   "cell_type": "markdown",
   "id": "ba95aae5",
   "metadata": {},
   "source": [
    "### Observations\n",
    "- It appears that 'created_utc' is in ```int64``` format, reading up more on the 'created_utc' we discover that the value is actually a UNIX time stamp. We will dive deeper into the data and see if we have to change its datatype.  \n",
    "\n",
    "  \n",
    "  - There are null values for 'selftext' in both dataframes.   \n",
    "These seem like posts where users only posted a title but no post body. As we will combine both the selftext and title columns later on, we will deal with these null values by assigning them an empty string value```('')```. The reason for doing this instead of dropping them is because we feel that these titles might provide us with useful information that may aid us in identifying which subreddit they belong to."
   ]
  },
  {
   "cell_type": "code",
   "execution_count": 18,
   "id": "379b09b8",
   "metadata": {},
   "outputs": [
    {
     "data": {
      "text/plain": [
       "28"
      ]
     },
     "execution_count": 18,
     "metadata": {},
     "output_type": "execute_result"
    }
   ],
   "source": [
    "# Checks the Fanfiction dataframe and returns the number of rows with null values in the 'selftext' column\n",
    "df_fanfic['selftext'].isnull().sum()"
   ]
  },
  {
   "cell_type": "code",
   "execution_count": 19,
   "id": "c43fded2",
   "metadata": {},
   "outputs": [
    {
     "data": {
      "text/plain": [
       "36"
      ]
     },
     "execution_count": 19,
     "metadata": {},
     "output_type": "execute_result"
    }
   ],
   "source": [
    "# Checks the LifeAdvice dataframe and returns the number of rows with null values in the 'selftext' column\n",
    "df_lifeadv['selftext'].isnull().sum()"
   ]
  },
  {
   "cell_type": "code",
   "execution_count": 20,
   "id": "6d7f1c92",
   "metadata": {},
   "outputs": [],
   "source": [
    "# Fill 'selftext' null values with empty string\n",
    "df_fanfic['selftext'] = df_fanfic['selftext'].fillna('')\n",
    "df_lifeadv['selftext'] = df_lifeadv['selftext'].fillna('')"
   ]
  },
  {
   "cell_type": "markdown",
   "id": "26f1c82b",
   "metadata": {},
   "source": [
    "At this point we create another dataframe which is a combination of the dataframes of each subreddit, we will also create a new 'subreddit_cat' columns using the .map function to map posts from 'subreddit' column values of 'FanFiction' to 1 and 'LifeAdvice' to 0."
   ]
  },
  {
   "cell_type": "code",
   "execution_count": 21,
   "id": "4ed456df",
   "metadata": {},
   "outputs": [],
   "source": [
    "# Combine our dataframes\n",
    "master_df = df_fanfic.append(df_lifeadv)"
   ]
  },
  {
   "cell_type": "code",
   "execution_count": 22,
   "id": "d7d47031",
   "metadata": {},
   "outputs": [
    {
     "data": {
      "text/plain": [
       "LifeAdvice    0.501257\n",
       "FanFiction    0.498743\n",
       "Name: subreddit, dtype: float64"
      ]
     },
     "execution_count": 22,
     "metadata": {},
     "output_type": "execute_result"
    }
   ],
   "source": [
    "master_df['subreddit'].value_counts(normalize = True)"
   ]
  },
  {
   "cell_type": "markdown",
   "id": "446eb5a3",
   "metadata": {},
   "source": [
    "Looking at the normalized value counts, our dataset looks balanced\n",
    "with ~ 50.1% of posts belonging to the 'LifeAdvice' subreddit and ~49.9% of posts belonging to the 'FanFiction' subreddit."
   ]
  },
  {
   "cell_type": "code",
   "execution_count": 23,
   "id": "e1061bdc",
   "metadata": {},
   "outputs": [],
   "source": [
    "# Map our positive class as LifeAdvice:1, negative class as FanFiction:0\n",
    "master_df['subreddit_cat'] = master_df['subreddit'].map({'LifeAdvice': 1, 'FanFiction': 0})"
   ]
  },
  {
   "cell_type": "markdown",
   "id": "992f90e0",
   "metadata": {},
   "source": [
    "## Datetime columns"
   ]
  },
  {
   "cell_type": "markdown",
   "id": "66face0a",
   "metadata": {},
   "source": [
    "### Unpacking 'created_utc'\n"
   ]
  },
  {
   "cell_type": "markdown",
   "id": "c70896e3",
   "metadata": {},
   "source": [
    "Reading up on our 'created_utc' columns, while useful for computer systems to track and sort dated information, it is not very intuitive for us to comprehend and perform analysis on. We can convert it into a more readable format using the ```datetime``` and ```tz``` into a more readable format and into a timezone of our choosing.\n",
    "\n",
    "Further reading up this topic, it seems that in future, [\"The Unix Time Stamp will cease to work due to a 32-bit overflow.\"](https://www.unixtimestamp.com/)   \n",
    "**Before this moment millions of applications will need to either adopt a new convention for time stamps or be migrated to 64-bit systems which will buy the time stamp a \"bit\" more time.**  \n",
    "\n",
    "When we revisit/re-iterate this project in future, we have to take note of any changes regarding Unix Time Stamp as it may affect our project."
   ]
  },
  {
   "cell_type": "code",
   "execution_count": 24,
   "id": "d657e1fe",
   "metadata": {},
   "outputs": [],
   "source": [
    "# Converting 'created_utc' into timestamp using datetime and timezone(tz)\n",
    "master_df['timestamp'] = master_df['created_utc'].apply(lambda x: datetime.fromtimestamp(x)) # Using datetime to convert unix timestamp values into 'YYYY/MM/DD, HH:MM:SS, timezone' format in 'timestamp' column\n",
    "master_df['timestamp'] = master_df['timestamp'].dt.tz_localize('UTC') # Changes time standard to UTC\n",
    "master_df['timestamp'] = master_df['timestamp'].dt.tz_convert('US/Eastern') # Sets time zone to US/Eastern relative to UTC\n",
    "\n",
    "# From our timestamp column, we are now better able to extract more information from with regards to date and time,\n",
    "# We will create columns for the following from the timestamp and their derivatives\n",
    "\n",
    "master_df['day_posted'] = master_df['timestamp'].apply(lambda x: x.date())\n",
    "master_df['time_posted'] = master_df['timestamp'].apply(lambda x: x.time())\n",
    "master_df['month_posted'] = master_df['day_posted'].apply(lambda x: x.month)\n",
    "master_df['weekday_posted'] = master_df['day_posted'].apply(lambda x: x.weekday())\n",
    "master_df['hour_posted'] = master_df['time_posted'].apply(lambda x: x.hour)\n"
   ]
  },
  {
   "cell_type": "markdown",
   "id": "723dce0b",
   "metadata": {},
   "source": [
    "Checking date ranges for both subreddits,"
   ]
  },
  {
   "cell_type": "code",
   "execution_count": 25,
   "id": "e0a8db2e",
   "metadata": {},
   "outputs": [],
   "source": [
    "# Storing filtered dataframes for each subreddit as variables for easier referencing\n",
    "df_fil_sub0 = master_df[master_df['subreddit_cat']==0] # DF showing posts from FanFiction subreddit\n",
    "df_fil_sub1 = master_df[master_df['subreddit_cat']==1] # DF showing posts from LifeAdvice subreddit"
   ]
  },
  {
   "cell_type": "code",
   "execution_count": 26,
   "id": "228c2bac",
   "metadata": {},
   "outputs": [
    {
     "data": {
      "text/plain": [
       "count                           992\n",
       "unique                          983\n",
       "top       2022-03-03 13:30:10-05:00\n",
       "freq                              3\n",
       "first     2022-02-27 00:58:26-05:00\n",
       "last      2022-03-08 07:28:42-05:00\n",
       "Name: timestamp, dtype: object"
      ]
     },
     "execution_count": 26,
     "metadata": {},
     "output_type": "execute_result"
    }
   ],
   "source": [
    "# Generate descriptive statistics for timestamp column for fanfiction posts\n",
    "df_fil_sub0['timestamp'].describe()"
   ]
  },
  {
   "cell_type": "code",
   "execution_count": 27,
   "id": "c09b54d1",
   "metadata": {
    "scrolled": true
   },
   "outputs": [
    {
     "data": {
      "text/plain": [
       "count                           997\n",
       "unique                          997\n",
       "top       2022-02-15 13:09:26-05:00\n",
       "freq                              1\n",
       "first     2022-01-21 09:46:58-05:00\n",
       "last      2022-03-08 07:37:08-05:00\n",
       "Name: timestamp, dtype: object"
      ]
     },
     "execution_count": 27,
     "metadata": {},
     "output_type": "execute_result"
    }
   ],
   "source": [
    "# Generate descriptive statistics for timestamp column for lifeadvice posts\n",
    "df_fil_sub1['timestamp'].describe()"
   ]
  },
  {
   "cell_type": "code",
   "execution_count": 28,
   "id": "c13bff21",
   "metadata": {
    "scrolled": false
   },
   "outputs": [
    {
     "data": {
      "image/png": "[encoded data removed]",
      "text/plain": [
       "<Figure size 864x432 with 1 Axes>"
      ]
     },
     "metadata": {
      "needs_background": "light"
     },
     "output_type": "display_data"
    }
   ],
   "source": [
    "# Generate 'Posts Over Time' line plot with X as date of posts and Y as number of posts\n",
    "pd.crosstab(index=master_df['day_posted'],columns=master_df['subreddit']).plot(kind='line',figsize=(12,6));\n",
    "plt.title('Posts Over Time', fontsize = 20)\n",
    "plt.ylabel('Number of posts')\n",
    "plt.xlabel('Date of posts');\n"
   ]
  },
  {
   "cell_type": "code",
   "execution_count": 29,
   "id": "a72d32a5",
   "metadata": {},
   "outputs": [
    {
     "data": {
      "image/png": "[encoded data removed]",
      "text/plain": [
       "<Figure size 864x432 with 1 Axes>"
      ]
     },
     "metadata": {
      "needs_background": "light"
     },
     "output_type": "display_data"
    }
   ],
   "source": [
    "# Generate 'Posts based on days of the week' line plot with X as days of the week and Y as number of posts\n",
    "pd.crosstab(index=master_df['weekday_posted'],columns=master_df['subreddit']).plot(kind='line',figsize=(12,6));\n",
    "plt.title('Posts based on days of the week',fontsize=20);\n",
    "plt.xticks(ticks=sorted(master_df['weekday_posted'].unique()),labels=['Monday','Tuesday','Wednesday','Thursday','Friday','Saturday','Sunday'])\n",
    "plt.xlabel(\"\");"
   ]
  },
  {
   "cell_type": "code",
   "execution_count": 30,
   "id": "4ff388a4",
   "metadata": {},
   "outputs": [
    {
     "data": {
      "image/png": "[encoded data removed]",
      "text/plain": [
       "<Figure size 864x432 with 1 Axes>"
      ]
     },
     "metadata": {
      "needs_background": "light"
     },
     "output_type": "display_data"
    }
   ],
   "source": [
    "# Generate 'Posts based on times of a day' line plot with X as hours in a day and Y as number of posts\n",
    "pd.crosstab(index=master_df['hour_posted'],columns=master_df['subreddit']).plot(kind='line',figsize=(12,6));\n",
    "plt.title('Posts based on hours in a day',fontsize=20);\n",
    "plt.xticks(ticks=range(24))\n",
    "plt.xlabel(\"Time of Day\");"
   ]
  },
  {
   "cell_type": "markdown",
   "id": "88ab04ca",
   "metadata": {},
   "source": [
    "### Observations\n",
    "- Date range for \"FanFiction\" is from **27th February** to **8th March 2022**\n",
    "- Date range for \"LifeAdvice\" is from **21th January** to **8th March 2022**\n",
    "  \n",
    "- We scraped our data with a starting date of 8th March 2022, scraping ~1000 posts spanned a duration of :\n",
    "    - 9 days for the FanFiction subreddit\n",
    "    - 46 days for the LifeAdvice subreddit\n",
    "    \n",
    "- From the graphs and descriptive statistics above, we can conclude that **\"FanFiction\" subreddit is ~5x more active than \"LifeAdvice\"** subreddit when it comes to the frequency of posts.\n",
    "\n",
    "- Looking at the posts based on days of the week, it is quite interesting to see that on Tuesdays - Saturdays, we see a higher post frequency for LifeAdvice comapred to FanFiction despite being the smaller subreddit of the two in terms of the number of members inside.  \n",
    "\n",
    "- Looking at the posts based on hours of the day, it seems that for both subreddits people tend to posts more in the night compared to the day, a possible explaination is that people tend to be in a more introspective mood at night compared to the day when they are at work or running errands.\n",
    "\n",
    "The likely explaination for why this could be that posts from LifeAdvice are usually made by those facing problems or issues which feel unsolvable by posters or are seeking opinions from others before coming to a decision, hence posts are usually more impulsive in nature. Comparatively, posts made in FanFiction are probably more deliberate and lengthier in nature, often made by hobbyists or aspiring writers looking for feedback on their writing.\n",
    "\n",
    "- The posts across hours (with time converted to US Eastern Standard Time) show that posts are most frequent late at night and early in the morning."
   ]
  },
  {
   "cell_type": "markdown",
   "id": "03a97bcf",
   "metadata": {},
   "source": [
    "## Numeric columns"
   ]
  },
  {
   "cell_type": "markdown",
   "id": "8028388b",
   "metadata": {},
   "source": [
    "### Analyses of posts from each subreddit\n"
   ]
  },
  {
   "cell_type": "markdown",
   "id": "ade1f740",
   "metadata": {},
   "source": [
    "Base on the conclusion from earlier analysis of date ranges, we posit that the Fanfiction subreddit is more active than LifeAdvice. With higher activity, it would likely correspond to higher average scores and number of comments when comparing posts between the two subreddits."
   ]
  },
  {
   "cell_type": "code",
   "execution_count": 31,
   "id": "f7a64f33",
   "metadata": {
    "scrolled": true
   },
   "outputs": [
    {
     "data": {
      "text/plain": [
       "count    992.000000\n",
       "mean       1.003024\n",
       "std        0.070967\n",
       "min        0.000000\n",
       "25%        1.000000\n",
       "50%        1.000000\n",
       "75%        1.000000\n",
       "max        2.000000\n",
       "Name: score, dtype: float64"
      ]
     },
     "execution_count": 31,
     "metadata": {},
     "output_type": "execute_result"
    }
   ],
   "source": [
    "# Generate descriptive statistics for score column in fanfiction posts\n",
    "df_fil_sub0['score'].describe()"
   ]
  },
  {
   "cell_type": "code",
   "execution_count": 32,
   "id": "4e72d136",
   "metadata": {
    "scrolled": true
   },
   "outputs": [
    {
     "data": {
      "text/plain": [
       "count    997.0\n",
       "mean       1.0\n",
       "std        0.0\n",
       "min        1.0\n",
       "25%        1.0\n",
       "50%        1.0\n",
       "75%        1.0\n",
       "max        1.0\n",
       "Name: score, dtype: float64"
      ]
     },
     "execution_count": 32,
     "metadata": {},
     "output_type": "execute_result"
    }
   ],
   "source": [
    "# Generate descriptive statistics for score column in lifeadvice posts\n",
    "df_fil_sub1['score'].describe()"
   ]
  },
  {
   "cell_type": "markdown",
   "id": "54503ebb",
   "metadata": {},
   "source": [
    "It seems that we were unable to differentiate between posts from the two subreddits by looking at average score (both mean values were ~1)."
   ]
  },
  {
   "cell_type": "markdown",
   "id": "5216182b",
   "metadata": {},
   "source": [
    "### Top 5 posts based on score (total upvotes - total downvotes)"
   ]
  },
  {
   "cell_type": "markdown",
   "id": "103a796a",
   "metadata": {},
   "source": [
    "##### FanFiction"
   ]
  },
  {
   "cell_type": "code",
   "execution_count": 33,
   "id": "3ddbea50",
   "metadata": {
    "collapsed": true
   },
   "outputs": [
    {
     "data": {
      "text/html": [
       "<div>\n",
       "<style scoped>\n",
       "    .dataframe tbody tr th:only-of-type {\n",
       "        vertical-align: middle;\n",
       "    }\n",
       "\n",
       "    .dataframe tbody tr th {\n",
       "        vertical-align: top;\n",
       "    }\n",
       "\n",
       "    .dataframe thead th {\n",
       "        text-align: right;\n",
       "    }\n",
       "</style>\n",
       "<table border=\"1\" class=\"dataframe\">\n",
       "  <thead>\n",
       "    <tr style=\"text-align: right;\">\n",
       "      <th></th>\n",
       "      <th>title</th>\n",
       "      <th>selftext</th>\n",
       "      <th>author</th>\n",
       "      <th>score</th>\n",
       "      <th>id</th>\n",
       "      <th>permalink</th>\n",
       "    </tr>\n",
       "  </thead>\n",
       "  <tbody>\n",
       "    <tr>\n",
       "      <th>702</th>\n",
       "      <td>Authors, which is more difficult?</td>\n",
       "      <td>When a commenter posts a bunch of elaborate speculation, which is more difficult:\\n\\n* Is it harder to, when the commenter is wrong, to resist the urge correct them?\\n\\n* Or when they are right, is it harder to resist the urge to gush about the upcoming stuff?\\n\\nI know, either way it simply wouldn't do to spoil things, but when do you have the most difficulty in keeping your big flapping mout...</td>\n",
       "      <td>Mr_Blah1</td>\n",
       "      <td>2</td>\n",
       "      <td>t4djwe</td>\n",
       "      <td>/r/FanFiction/comments/t4djwe/authors_which_is_more_difficult/</td>\n",
       "    </tr>\n",
       "    <tr>\n",
       "      <th>253</th>\n",
       "      <td>Underappreciated?</td>\n",
       "      <td>I'd love to have a look at your under-appreciated fics or chapters, link me up! Under 4k words would be nice.  \\n\\nIf you leave a rec, try leave a review on a couple others. Let's spread the love folks. Fuck war.</td>\n",
       "      <td>theWalkingdread__</td>\n",
       "      <td>2</td>\n",
       "      <td>t7k0u8</td>\n",
       "      <td>/r/FanFiction/comments/t7k0u8/underappreciated/</td>\n",
       "    </tr>\n",
       "    <tr>\n",
       "      <th>41</th>\n",
       "      <td>Stories That Overlap- How to Write Them?</td>\n",
       "      <td>So, to explain in very vague terms, I've had a brilliant idea for a story that overlaps with another WIP I'm writing.  One storyline merges with the other (ie the two main characters meet and travel together).  The problem is, I want to write it from both perspectives (3rd-person limited perspective so I want to write about how both of them feel but I'm not sure how to really handle that) and ...</td>\n",
       "      <td>Cheshire_Hancock</td>\n",
       "      <td>2</td>\n",
       "      <td>t8wipw</td>\n",
       "      <td>/r/FanFiction/comments/t8wipw/stories_that_overlap_how_to_write_them/</td>\n",
       "    </tr>\n",
       "    <tr>\n",
       "      <th>832</th>\n",
       "      <td>By day I am ____, by night I am a fanfic author</td>\n",
       "      <td>Was wondering what goes on in the day of a typical fanfic author. What kind of vocations are you all in; do you ever find that the influence of your day job seeps into your writing sometimes?\\n\\nFor me, my work tends to require more concise writing. Ever since I’ve started working, then, I find that my fanfic writing has grown a lot less flowery (unfortunately). So am curious to see how divers...</td>\n",
       "      <td>suunao</td>\n",
       "      <td>2</td>\n",
       "      <td>t3eu1a</td>\n",
       "      <td>/r/FanFiction/comments/t3eu1a/by_day_i_am_by_night_i_am_a_fanfic_author/</td>\n",
       "    </tr>\n",
       "    <tr>\n",
       "      <th>0</th>\n",
       "      <td>Something I see a lot on this subreddit is...</td>\n",
       "      <td>“How long should my chapters be?” \\n\\n“How many chapters should my fic be?” \\n\\n“How many words should my fic be?” \\n\\nEtc., Etc. \\n\\nI want to share something I’ve learned;\\n\\nDon’t worry about how many words you write.\\n\\nDon’t give yourself a word count minimum or a maximum. \\n\\nWrite however little or much it takes to tell your story. \\n\\nA world of stress and anxiety will be lifted off yo...</td>\n",
       "      <td>GreeneyedSigma</td>\n",
       "      <td>1</td>\n",
       "      <td>t98jj3</td>\n",
       "      <td>/r/FanFiction/comments/t98jj3/something_i_see_a_lot_on_this_subreddit_is/</td>\n",
       "    </tr>\n",
       "  </tbody>\n",
       "</table>\n",
       "</div>"
      ],
      "text/plain": [
       "                                               title  \\\n",
       "702                Authors, which is more difficult?   \n",
       "253                                Underappreciated?   \n",
       "41          Stories That Overlap- How to Write Them?   \n",
       "832  By day I am ____, by night I am a fanfic author   \n",
       "0      Something I see a lot on this subreddit is...   \n",
       "\n",
       "                                                                                                                                                                                                                                                                                                                                                                                                            selftext  \\\n",
       "702  When a commenter posts a bunch of elaborate speculation, which is more difficult:\\n\\n* Is it harder to, when the commenter is wrong, to resist the urge correct them?\\n\\n* Or when they are right, is it harder to resist the urge to gush about the upcoming stuff?\\n\\nI know, either way it simply wouldn't do to spoil things, but when do you have the most difficulty in keeping your big flapping mout...   \n",
       "253                                                                                                                                                                                             I'd love to have a look at your under-appreciated fics or chapters, link me up! Under 4k words would be nice.  \\n\\nIf you leave a rec, try leave a review on a couple others. Let's spread the love folks. Fuck war.   \n",
       "41   So, to explain in very vague terms, I've had a brilliant idea for a story that overlaps with another WIP I'm writing.  One storyline merges with the other (ie the two main characters meet and travel together).  The problem is, I want to write it from both perspectives (3rd-person limited perspective so I want to write about how both of them feel but I'm not sure how to really handle that) and ...   \n",
       "832  Was wondering what goes on in the day of a typical fanfic author. What kind of vocations are you all in; do you ever find that the influence of your day job seeps into your writing sometimes?\\n\\nFor me, my work tends to require more concise writing. Ever since I’ve started working, then, I find that my fanfic writing has grown a lot less flowery (unfortunately). So am curious to see how divers...   \n",
       "0    “How long should my chapters be?” \\n\\n“How many chapters should my fic be?” \\n\\n“How many words should my fic be?” \\n\\nEtc., Etc. \\n\\nI want to share something I’ve learned;\\n\\nDon’t worry about how many words you write.\\n\\nDon’t give yourself a word count minimum or a maximum. \\n\\nWrite however little or much it takes to tell your story. \\n\\nA world of stress and anxiety will be lifted off yo...   \n",
       "\n",
       "                author  score      id  \\\n",
       "702           Mr_Blah1      2  t4djwe   \n",
       "253  theWalkingdread__      2  t7k0u8   \n",
       "41    Cheshire_Hancock      2  t8wipw   \n",
       "832             suunao      2  t3eu1a   \n",
       "0       GreeneyedSigma      1  t98jj3   \n",
       "\n",
       "                                                                     permalink  \n",
       "702             /r/FanFiction/comments/t4djwe/authors_which_is_more_difficult/  \n",
       "253                            /r/FanFiction/comments/t7k0u8/underappreciated/  \n",
       "41       /r/FanFiction/comments/t8wipw/stories_that_overlap_how_to_write_them/  \n",
       "832   /r/FanFiction/comments/t3eu1a/by_day_i_am_by_night_i_am_a_fanfic_author/  \n",
       "0    /r/FanFiction/comments/t98jj3/something_i_see_a_lot_on_this_subreddit_is/  "
      ]
     },
     "execution_count": 33,
     "metadata": {},
     "output_type": "execute_result"
    }
   ],
   "source": [
    "# Sorts posts based on score and return 5 rows with the highest scores\n",
    "df_fil_sub0.sort_values('score',ascending=False)[['title','selftext','author','score','id','permalink']].head(5)\n",
    "# CLick on the ... bubble to see the top 5 posts from the fanfiction subreddit"
   ]
  },
  {
   "cell_type": "markdown",
   "id": "6cacd4d9",
   "metadata": {},
   "source": [
    "##### LifeAdvice"
   ]
  },
  {
   "cell_type": "code",
   "execution_count": 34,
   "id": "f07f7f84",
   "metadata": {
    "collapsed": true
   },
   "outputs": [
    {
     "data": {
      "text/html": [
       "<div>\n",
       "<style scoped>\n",
       "    .dataframe tbody tr th:only-of-type {\n",
       "        vertical-align: middle;\n",
       "    }\n",
       "\n",
       "    .dataframe tbody tr th {\n",
       "        vertical-align: top;\n",
       "    }\n",
       "\n",
       "    .dataframe thead th {\n",
       "        text-align: right;\n",
       "    }\n",
       "</style>\n",
       "<table border=\"1\" class=\"dataframe\">\n",
       "  <thead>\n",
       "    <tr style=\"text-align: right;\">\n",
       "      <th></th>\n",
       "      <th>title</th>\n",
       "      <th>selftext</th>\n",
       "      <th>author</th>\n",
       "      <th>score</th>\n",
       "      <th>id</th>\n",
       "      <th>permalink</th>\n",
       "    </tr>\n",
       "  </thead>\n",
       "  <tbody>\n",
       "    <tr>\n",
       "      <th>0</th>\n",
       "      <td>How do I get out of a rut?</td>\n",
       "      <td>It’s hard to describe but I feel like I’ve been in a funk as of recently. I’m bored with my daily life, not fulfilled by my job, couldn’t be more single, feel like I’m having trouble making and maintaining close friendships and am just overall not super happy. I am generally a very pessimistic person and I want to work on being more positive which I feel like will help attract more people into...</td>\n",
       "      <td>purplezebra62</td>\n",
       "      <td>1</td>\n",
       "      <td>t98osb</td>\n",
       "      <td>/r/LifeAdvice/comments/t98osb/how_do_i_get_out_of_a_rut/</td>\n",
       "    </tr>\n",
       "    <tr>\n",
       "      <th>671</th>\n",
       "      <td>idk what im doing anymore.</td>\n",
       "      <td>I'm 19 and have had 6 jobs, only one of which I've been fired from. The issue with the other jobs is that I just lose all motivation after I've learnt how to do the job. I get my training done, work for a month (MAYBE) and then I just get so depressed with the routine and cant be asked anymore so I leave and looks elsewhere, but there seems to be nothing better. I hate it. Sometimes its so har...</td>\n",
       "      <td>-_Dare_-</td>\n",
       "      <td>1</td>\n",
       "      <td>slohk7</td>\n",
       "      <td>/r/LifeAdvice/comments/slohk7/idk_what_im_doing_anymore/</td>\n",
       "    </tr>\n",
       "    <tr>\n",
       "      <th>658</th>\n",
       "      <td>I'm 25 and have no idea what I need to do.</td>\n",
       "      <td>I'm 25 years old and the past year has been incredibly difficult. I bought a house with some friends and now they're getting divorced and separating, I got covid on my birthday, my uncle, grandpa and dad all passed away last year. Dad and gramps within a few weeks of each other. I only saw my dad 1 time in the last 3 years because I was caught up in work. My partner broke up with me and moved ...</td>\n",
       "      <td>vengeful_fluffy</td>\n",
       "      <td>1</td>\n",
       "      <td>smcapc</td>\n",
       "      <td>/r/LifeAdvice/comments/smcapc/im_25_and_have_no_idea_what_i_need_to_do/</td>\n",
       "    </tr>\n",
       "    <tr>\n",
       "      <th>659</th>\n",
       "      <td>I’m 22 and I feel like I’ve missed out on certain things</td>\n",
       "      <td>I’ve recently moved out from my parents house. Away from overprotective, controlling mother, away from distant, insecure step-father. Away from endless fights, which have seriously damaged my mental health. I had serious body image and self esteem issues, and struggled with anxiety and depression in my teen years - which should the years I make dumb mistakes, hurt and get hurt by other people ...</td>\n",
       "      <td>OnTheWayUp00</td>\n",
       "      <td>1</td>\n",
       "      <td>sm8g92</td>\n",
       "      <td>/r/LifeAdvice/comments/sm8g92/im_22_and_i_feel_like_ive_missed_out_on_certain/</td>\n",
       "    </tr>\n",
       "    <tr>\n",
       "      <th>660</th>\n",
       "      <td>At a crossroads in life right now.</td>\n",
       "      <td>Currently a freshman in college right now, my parents are paying out of state with no scholarships. I failed a few classes in the first semester, the second semester has been going the same way. My parents have given me a few options.\\nWithdrawal from college. I can work an internship in LA , Get a job and work and save money, Attend a gap year to a few different countries to discover and lear...</td>\n",
       "      <td>lol-stop</td>\n",
       "      <td>1</td>\n",
       "      <td>sm53et</td>\n",
       "      <td>/r/LifeAdvice/comments/sm53et/at_a_crossroads_in_life_right_now/</td>\n",
       "    </tr>\n",
       "  </tbody>\n",
       "</table>\n",
       "</div>"
      ],
      "text/plain": [
       "                                                        title  \\\n",
       "0                                  How do I get out of a rut?   \n",
       "671                                idk what im doing anymore.   \n",
       "658                I'm 25 and have no idea what I need to do.   \n",
       "659  I’m 22 and I feel like I’ve missed out on certain things   \n",
       "660                        At a crossroads in life right now.   \n",
       "\n",
       "                                                                                                                                                                                                                                                                                                                                                                                                            selftext  \\\n",
       "0    It’s hard to describe but I feel like I’ve been in a funk as of recently. I’m bored with my daily life, not fulfilled by my job, couldn’t be more single, feel like I’m having trouble making and maintaining close friendships and am just overall not super happy. I am generally a very pessimistic person and I want to work on being more positive which I feel like will help attract more people into...   \n",
       "671  I'm 19 and have had 6 jobs, only one of which I've been fired from. The issue with the other jobs is that I just lose all motivation after I've learnt how to do the job. I get my training done, work for a month (MAYBE) and then I just get so depressed with the routine and cant be asked anymore so I leave and looks elsewhere, but there seems to be nothing better. I hate it. Sometimes its so har...   \n",
       "658  I'm 25 years old and the past year has been incredibly difficult. I bought a house with some friends and now they're getting divorced and separating, I got covid on my birthday, my uncle, grandpa and dad all passed away last year. Dad and gramps within a few weeks of each other. I only saw my dad 1 time in the last 3 years because I was caught up in work. My partner broke up with me and moved ...   \n",
       "659  I’ve recently moved out from my parents house. Away from overprotective, controlling mother, away from distant, insecure step-father. Away from endless fights, which have seriously damaged my mental health. I had serious body image and self esteem issues, and struggled with anxiety and depression in my teen years - which should the years I make dumb mistakes, hurt and get hurt by other people ...   \n",
       "660  Currently a freshman in college right now, my parents are paying out of state with no scholarships. I failed a few classes in the first semester, the second semester has been going the same way. My parents have given me a few options.\\nWithdrawal from college. I can work an internship in LA , Get a job and work and save money, Attend a gap year to a few different countries to discover and lear...   \n",
       "\n",
       "              author  score      id  \\\n",
       "0      purplezebra62      1  t98osb   \n",
       "671         -_Dare_-      1  slohk7   \n",
       "658  vengeful_fluffy      1  smcapc   \n",
       "659     OnTheWayUp00      1  sm8g92   \n",
       "660         lol-stop      1  sm53et   \n",
       "\n",
       "                                                                          permalink  \n",
       "0                          /r/LifeAdvice/comments/t98osb/how_do_i_get_out_of_a_rut/  \n",
       "671                        /r/LifeAdvice/comments/slohk7/idk_what_im_doing_anymore/  \n",
       "658         /r/LifeAdvice/comments/smcapc/im_25_and_have_no_idea_what_i_need_to_do/  \n",
       "659  /r/LifeAdvice/comments/sm8g92/im_22_and_i_feel_like_ive_missed_out_on_certain/  \n",
       "660                /r/LifeAdvice/comments/sm53et/at_a_crossroads_in_life_right_now/  "
      ]
     },
     "execution_count": 34,
     "metadata": {},
     "output_type": "execute_result"
    }
   ],
   "source": [
    "# Sorts posts based on num_comments and return 5 rows with the highest scores\n",
    "df_fil_sub1.sort_values('score',ascending=False)[['title','selftext','author','score','id','permalink']].head(5)\n",
    "# CLick on the ... bubble to see the top 5 posts from the LifeAdvice subreddit"
   ]
  },
  {
   "cell_type": "markdown",
   "id": "4203c938",
   "metadata": {},
   "source": [
    "It seems very bizarre that posts with highest scores from both subreddits are less than 3 given both subreddits are sizeable we should expect to see at least some fluctuations in scores and number of comments between posts. I decided to look at the top post from each subreddit based on score "
   ]
  },
  {
   "attachments": {
    "image-7.png": {
     "image/png": "[encoded data removed]"
    }
   },
   "cell_type": "markdown",
   "id": "4b28d0c4",
   "metadata": {},
   "source": [
    "##### Top post from Fanfiction\n",
    "![image-7.png](attachment:image-7.png)"
   ]
  },
  {
   "attachments": {
    "image-3.png": {
     "image/png": "[encoded data removed]"
    }
   },
   "cell_type": "markdown",
   "id": "80e2cb10",
   "metadata": {},
   "source": [
    "##### Top post from LifeAdvice\n",
    "![image-3.png](attachment:image-3.png)"
   ]
  },
  {
   "cell_type": "markdown",
   "id": "b79003fe",
   "metadata": {},
   "source": [
    "Contrary to what we see, the scores and number of coments which were indicated in the dataframe were not equal to those seen when looking at the post via the 'permalink' on Reddit.com itself.   "
   ]
  },
  {
   "cell_type": "markdown",
   "id": "e14b502a",
   "metadata": {},
   "source": [
    "[**A possible explaination for this discrepancy could be that the scores and number of comments for these scraped posts API could have been 'cached' versions which were earlier versions of posts compared to the real-time data from Reddit**](https://github.com/pushshift/api/issues/74). "
   ]
  },
  {
   "cell_type": "markdown",
   "id": "e61bee26",
   "metadata": {},
   "source": [
    "This actually confirms our assumption that given higher activity levels between subreddits, it corresponds to higher average scores and number of comments between them, which were not reflected in the datasets. While for the scope of this project/ problem statement these differences which we were unable to capture for our model may not be very useful, it could prove to be a very useful differentiating factor for other problem statements.   \n",
    "  \n",
    "That being said it is important for us to keep such 'delays' in consideration in our data collection process which we can improve upon in future revisits/iterations. This is especially important if the problem statement requires up to date data in order to answer.\n"
   ]
  },
  {
   "cell_type": "markdown",
   "id": "25d2dfdb",
   "metadata": {},
   "source": [
    "### Most active authors based on number of posts"
   ]
  },
  {
   "cell_type": "code",
   "execution_count": 35,
   "id": "d431ebfb",
   "metadata": {
    "scrolled": false
   },
   "outputs": [
    {
     "data": {
      "text/plain": [
       "AutoModerator    22\n",
       "IDICdreads       11\n",
       "Soul_Bound_28     9\n",
       "Name: author, dtype: int64"
      ]
     },
     "execution_count": 35,
     "metadata": {},
     "output_type": "execute_result"
    }
   ],
   "source": [
    "# Counts the number of unique posts made by each author and displays the top 3\n",
    "df_fil_sub0['author'].value_counts().head(3)"
   ]
  },
  {
   "cell_type": "code",
   "execution_count": 36,
   "id": "c5f49d35",
   "metadata": {
    "collapsed": true
   },
   "outputs": [
    {
     "data": {
      "text/html": [
       "<div>\n",
       "<style scoped>\n",
       "    .dataframe tbody tr th:only-of-type {\n",
       "        vertical-align: middle;\n",
       "    }\n",
       "\n",
       "    .dataframe tbody tr th {\n",
       "        vertical-align: top;\n",
       "    }\n",
       "\n",
       "    .dataframe thead th {\n",
       "        text-align: right;\n",
       "    }\n",
       "</style>\n",
       "<table border=\"1\" class=\"dataframe\">\n",
       "  <thead>\n",
       "    <tr style=\"text-align: right;\">\n",
       "      <th></th>\n",
       "      <th>title</th>\n",
       "      <th>selftext</th>\n",
       "      <th>permalink</th>\n",
       "    </tr>\n",
       "  </thead>\n",
       "  <tbody>\n",
       "    <tr>\n",
       "      <th>72</th>\n",
       "      <td>Excerpt Extravaganza - March 07</td>\n",
       "      <td>Welcome to the Excerpt Extravaganza!\\n\\nMuch like it's predecessor, [Monologue Monday,](https://www.reddit.com/r/FanFiction/search?q=title%3A%22Monologue+Monday%22&amp;amp;restrict_sr=on&amp;amp;include_over_18=on&amp;amp;sort=new&amp;amp;t=all) this is a thread for posting pieces of fic.\\n\\nYou can still post your dialogue, or any other part of your fic you'd like to show off.\\n\\nYou can also post excerpts f...</td>\n",
       "      <td>/r/FanFiction/comments/t8mbgx/excerpt_extravaganza_march_07/</td>\n",
       "    </tr>\n",
       "    <tr>\n",
       "      <th>73</th>\n",
       "      <td>Daily Discussion - Monday, March 07 | r/FanFiction Rules, FAQs, Weekly Schedule &amp;amp; Current Event Threads</td>\n",
       "      <td># Welcome to r/FanFiction, I love you!\\n\\n***\\n\\nNew to this subreddit? Here are links to get you started: [**Rules &amp;amp; Overview**](https://www.reddit.com/r/FanFiction/comments/jshhhb/newbies_start_here_sub_rules_events/) **|** [**Wiki**](https://www.reddit.com/r/FanFiction/wiki/index) **|** [**FAQs**](https://www.reddit.com/r/FanFiction/wiki/faq)\\n\\nGot a fic to promote? Click [HERE](https:...</td>\n",
       "      <td>/r/FanFiction/comments/t8mbgs/daily_discussion_monday_march_07_rfanfiction/</td>\n",
       "    </tr>\n",
       "    <tr>\n",
       "      <th>190</th>\n",
       "      <td>Daily Discussion - Sunday, March 06 | r/FanFiction Rules, FAQs, Weekly Schedule, &amp;amp; Current Event Threads</td>\n",
       "      <td># Welcome to r/FanFiction, I love you!\\n\\n***\\n\\nNew to this subreddit? Here are links to get you started: [**Rules &amp;amp; Overview**](https://www.reddit.com/r/FanFiction/comments/jshhhb/newbies_start_here_sub_rules_events/) **|** [**Wiki**](https://www.reddit.com/r/FanFiction/wiki/index) **|** [**FAQs**](https://www.reddit.com/r/FanFiction/wiki/faq)\\n\\nGot a fic to promote? Click [HERE](https:...</td>\n",
       "      <td>/r/FanFiction/comments/t7w3l0/daily_discussion_sunday_march_06_rfanfiction/</td>\n",
       "    </tr>\n",
       "    <tr>\n",
       "      <th>250</th>\n",
       "      <td>Concrit Commune - March 05</td>\n",
       "      <td>[removed]</td>\n",
       "      <td>/r/FanFiction/comments/t7kit0/concrit_commune_march_05/</td>\n",
       "    </tr>\n",
       "    <tr>\n",
       "      <th>306</th>\n",
       "      <td>Writing Weekends - March 05</td>\n",
       "      <td>Here on Writing Weekends, share what you are going to write and are currently writing this weekend or if you're gonna take the weekend off.</td>\n",
       "      <td>/r/FanFiction/comments/t76qa4/writing_weekends_march_05/</td>\n",
       "    </tr>\n",
       "  </tbody>\n",
       "</table>\n",
       "</div>"
      ],
      "text/plain": [
       "                                                                                                            title  \\\n",
       "72                                                                                Excerpt Extravaganza - March 07   \n",
       "73    Daily Discussion - Monday, March 07 | r/FanFiction Rules, FAQs, Weekly Schedule &amp; Current Event Threads   \n",
       "190  Daily Discussion - Sunday, March 06 | r/FanFiction Rules, FAQs, Weekly Schedule, &amp; Current Event Threads   \n",
       "250                                                                                    Concrit Commune - March 05   \n",
       "306                                                                                   Writing Weekends - March 05   \n",
       "\n",
       "                                                                                                                                                                                                                                                                                                                                                                                                            selftext  \\\n",
       "72   Welcome to the Excerpt Extravaganza!\\n\\nMuch like it's predecessor, [Monologue Monday,](https://www.reddit.com/r/FanFiction/search?q=title%3A%22Monologue+Monday%22&amp;restrict_sr=on&amp;include_over_18=on&amp;sort=new&amp;t=all) this is a thread for posting pieces of fic.\\n\\nYou can still post your dialogue, or any other part of your fic you'd like to show off.\\n\\nYou can also post excerpts f...   \n",
       "73   # Welcome to r/FanFiction, I love you!\\n\\n***\\n\\nNew to this subreddit? Here are links to get you started: [**Rules &amp; Overview**](https://www.reddit.com/r/FanFiction/comments/jshhhb/newbies_start_here_sub_rules_events/) **|** [**Wiki**](https://www.reddit.com/r/FanFiction/wiki/index) **|** [**FAQs**](https://www.reddit.com/r/FanFiction/wiki/faq)\\n\\nGot a fic to promote? Click [HERE](https:...   \n",
       "190  # Welcome to r/FanFiction, I love you!\\n\\n***\\n\\nNew to this subreddit? Here are links to get you started: [**Rules &amp; Overview**](https://www.reddit.com/r/FanFiction/comments/jshhhb/newbies_start_here_sub_rules_events/) **|** [**Wiki**](https://www.reddit.com/r/FanFiction/wiki/index) **|** [**FAQs**](https://www.reddit.com/r/FanFiction/wiki/faq)\\n\\nGot a fic to promote? Click [HERE](https:...   \n",
       "250                                                                                                                                                                                                                                                                                                                                                                                                        [removed]   \n",
       "306                                                                                                                                                                                                                                                                      Here on Writing Weekends, share what you are going to write and are currently writing this weekend or if you're gonna take the weekend off.   \n",
       "\n",
       "                                                                       permalink  \n",
       "72                  /r/FanFiction/comments/t8mbgx/excerpt_extravaganza_march_07/  \n",
       "73   /r/FanFiction/comments/t8mbgs/daily_discussion_monday_march_07_rfanfiction/  \n",
       "190  /r/FanFiction/comments/t7w3l0/daily_discussion_sunday_march_06_rfanfiction/  \n",
       "250                      /r/FanFiction/comments/t7kit0/concrit_commune_march_05/  \n",
       "306                     /r/FanFiction/comments/t76qa4/writing_weekends_march_05/  "
      ]
     },
     "execution_count": 36,
     "metadata": {},
     "output_type": "execute_result"
    }
   ],
   "source": [
    "# Display posts made by author 'AutoModerator'\n",
    "df_fil_sub0[df_fil_sub0['author'] == 'AutoModerator'][['title','selftext','permalink']].head(5)\n",
    "# Click on the ... bubble to see posts in detail"
   ]
  },
  {
   "cell_type": "code",
   "execution_count": 37,
   "id": "88804955",
   "metadata": {
    "collapsed": true
   },
   "outputs": [
    {
     "data": {
      "text/html": [
       "<div>\n",
       "<style scoped>\n",
       "    .dataframe tbody tr th:only-of-type {\n",
       "        vertical-align: middle;\n",
       "    }\n",
       "\n",
       "    .dataframe tbody tr th {\n",
       "        vertical-align: top;\n",
       "    }\n",
       "\n",
       "    .dataframe thead th {\n",
       "        text-align: right;\n",
       "    }\n",
       "</style>\n",
       "<table border=\"1\" class=\"dataframe\">\n",
       "  <thead>\n",
       "    <tr style=\"text-align: right;\">\n",
       "      <th></th>\n",
       "      <th>title</th>\n",
       "      <th>selftext</th>\n",
       "      <th>permalink</th>\n",
       "    </tr>\n",
       "  </thead>\n",
       "  <tbody>\n",
       "    <tr>\n",
       "      <th>56</th>\n",
       "      <td>Back on the posting train (again)!</td>\n",
       "      <td>After a SNAFU last week and the posting then subsequent deleting of my newest WIP, I finally got the first two chapters posted at 3:00 this morning (EST). It already has a few hits and kudos. I’m not expecting much in the way of traffic yet, cuz it’s only been seven hours since the thing’s been up and it’s Monday morning.\\n\\nI wasn’t planning on it being another longfic, but 3500 words in alre...</td>\n",
       "      <td>/r/FanFiction/comments/t8rydw/back_on_the_posting_train_again/</td>\n",
       "    </tr>\n",
       "    <tr>\n",
       "      <th>279</th>\n",
       "      <td>Which song should I use?</td>\n",
       "      <td>So, in my current WIP I will be [soon] writing a chapter where OG Spock gets exposed to a [previously unknown] plant toxin that will have highly hallucinogenic properties. I am going to have him be flying higher than the proverbial kite, completely uninhibited and enjoying every minute of it…it won’t have any other deleterious side effects other than resulting in a nasty-ass hangover. I am goi...</td>\n",
       "      <td>/r/FanFiction/comments/t7e3lf/which_song_should_i_use/</td>\n",
       "    </tr>\n",
       "    <tr>\n",
       "      <th>377</th>\n",
       "      <td>Which song should I use?</td>\n",
       "      <td>[removed]\\n\\n[View Poll](https://www.reddit.com/poll/t6sbqb)</td>\n",
       "      <td>/r/FanFiction/comments/t6sbqb/which_song_should_i_use/</td>\n",
       "    </tr>\n",
       "    <tr>\n",
       "      <th>395</th>\n",
       "      <td>Sickfic exchange!</td>\n",
       "      <td>I feel like this is a genre that doesn’t get enough attention. At least I haven’t seen an exchange for it since I joined.\\n\\nSo, let’s see ‘em! Short, long, inspired by personal experience, made up illnesses! Let’s go!\\n\\nThe usual requirements apply, if it’s NSFW, then mark it as such. And please try to review 2-3 other fics…I know by their very nature some of these can be long, try to stick ...</td>\n",
       "      <td>/r/FanFiction/comments/t6m19k/sickfic_exchange/</td>\n",
       "    </tr>\n",
       "    <tr>\n",
       "      <th>405</th>\n",
       "      <td>I am an eeeeeediot!!!!!</td>\n",
       "      <td>So, occasionally I sleep walk. Not often, but maybe a couple times a year. Welp, I did last night. And guess what I did? I deleted the WIP I had just posted yesterday afternoon!!!!!\\n\\nOh well. I’ll repost in a couple days, at least that’s all I did. (And I know that’s what I did cuz AO3 was still up on my phone when I got up.)</td>\n",
       "      <td>/r/FanFiction/comments/t6j9cn/i_am_an_eeeeeediot/</td>\n",
       "    </tr>\n",
       "  </tbody>\n",
       "</table>\n",
       "</div>"
      ],
      "text/plain": [
       "                                  title  \\\n",
       "56   Back on the posting train (again)!   \n",
       "279            Which song should I use?   \n",
       "377            Which song should I use?   \n",
       "395                   Sickfic exchange!   \n",
       "405             I am an eeeeeediot!!!!!   \n",
       "\n",
       "                                                                                                                                                                                                                                                                                                                                                                                                            selftext  \\\n",
       "56   After a SNAFU last week and the posting then subsequent deleting of my newest WIP, I finally got the first two chapters posted at 3:00 this morning (EST). It already has a few hits and kudos. I’m not expecting much in the way of traffic yet, cuz it’s only been seven hours since the thing’s been up and it’s Monday morning.\\n\\nI wasn’t planning on it being another longfic, but 3500 words in alre...   \n",
       "279  So, in my current WIP I will be [soon] writing a chapter where OG Spock gets exposed to a [previously unknown] plant toxin that will have highly hallucinogenic properties. I am going to have him be flying higher than the proverbial kite, completely uninhibited and enjoying every minute of it…it won’t have any other deleterious side effects other than resulting in a nasty-ass hangover. I am goi...   \n",
       "377                                                                                                                                                                                                                                                                                                                                                     [removed]\\n\\n[View Poll](https://www.reddit.com/poll/t6sbqb)   \n",
       "395  I feel like this is a genre that doesn’t get enough attention. At least I haven’t seen an exchange for it since I joined.\\n\\nSo, let’s see ‘em! Short, long, inspired by personal experience, made up illnesses! Let’s go!\\n\\nThe usual requirements apply, if it’s NSFW, then mark it as such. And please try to review 2-3 other fics…I know by their very nature some of these can be long, try to stick ...   \n",
       "405                                                                        So, occasionally I sleep walk. Not often, but maybe a couple times a year. Welp, I did last night. And guess what I did? I deleted the WIP I had just posted yesterday afternoon!!!!!\\n\\nOh well. I’ll repost in a couple days, at least that’s all I did. (And I know that’s what I did cuz AO3 was still up on my phone when I got up.)   \n",
       "\n",
       "                                                          permalink  \n",
       "56   /r/FanFiction/comments/t8rydw/back_on_the_posting_train_again/  \n",
       "279          /r/FanFiction/comments/t7e3lf/which_song_should_i_use/  \n",
       "377          /r/FanFiction/comments/t6sbqb/which_song_should_i_use/  \n",
       "395                 /r/FanFiction/comments/t6m19k/sickfic_exchange/  \n",
       "405               /r/FanFiction/comments/t6j9cn/i_am_an_eeeeeediot/  "
      ]
     },
     "execution_count": 37,
     "metadata": {},
     "output_type": "execute_result"
    }
   ],
   "source": [
    "# Display posts made by author 'IDICdreads'\n",
    "df_fil_sub0[df_fil_sub0['author'] == 'IDICdreads'][['title','selftext','permalink']].head(5)\n",
    "# Click on the ... bubble to see posts in detail"
   ]
  },
  {
   "cell_type": "code",
   "execution_count": 38,
   "id": "fd6a3fd3",
   "metadata": {
    "collapsed": true
   },
   "outputs": [
    {
     "data": {
      "text/html": [
       "<div>\n",
       "<style scoped>\n",
       "    .dataframe tbody tr th:only-of-type {\n",
       "        vertical-align: middle;\n",
       "    }\n",
       "\n",
       "    .dataframe tbody tr th {\n",
       "        vertical-align: top;\n",
       "    }\n",
       "\n",
       "    .dataframe thead th {\n",
       "        text-align: right;\n",
       "    }\n",
       "</style>\n",
       "<table border=\"1\" class=\"dataframe\">\n",
       "  <thead>\n",
       "    <tr style=\"text-align: right;\">\n",
       "      <th></th>\n",
       "      <th>title</th>\n",
       "      <th>selftext</th>\n",
       "      <th>permalink</th>\n",
       "    </tr>\n",
       "  </thead>\n",
       "  <tbody>\n",
       "    <tr>\n",
       "      <th>706</th>\n",
       "      <td>[Star Vs The Forces of Evil] Is this scene appropriate?</td>\n",
       "      <td>**[This post is best suited for those who have watched Star Vs The Forces of Evil and read my last post]**\\n\\nFirst off, I want to say THANK YOU to all the commenters on [my last post](https://www.reddit.com/r/FanFiction/comments/t37ptr/star_vs_the_forces_of_evil_is_my_premise/). \\n\\nThank you u/A_Cow_in_Space, u/jellydrizzle, u/W33B_N3M0, u/Rinpoo, and u/Trilobyte141 for believing in my premi...</td>\n",
       "      <td>/r/FanFiction/comments/t4bxfg/star_vs_the_forces_of_evil_is_this_scene/</td>\n",
       "    </tr>\n",
       "    <tr>\n",
       "      <th>749</th>\n",
       "      <td>[Star Vs The Forces of Evil] Is this scene innocent?</td>\n",
       "      <td>First off, I want to say THANK YOU to all the commenters on my last post (https://www.reddit.com/r/FanFiction/comments/t37ptr/star_vs_the_forces_of_evil_is_my_premise/). \\n\\nThank you u/A_Cow_in_Space, u/jellydrizzle, u/W33B_N3M0, u/Rinpoo, and u/Trilobyte141 for believing in my premise and giving me the confidence to continue it. I was really nervous that people (especially fans) would laugh ...</td>\n",
       "      <td>/r/FanFiction/comments/t40wan/star_vs_the_forces_of_evil_is_this_scene_innocent/</td>\n",
       "    </tr>\n",
       "    <tr>\n",
       "      <th>857</th>\n",
       "      <td>[Star Vs The Forces of Evil] Is my premise interesting? Am I hurting the character?</td>\n",
       "      <td>**[This post is best suited for those who have watched Star Vs The Forces of Evil]**\\n\\nJust as a quick recap, back in the episode \"Running With Scissors,\" 14-year-old Marco accepted Hekapoo's challenge to chase hundreds of her clones through various deminsions (work she herself said could take a whole lifetime) in order to blow out all their flames and earn back the deminsional scissors. He e...</td>\n",
       "      <td>/r/FanFiction/comments/t37ptr/star_vs_the_forces_of_evil_is_my_premise/</td>\n",
       "    </tr>\n",
       "    <tr>\n",
       "      <th>910</th>\n",
       "      <td>[Star Vs The Forces of Evil] I just want some advice on my Fic premise.</td>\n",
       "      <td>[removed]</td>\n",
       "      <td>/r/FanFiction/comments/t2sc6t/star_vs_the_forces_of_evil_i_just_want_some/</td>\n",
       "    </tr>\n",
       "    <tr>\n",
       "      <th>914</th>\n",
       "      <td>Can I get a beta reader?</td>\n",
       "      <td>TBH, I’m more looking for someone to review the premise to my Fic rather than the Fic itself.\\n\\nIt’s a Star Vs The Forces of Evil fanfic. I’ll post details if anyone’s interested.\\n\\nI would recommend anyone interested to have watched or be a fan of the show.</td>\n",
       "      <td>/r/FanFiction/comments/t2rgjz/can_i_get_a_beta_reader/</td>\n",
       "    </tr>\n",
       "  </tbody>\n",
       "</table>\n",
       "</div>"
      ],
      "text/plain": [
       "                                                                                   title  \\\n",
       "706                              [Star Vs The Forces of Evil] Is this scene appropriate?   \n",
       "749                                 [Star Vs The Forces of Evil] Is this scene innocent?   \n",
       "857  [Star Vs The Forces of Evil] Is my premise interesting? Am I hurting the character?   \n",
       "910              [Star Vs The Forces of Evil] I just want some advice on my Fic premise.   \n",
       "914                                                             Can I get a beta reader?   \n",
       "\n",
       "                                                                                                                                                                                                                                                                                                                                                                                                            selftext  \\\n",
       "706  **[This post is best suited for those who have watched Star Vs The Forces of Evil and read my last post]**\\n\\nFirst off, I want to say THANK YOU to all the commenters on [my last post](https://www.reddit.com/r/FanFiction/comments/t37ptr/star_vs_the_forces_of_evil_is_my_premise/). \\n\\nThank you u/A_Cow_in_Space, u/jellydrizzle, u/W33B_N3M0, u/Rinpoo, and u/Trilobyte141 for believing in my premi...   \n",
       "749  First off, I want to say THANK YOU to all the commenters on my last post (https://www.reddit.com/r/FanFiction/comments/t37ptr/star_vs_the_forces_of_evil_is_my_premise/). \\n\\nThank you u/A_Cow_in_Space, u/jellydrizzle, u/W33B_N3M0, u/Rinpoo, and u/Trilobyte141 for believing in my premise and giving me the confidence to continue it. I was really nervous that people (especially fans) would laugh ...   \n",
       "857  **[This post is best suited for those who have watched Star Vs The Forces of Evil]**\\n\\nJust as a quick recap, back in the episode \"Running With Scissors,\" 14-year-old Marco accepted Hekapoo's challenge to chase hundreds of her clones through various deminsions (work she herself said could take a whole lifetime) in order to blow out all their flames and earn back the deminsional scissors. He e...   \n",
       "910                                                                                                                                                                                                                                                                                                                                                                                                        [removed]   \n",
       "914                                                                                                                                             TBH, I’m more looking for someone to review the premise to my Fic rather than the Fic itself.\\n\\nIt’s a Star Vs The Forces of Evil fanfic. I’ll post details if anyone’s interested.\\n\\nI would recommend anyone interested to have watched or be a fan of the show.   \n",
       "\n",
       "                                                                            permalink  \n",
       "706           /r/FanFiction/comments/t4bxfg/star_vs_the_forces_of_evil_is_this_scene/  \n",
       "749  /r/FanFiction/comments/t40wan/star_vs_the_forces_of_evil_is_this_scene_innocent/  \n",
       "857           /r/FanFiction/comments/t37ptr/star_vs_the_forces_of_evil_is_my_premise/  \n",
       "910        /r/FanFiction/comments/t2sc6t/star_vs_the_forces_of_evil_i_just_want_some/  \n",
       "914                            /r/FanFiction/comments/t2rgjz/can_i_get_a_beta_reader/  "
      ]
     },
     "execution_count": 38,
     "metadata": {},
     "output_type": "execute_result"
    }
   ],
   "source": [
    "# Display posts made by author 'DragonBat362'\n",
    "df_fil_sub0[df_fil_sub0['author'] == 'DragonBat362'][['title','selftext','permalink']].head(5)\n",
    "# Click on the ... bubble to see posts in detail"
   ]
  },
  {
   "cell_type": "code",
   "execution_count": 39,
   "id": "2a68f63f",
   "metadata": {},
   "outputs": [
    {
     "data": {
      "text/plain": [
       "Amberd094         13\n",
       "ihavenonametho     4\n",
       "stormo314          4\n",
       "Name: author, dtype: int64"
      ]
     },
     "execution_count": 39,
     "metadata": {},
     "output_type": "execute_result"
    }
   ],
   "source": [
    "# Counts the number of unique posts made by each author and displays the top 3\n",
    "df_fil_sub1['author'].value_counts().head(3)"
   ]
  },
  {
   "cell_type": "code",
   "execution_count": 40,
   "id": "e52c1eae",
   "metadata": {
    "collapsed": true
   },
   "outputs": [
    {
     "data": {
      "text/html": [
       "<div>\n",
       "<style scoped>\n",
       "    .dataframe tbody tr th:only-of-type {\n",
       "        vertical-align: middle;\n",
       "    }\n",
       "\n",
       "    .dataframe tbody tr th {\n",
       "        vertical-align: top;\n",
       "    }\n",
       "\n",
       "    .dataframe thead th {\n",
       "        text-align: right;\n",
       "    }\n",
       "</style>\n",
       "<table border=\"1\" class=\"dataframe\">\n",
       "  <thead>\n",
       "    <tr style=\"text-align: right;\">\n",
       "      <th></th>\n",
       "      <th>title</th>\n",
       "      <th>selftext</th>\n",
       "      <th>permalink</th>\n",
       "    </tr>\n",
       "  </thead>\n",
       "  <tbody>\n",
       "    <tr>\n",
       "      <th>58</th>\n",
       "      <td>Could someone like me ever love herself</td>\n",
       "      <td>I’m 27, fat, and a little ugly. I have never been past first base and I carry my weight in my breasts and stomach. I’m near 190 at 5 foot 2. My grandma has shamed me for being single. I don't even know what career path to pick. I am thinking about just picking anything at this point even if I don't truly like it. Others my age see getting engaged or having a kid while I am dealing with an iden...</td>\n",
       "      <td>/r/LifeAdvice/comments/t7t1pm/could_someone_like_me_ever_love_herself/</td>\n",
       "    </tr>\n",
       "    <tr>\n",
       "      <th>135</th>\n",
       "      <td>How can I get over a relationship like this?</td>\n",
       "      <td>I dated this guy from Jan 2017 to August 2019. He used me as a taxi cab, was an alcoholic, made me feel ugly, and would flirt with other girls right in front of me. He also controlled me a bit. I'm 27 now and need to get over this so that I can find love since I hope to get married in the next decade. Thankfully I didn't have segs with this guy.</td>\n",
       "      <td>/r/LifeAdvice/comments/t4yc1l/how_can_i_get_over_a_relationship_like_this/</td>\n",
       "    </tr>\n",
       "    <tr>\n",
       "      <th>149</th>\n",
       "      <td>How are these phrases disrespectful</td>\n",
       "      <td>“I’m just telling you” “I’m just letting you know” or “ok”</td>\n",
       "      <td>/r/LifeAdvice/comments/t4gyax/how_are_these_phrases_disrespectful/</td>\n",
       "    </tr>\n",
       "    <tr>\n",
       "      <th>150</th>\n",
       "      <td>Is 27 too late to go to Radiology tech school?</td>\n",
       "      <td></td>\n",
       "      <td>/r/LifeAdvice/comments/t4foac/is_27_too_late_to_go_to_radiology_tech_school/</td>\n",
       "    </tr>\n",
       "    <tr>\n",
       "      <th>151</th>\n",
       "      <td>I am 27 and dont know what to do career wise. Should I just lick something random or what?</td>\n",
       "      <td>Other people my age are going into nursing, respiratory tech, teaching, etc. I thought about picking one of those even if it doesn't truly interest me because my 5-year goal is to get a carer started and to marry. I don't like being behind in life compared to others my age. I don't want to work retail a decade from now. Advice? Should I drop 70 pounds and join the air force?</td>\n",
       "      <td>/r/LifeAdvice/comments/t4evrh/i_am_27_and_dont_know_what_to_do_career_wise/</td>\n",
       "    </tr>\n",
       "  </tbody>\n",
       "</table>\n",
       "</div>"
      ],
      "text/plain": [
       "                                                                                          title  \\\n",
       "58                                                      Could someone like me ever love herself   \n",
       "135                                                How can I get over a relationship like this?   \n",
       "149                                                         How are these phrases disrespectful   \n",
       "150                                              Is 27 too late to go to Radiology tech school?   \n",
       "151  I am 27 and dont know what to do career wise. Should I just lick something random or what?   \n",
       "\n",
       "                                                                                                                                                                                                                                                                                                                                                                                                            selftext  \\\n",
       "58   I’m 27, fat, and a little ugly. I have never been past first base and I carry my weight in my breasts and stomach. I’m near 190 at 5 foot 2. My grandma has shamed me for being single. I don't even know what career path to pick. I am thinking about just picking anything at this point even if I don't truly like it. Others my age see getting engaged or having a kid while I am dealing with an iden...   \n",
       "135                                                      I dated this guy from Jan 2017 to August 2019. He used me as a taxi cab, was an alcoholic, made me feel ugly, and would flirt with other girls right in front of me. He also controlled me a bit. I'm 27 now and need to get over this so that I can find love since I hope to get married in the next decade. Thankfully I didn't have segs with this guy.   \n",
       "149                                                                                                                                                                                                                                                                                                                                                       “I’m just telling you” “I’m just letting you know” or “ok”   \n",
       "150                                                                                                                                                                                                                                                                                                                                                                                                                    \n",
       "151                        Other people my age are going into nursing, respiratory tech, teaching, etc. I thought about picking one of those even if it doesn't truly interest me because my 5-year goal is to get a carer started and to marry. I don't like being behind in life compared to others my age. I don't want to work retail a decade from now. Advice? Should I drop 70 pounds and join the air force?   \n",
       "\n",
       "                                                                        permalink  \n",
       "58         /r/LifeAdvice/comments/t7t1pm/could_someone_like_me_ever_love_herself/  \n",
       "135    /r/LifeAdvice/comments/t4yc1l/how_can_i_get_over_a_relationship_like_this/  \n",
       "149            /r/LifeAdvice/comments/t4gyax/how_are_these_phrases_disrespectful/  \n",
       "150  /r/LifeAdvice/comments/t4foac/is_27_too_late_to_go_to_radiology_tech_school/  \n",
       "151   /r/LifeAdvice/comments/t4evrh/i_am_27_and_dont_know_what_to_do_career_wise/  "
      ]
     },
     "execution_count": 40,
     "metadata": {},
     "output_type": "execute_result"
    }
   ],
   "source": [
    "# Display posts made by author 'Amberd094'\n",
    "df_fil_sub1[df_fil_sub1['author'] == 'Amberd094'][['title','selftext','permalink']].head(5)\n",
    "# Click on the ... bubble to see posts in detail"
   ]
  },
  {
   "cell_type": "code",
   "execution_count": 41,
   "id": "ba6cfae0",
   "metadata": {
    "collapsed": true
   },
   "outputs": [
    {
     "data": {
      "text/html": [
       "<div>\n",
       "<style scoped>\n",
       "    .dataframe tbody tr th:only-of-type {\n",
       "        vertical-align: middle;\n",
       "    }\n",
       "\n",
       "    .dataframe tbody tr th {\n",
       "        vertical-align: top;\n",
       "    }\n",
       "\n",
       "    .dataframe thead th {\n",
       "        text-align: right;\n",
       "    }\n",
       "</style>\n",
       "<table border=\"1\" class=\"dataframe\">\n",
       "  <thead>\n",
       "    <tr style=\"text-align: right;\">\n",
       "      <th></th>\n",
       "      <th>title</th>\n",
       "      <th>selftext</th>\n",
       "      <th>permalink</th>\n",
       "    </tr>\n",
       "  </thead>\n",
       "  <tbody>\n",
       "    <tr>\n",
       "      <th>418</th>\n",
       "      <td>What is confidence? How do I be confident?</td>\n",
       "      <td></td>\n",
       "      <td>/r/LifeAdvice/comments/su7ssa/what_is_confidence_how_do_i_be_confident/</td>\n",
       "    </tr>\n",
       "    <tr>\n",
       "      <th>419</th>\n",
       "      <td>How do I not become misanthropic?</td>\n",
       "      <td>I'm special needs. I have been relentlessly bullied and abused for almost my entire life. How do I stop feeling that people are absolute garbage who should be treated with extreme caution?</td>\n",
       "      <td>/r/LifeAdvice/comments/su6d91/how_do_i_not_become_misanthropic/</td>\n",
       "    </tr>\n",
       "    <tr>\n",
       "      <th>429</th>\n",
       "      <td>I'm a goal oriented person who likes self improvement. How can I be the hottest, sexiest man possible?</td>\n",
       "      <td>Not trying to be vain, it's just this might be a fun goal to work towards.</td>\n",
       "      <td>/r/LifeAdvice/comments/str29t/im_a_goal_oriented_person_who_likes_self/</td>\n",
       "    </tr>\n",
       "    <tr>\n",
       "      <th>550</th>\n",
       "      <td>Special needs people are hated and treated like boogymen. I'm special needs. How do I resolve the misanthrophic feelings inside me?</td>\n",
       "      <td>I was HEAVILY abused as a kid. Some of it was legitimately life threatening (one of my long time abusers was very anti social, and made no secret that he wanted me dead, and tried to make his fantasy a reality multiple times). It makes my blood boil beyond belief to see it normalized by society to hate special needs people. I don't think it's good for my mental health to have misanthropic feel...</td>\n",
       "      <td>/r/LifeAdvice/comments/spmhe4/special_needs_people_are_hated_and_treated_like/</td>\n",
       "    </tr>\n",
       "  </tbody>\n",
       "</table>\n",
       "</div>"
      ],
      "text/plain": [
       "                                                                                                                                   title  \\\n",
       "418                                                                                           What is confidence? How do I be confident?   \n",
       "419                                                                                                    How do I not become misanthropic?   \n",
       "429                               I'm a goal oriented person who likes self improvement. How can I be the hottest, sexiest man possible?   \n",
       "550  Special needs people are hated and treated like boogymen. I'm special needs. How do I resolve the misanthrophic feelings inside me?   \n",
       "\n",
       "                                                                                                                                                                                                                                                                                                                                                                                                            selftext  \\\n",
       "418                                                                                                                                                                                                                                                                                                                                                                                                                    \n",
       "419                                                                                                                                                                                                                     I'm special needs. I have been relentlessly bullied and abused for almost my entire life. How do I stop feeling that people are absolute garbage who should be treated with extreme caution?   \n",
       "429                                                                                                                                                                                                                                                                                                                                       Not trying to be vain, it's just this might be a fun goal to work towards.   \n",
       "550  I was HEAVILY abused as a kid. Some of it was legitimately life threatening (one of my long time abusers was very anti social, and made no secret that he wanted me dead, and tried to make his fantasy a reality multiple times). It makes my blood boil beyond belief to see it normalized by society to hate special needs people. I don't think it's good for my mental health to have misanthropic feel...   \n",
       "\n",
       "                                                                          permalink  \n",
       "418         /r/LifeAdvice/comments/su7ssa/what_is_confidence_how_do_i_be_confident/  \n",
       "419                 /r/LifeAdvice/comments/su6d91/how_do_i_not_become_misanthropic/  \n",
       "429         /r/LifeAdvice/comments/str29t/im_a_goal_oriented_person_who_likes_self/  \n",
       "550  /r/LifeAdvice/comments/spmhe4/special_needs_people_are_hated_and_treated_like/  "
      ]
     },
     "execution_count": 41,
     "metadata": {},
     "output_type": "execute_result"
    }
   ],
   "source": [
    "# Display posts made by author 'Milk_Man21'\n",
    "df_fil_sub1[df_fil_sub1['author'] == 'Milk_Man21'][['title','selftext','permalink']].head(5)\n",
    "# Click on the ... bubble to see posts in detail"
   ]
  },
  {
   "cell_type": "code",
   "execution_count": 42,
   "id": "8db59c33",
   "metadata": {
    "collapsed": true
   },
   "outputs": [
    {
     "data": {
      "text/html": [
       "<div>\n",
       "<style scoped>\n",
       "    .dataframe tbody tr th:only-of-type {\n",
       "        vertical-align: middle;\n",
       "    }\n",
       "\n",
       "    .dataframe tbody tr th {\n",
       "        vertical-align: top;\n",
       "    }\n",
       "\n",
       "    .dataframe thead th {\n",
       "        text-align: right;\n",
       "    }\n",
       "</style>\n",
       "<table border=\"1\" class=\"dataframe\">\n",
       "  <thead>\n",
       "    <tr style=\"text-align: right;\">\n",
       "      <th></th>\n",
       "      <th>title</th>\n",
       "      <th>selftext</th>\n",
       "      <th>permalink</th>\n",
       "    </tr>\n",
       "  </thead>\n",
       "  <tbody>\n",
       "    <tr>\n",
       "      <th>332</th>\n",
       "      <td>How to focus</td>\n",
       "      <td>Life has been backwards for me. I had a kid in college and dropped out then got married, now I am ready to do what I love in life. I have attempted school a few times online in the past few years and never succeed because I can't seem to focus on the task at hand. I get distracted ot can't make up mind that what I am studying is what I want to do. I want to be successful. How can I focus and m...</td>\n",
       "      <td>/r/LifeAdvice/comments/sxie0p/how_to_focus/</td>\n",
       "    </tr>\n",
       "    <tr>\n",
       "      <th>542</th>\n",
       "      <td>What job?</td>\n",
       "      <td>Hi. I have been doing odd jobs the past decade or so and I'm ready to start a career in something I enjoy. I don't have a degree. My passions are history, writing, and any kind of research I also like crime qnd law.. I thought about getting a certificate in paralegal studies as it seems like it's a lot of investigative work but I'm not a big people person either so I don't know how I would do ...</td>\n",
       "      <td>/r/LifeAdvice/comments/spzcpw/what_job/</td>\n",
       "    </tr>\n",
       "    <tr>\n",
       "      <th>934</th>\n",
       "      <td>Question with applying for a job</td>\n",
       "      <td>Hi, I found a job on Indeed I am really interested in, like it's my dream job. I applied for it via the company website but I found the supervisors contact information would it hurt to email her my resume and cover letter and express my interest? \\n\\nThanks</td>\n",
       "      <td>/r/LifeAdvice/comments/sbnf1n/question_with_applying_for_a_job/</td>\n",
       "    </tr>\n",
       "    <tr>\n",
       "      <th>973</th>\n",
       "      <td>Career advice</td>\n",
       "      <td>So I know no one can tell me what is best for me except for me. But here's my situation. I'm 30, dropped out of college after 3 years (I had a baby and left school to take on a full time job). 4 the past 8 years I have been working whatever job I get just to earn money to support my family. I've been depressed lately because everyone around me seems to be getting careers they enjoy a lot of th...</td>\n",
       "      <td>/r/LifeAdvice/comments/sabljn/career_advice/</td>\n",
       "    </tr>\n",
       "  </tbody>\n",
       "</table>\n",
       "</div>"
      ],
      "text/plain": [
       "                                title  \\\n",
       "332                      How to focus   \n",
       "542                         What job?   \n",
       "934  Question with applying for a job   \n",
       "973                     Career advice   \n",
       "\n",
       "                                                                                                                                                                                                                                                                                                                                                                                                            selftext  \\\n",
       "332  Life has been backwards for me. I had a kid in college and dropped out then got married, now I am ready to do what I love in life. I have attempted school a few times online in the past few years and never succeed because I can't seem to focus on the task at hand. I get distracted ot can't make up mind that what I am studying is what I want to do. I want to be successful. How can I focus and m...   \n",
       "542  Hi. I have been doing odd jobs the past decade or so and I'm ready to start a career in something I enjoy. I don't have a degree. My passions are history, writing, and any kind of research I also like crime qnd law.. I thought about getting a certificate in paralegal studies as it seems like it's a lot of investigative work but I'm not a big people person either so I don't know how I would do ...   \n",
       "934                                                                                                                                                Hi, I found a job on Indeed I am really interested in, like it's my dream job. I applied for it via the company website but I found the supervisors contact information would it hurt to email her my resume and cover letter and express my interest? \\n\\nThanks   \n",
       "973  So I know no one can tell me what is best for me except for me. But here's my situation. I'm 30, dropped out of college after 3 years (I had a baby and left school to take on a full time job). 4 the past 8 years I have been working whatever job I get just to earn money to support my family. I've been depressed lately because everyone around me seems to be getting careers they enjoy a lot of th...   \n",
       "\n",
       "                                                           permalink  \n",
       "332                      /r/LifeAdvice/comments/sxie0p/how_to_focus/  \n",
       "542                          /r/LifeAdvice/comments/spzcpw/what_job/  \n",
       "934  /r/LifeAdvice/comments/sbnf1n/question_with_applying_for_a_job/  \n",
       "973                     /r/LifeAdvice/comments/sabljn/career_advice/  "
      ]
     },
     "execution_count": 42,
     "metadata": {},
     "output_type": "execute_result"
    }
   ],
   "source": [
    "# Display posts made by author 'Worldly-Yellow-8193'\n",
    "df_fil_sub1[df_fil_sub1['author'] == 'Worldly-Yellow-8193'][['title','selftext','permalink']].head(5)\n",
    "# Click on the ... bubble to see posts in detail"
   ]
  },
  {
   "cell_type": "markdown",
   "id": "3e96f44d",
   "metadata": {},
   "source": [
    "#### Observations\n",
    "- From both our subreddits, it seems that the top author 'AutoModerator' for the FanFiction subreddit is a moderator as most of his/her/it's posts have largely similar 'selftexts' and 'titles'. Looking at posts on the Reddit.com, All of it's posts are moderated posts. Hence we will remove it's posts. There are no authors in LifeAdvice subreddit which posts in a manner similar to that of a moderator."
   ]
  },
  {
   "cell_type": "code",
   "execution_count": 43,
   "id": "b3a53e85",
   "metadata": {
    "scrolled": true
   },
   "outputs": [],
   "source": [
    "## Clearing moderated posts\n",
    "df_fil_sub0 = df_fil_sub0[df_fil_sub0['author'] != 'AutoModerator']\n",
    "master_df = master_df[master_df['author'] != 'AutoModerator']"
   ]
  },
  {
   "cell_type": "code",
   "execution_count": 44,
   "id": "b68f4e82",
   "metadata": {},
   "outputs": [
    {
     "data": {
      "text/plain": [
       "LifeAdvice    0.506863\n",
       "FanFiction    0.493137\n",
       "Name: subreddit, dtype: float64"
      ]
     },
     "execution_count": 44,
     "metadata": {},
     "output_type": "execute_result"
    }
   ],
   "source": [
    "master_df['subreddit'].value_counts(normalize = True)"
   ]
  },
  {
   "cell_type": "markdown",
   "id": "3c7c5b97",
   "metadata": {},
   "source": [
    "Looking at the normalized value counts again after removing moderated posts, our dataset still looks balanced\n",
    "with ~ 50.7% of posts belonging to the 'LifeAdvice' subreddit and ~49.3% of posts belonging to the 'FanFiction' subreddit."
   ]
  },
  {
   "cell_type": "markdown",
   "id": "2a7ca75f",
   "metadata": {},
   "source": [
    "### Comparison of word counts for posts between the subreddits\n"
   ]
  },
  {
   "cell_type": "markdown",
   "id": "b509b7a6",
   "metadata": {},
   "source": [
    "While we were unable to utilize differences between scores and number of comments to differentiate posts belonging to either subreddit, I felt that the word counts for posts might provide insights which differ between the two subreddits and would probably not be limited by the API's delay."
   ]
  },
  {
   "cell_type": "markdown",
   "id": "75fabde7",
   "metadata": {},
   "source": [
    "We will first combine both the selftexts and titles for both subreddits."
   ]
  },
  {
   "cell_type": "code",
   "execution_count": 45,
   "id": "980b9077",
   "metadata": {},
   "outputs": [],
   "source": [
    "# Combining the 'selftext' and 'title' columns to facilitate easier processing\n",
    "master_df['all_text'] = master_df['title'] + \" \" +  master_df['selftext']"
   ]
  },
  {
   "cell_type": "code",
   "execution_count": 46,
   "id": "4e06682b",
   "metadata": {},
   "outputs": [],
   "source": [
    "# Creating new columns for lengths of selftext'/'title' using lambda function to count the number of non-whitespace words\n",
    "master_df['wordcount_all_text'] = master_df['all_text'].apply(lambda x: len(re.findall('\\\\S+', x)))\n",
    " # Count the number of characters in the posts\n",
    "master_df['len_all_text'] = master_df['all_text'].str.len()\n",
    "\n",
    "# Updating filtered dataframes for each subreddit as variables to reflect new columns created\n",
    "df_fil_sub0 = master_df[master_df['subreddit_cat']==0] # DF showing posts from FanFiction subreddit\n",
    "df_fil_sub1 = master_df[master_df['subreddit_cat']==1] # DF showing posts from LifeAdvice subreddit"
   ]
  },
  {
   "cell_type": "code",
   "execution_count": 47,
   "id": "4c387c1e",
   "metadata": {},
   "outputs": [
    {
     "data": {
      "image/png": "[encoded data removed]",
      "text/plain": [
       "<Figure size 720x432 with 2 Axes>"
      ]
     },
     "metadata": {
      "needs_background": "light"
     },
     "output_type": "display_data"
    },
    {
     "data": {
      "image/png": "[encoded data removed]",
      "text/plain": [
       "<Figure size 720x432 with 2 Axes>"
      ]
     },
     "metadata": {
      "needs_background": "light"
     },
     "output_type": "display_data"
    }
   ],
   "source": [
    "# Histplots of posts length for both subreddits \n",
    "fig, ax = plt.subplots(1,2,figsize=(10,6),tight_layout=True,)\n",
    "\n",
    "plot1 = sns.histplot(df_fil_sub0,x=\"len_all_text\",bins= 30,ax = ax[0],binrange=[0, 4000])\n",
    "plot2 = sns.histplot(df_fil_sub1,x=\"len_all_text\",bins=30,ax = ax[1],binrange= [0, 4000]);\n",
    "\n",
    "plot1.axvline(x = df_fil_sub0.len_all_text.median(), color = 'orange', label = 'Median: 472.0')\n",
    "plot2.axvline(x = df_fil_sub1.len_all_text.median(), color = 'orange', label = 'Median: 995.0')\n",
    "plot1.legend(loc='upper right')\n",
    "plot2.legend(loc='upper right')\n",
    "                 \n",
    "ax[0].set_xlabel('Character Lengths of Posts', fontsize=14)\n",
    "ax[1].set_xlabel('Character Lengths of Posts', fontsize=14)\n",
    "\n",
    "ax[0].set_ylabel('No. of posts', fontsize=14)\n",
    "ax[1].set_ylabel('No. of posts', fontsize=14)\n",
    "\n",
    "ax[0].set_title('FanFiction', fontsize=16)\n",
    "ax[1].set_title('LifeAdvice', fontsize=16)\n",
    "\n",
    "fig.suptitle('Character Lengths of Posts in Each Subreddit', fontsize=20);\n",
    "\n",
    "# Histplots of wordcounts for both subreddits \n",
    "fig, ax = plt.subplots(1,2,figsize=(10,6),tight_layout=True,)\n",
    "\n",
    "plot3 = sns.histplot(df_fil_sub0,x=\"wordcount_all_text\",bins=30,ax = ax[0],binrange=[0, 1000])\n",
    "plot4 = sns.histplot(df_fil_sub1,x=\"wordcount_all_text\",bins=30,ax = ax[1],binrange= [0, 1000]);\n",
    "\n",
    "plot3.axvline(x = df_fil_sub0.wordcount_all_text.median(), color = 'orange',label='Median: 86.5')\n",
    "plot4.axvline(x = df_fil_sub1.wordcount_all_text.median(), color = 'orange',label='Median: 195.0')\n",
    "plot3.legend(loc='upper right')\n",
    "plot4.legend(loc='upper right')\n",
    "\n",
    "ax[0].set_xlabel('Word Count of posts', fontsize=14)\n",
    "ax[1].set_xlabel('Word Count of posts', fontsize=14)\n",
    "\n",
    "ax[0].set_ylabel('No. of posts', fontsize=14)\n",
    "ax[1].set_ylabel('No. of posts', fontsize=14)\n",
    "\n",
    "ax[0].set_title('FanFiction', fontsize=16)\n",
    "ax[1].set_title('LifeAdvice', fontsize=16)\n",
    "\n",
    "fig.suptitle('Word Counts of Posts in Each Subreddit', fontsize=20);"
   ]
  },
  {
   "cell_type": "markdown",
   "id": "50d25971",
   "metadata": {},
   "source": [
    "Based on the plot above, we can see that distributions across the board are right-skewed. While distributions of posts coming from LifeAdvice looking relatively more normal, we can still see a tail to the right for both of them.\n",
    "\n",
    "As the distribution for both subreddits are right-skewed, we will compare the medians of word count and character lengths for both subreddit. It seems that LiveAdvice subreddit tend to have higher word counts as well as character lengths with higher medians for both columns compared to FanFiction.\n",
    "\n",
    "Another thing of note is to see the differences in magnitudes, we have  magnitudes ranging in the hundreds and thousands. If we were considering to use K-nearest neighbors (KNN) with a Euclidean distance measure, we have to take note that [KNN is sensitive to magnitudes and hence these features should be scaled for them to be weighed equally](https://towardsdatascience.com/all-about-feature-scaling-bcc0ad75cb35)."
   ]
  },
  {
   "cell_type": "markdown",
   "id": "d539b759",
   "metadata": {},
   "source": [
    "### Text Columns"
   ]
  },
  {
   "cell_type": "markdown",
   "id": "240548c8",
   "metadata": {},
   "source": [
    "We will now explore the text columns. To do so, we will count-vectorize all_text to obtain the frequency of word occurence and see if the most frequent words differ between the two subreddits."
   ]
  },
  {
   "cell_type": "markdown",
   "id": "4a3a1ddb",
   "metadata": {},
   "source": [
    "#### (CountVectorizer) Generating Top 15 most occurring words in posts of both subreddits"
   ]
  },
  {
   "cell_type": "code",
   "execution_count": 48,
   "id": "e68b513b",
   "metadata": {
    "collapsed": true
   },
   "outputs": [
    {
     "data": {
      "text/plain": [
       "fic          775\n",
       "just         692\n",
       "like         678\n",
       "writing      456\n",
       "don          417\n",
       "story        406\n",
       "ve           374\n",
       "write        367\n",
       "fics         359\n",
       "know         357\n",
       "read         312\n",
       "really       306\n",
       "character    300\n",
       "want         297\n",
       "people       279\n",
       "dtype: int64"
      ]
     },
     "execution_count": 48,
     "metadata": {},
     "output_type": "execute_result"
    }
   ],
   "source": [
    "#Instantiate CountVectorizer\n",
    "cvec = CountVectorizer(max_features=1000, stop_words = 'english')\n",
    "# Fit and transform the all_text of the fanfic subreddit\n",
    "all_text_cvec = cvec.fit_transform(df_fil_sub0['all_text'])\n",
    "# Put the transformed all_text into a DataFrame\n",
    "all_text_df_sub0 = pd.DataFrame(all_text_cvec.todense(), columns = cvec.get_feature_names())\n",
    "# Show the top 15 words in posts of fanfic subreddit\n",
    "all_text_df_sub0.sum().sort_values(ascending=False)[:15]\n",
    "# Click the ... bubble below to see the top 15 words in occurence in posts of FanFiction"
   ]
  },
  {
   "cell_type": "code",
   "execution_count": 49,
   "id": "6b97d1fd",
   "metadata": {
    "collapsed": true
   },
   "outputs": [
    {
     "data": {
      "text/plain": [
       "just      1638\n",
       "like      1546\n",
       "don       1434\n",
       "feel      1161\n",
       "know      1124\n",
       "want      1113\n",
       "life      1075\n",
       "time      1029\n",
       "ve         995\n",
       "job        924\n",
       "amp        890\n",
       "x200b      852\n",
       "really     840\n",
       "work       765\n",
       "years      573\n",
       "dtype: int64"
      ]
     },
     "execution_count": 49,
     "metadata": {},
     "output_type": "execute_result"
    }
   ],
   "source": [
    "#Instantiate CountVectorizer\n",
    "cvec2 = CountVectorizer(max_features=1000, stop_words = 'english')\n",
    "# Fit and transform the all_text of the lifeadvice subreddit\n",
    "all_text_cvec2 = cvec2.fit_transform(df_fil_sub1['all_text'])\n",
    "# Put the transformed all_text into a DataFrame\n",
    "all_text_df_sub1 = pd.DataFrame(all_text_cvec2.todense(), columns = cvec2.get_feature_names())\n",
    "# Show the top 15 words in posts of lifeadvice subreddit\n",
    "all_text_df_sub1.sum().sort_values(ascending=False)[:15]\n",
    "# Click the ... bubble below to see the top 15 words in occurence from posts of Lifeadvice"
   ]
  },
  {
   "cell_type": "markdown",
   "id": "e8b91e78",
   "metadata": {},
   "source": [
    "#### (CountVectorizer) Generating Top 15 most occurring bigrams in posts of both subreddits"
   ]
  },
  {
   "cell_type": "code",
   "execution_count": 50,
   "id": "aaaf7e5d",
   "metadata": {
    "collapsed": true
   },
   "outputs": [
    {
     "data": {
      "text/plain": [
       "fic favorite      150\n",
       "favorite fic      149\n",
       "feel like          83\n",
       "don know           81\n",
       "https www          56\n",
       "don want           54\n",
       "reddit com         47\n",
       "www reddit         46\n",
       "harry potter       43\n",
       "want write         39\n",
       "main character     38\n",
       "ve seen            37\n",
       "amp x200b          37\n",
       "fanfiction net     32\n",
       "word count         27\n",
       "dtype: int64"
      ]
     },
     "execution_count": 50,
     "metadata": {},
     "output_type": "execute_result"
    }
   ],
   "source": [
    "#Instantiate CountVectorizer\n",
    "cvec3 = CountVectorizer(max_features=1000, stop_words = 'english',ngram_range=(2,2))\n",
    "# Fit and transform the all_text of the fanfic subreddit\n",
    "all_text_cvec3 = cvec3.fit_transform(df_fil_sub0['all_text'])\n",
    "# Put the transformed all_text into a DataFrame\n",
    "all_text_df2_sub0 = pd.DataFrame(all_text_cvec3.todense(), columns = cvec3.get_feature_names())\n",
    "# Show the top 15 bigrams in posts of fanfic subreddit\n",
    "all_text_df2_sub0.sum().sort_values(ascending=False)[:15]\n",
    "# Click the ... bubble below to see the top 15 bigrams in occurence from posts of FanFiction"
   ]
  },
  {
   "cell_type": "code",
   "execution_count": 51,
   "id": "4e716b2a",
   "metadata": {
    "collapsed": true
   },
   "outputs": [
    {
     "data": {
      "text/plain": [
       "amp x200b        852\n",
       "x200b amp        764\n",
       "feel like        500\n",
       "don know         498\n",
       "don want         232\n",
       "high school      113\n",
       "just want         99\n",
       "just don          97\n",
       "just feel         80\n",
       "years old         77\n",
       "feels like        72\n",
       "mental health     70\n",
       "don really        63\n",
       "year old          61\n",
       "don think         57\n",
       "dtype: int64"
      ]
     },
     "execution_count": 51,
     "metadata": {},
     "output_type": "execute_result"
    }
   ],
   "source": [
    "#Instantiate CountVectorizer\n",
    "cvec4 = CountVectorizer(max_features=1000, stop_words = 'english',ngram_range=(2,2))\n",
    "# Fit and transform the all_text of the fanfic subreddit\n",
    "all_text_cvec4 = cvec4.fit_transform(df_fil_sub1['all_text'])\n",
    "# Put the transformed all_text into a DataFrame\n",
    "all_text_df2_sub1 = pd.DataFrame(all_text_cvec4.todense(), columns = cvec4.get_feature_names())\n",
    "# Show the top 15 bigrams in posts of fanfic subreddit\n",
    "all_text_df2_sub1.sum().sort_values(ascending=False)[:15]\n",
    "# Click the ... bubble below to see the top 15 bigrams in occurence from posts of Lifeadvice"
   ]
  },
  {
   "cell_type": "code",
   "execution_count": 52,
   "id": "862c091b",
   "metadata": {},
   "outputs": [
    {
     "data": {
      "image/png": "[encoded data removed]",
      "text/plain": [
       "<Figure size 1080x864 with 4 Axes>"
      ]
     },
     "metadata": {
      "needs_background": "light"
     },
     "output_type": "display_data"
    }
   ],
   "source": [
    "# Instantiate figure and subplots to vizualize the top 15 words\n",
    "fig, ax = plt.subplots(nrows=2, ncols=2, figsize=(15,12), sharey=False)\n",
    "ax = ax.flatten()\n",
    "\n",
    "# Bar chart for frequent words in each subreddit\n",
    "all_text_df_sub0.sum().sort_values(ascending=False)[:15].plot(kind='bar',ax=ax[0]);\n",
    "ax[0].title.set_text('Top 15 most frequent words in posts from FanFiction')\n",
    "ax[0].set_xlabel('Words')\n",
    "ax[0].set_ylabel('Count')\n",
    "\n",
    "all_text_df_sub1.sum().sort_values(ascending=False)[:15].plot(kind='bar',ax=ax[1]);\n",
    "ax[1].title.set_text('Top 15 most frequent words in posts from LifeAdvice')\n",
    "ax[1].set_xlabel('Words')\n",
    "ax[1].set_ylabel('Count');\n",
    "\n",
    "# Bar chart for frequent bigrams in each subreddit\n",
    "all_text_df2_sub0.sum().sort_values(ascending=False)[:15].plot(kind='bar',ax=ax[2]);\n",
    "ax[2].title.set_text('Top 15 most frequent bigrams in posts from FanFiction')\n",
    "ax[2].set_xlabel('Words')\n",
    "ax[2].set_ylabel('Count')\n",
    "\n",
    "# Bar chart for frequent words in each subreddit\n",
    "all_text_df2_sub1.sum().sort_values(ascending=False)[:15].plot(kind='bar',ax=ax[3]);\n",
    "ax[3].title.set_text('Top 15 most frequent bigrams in posts from LifeAdvice')\n",
    "ax[3].set_xlabel('Words')\n",
    "ax[3].set_ylabel('Count');\n",
    "\n",
    "# Allow figure to adjust spacing\n",
    "fig.tight_layout()"
   ]
  },
  {
   "cell_type": "markdown",
   "id": "9c064579",
   "metadata": {},
   "source": [
    "The most common words ```just```,```like```,```don```,```really``` and ```know``` appear in both subreddits, there are also differentiating words which appear in one but not the other:\n",
    "- FanFiction:   ```Writing```, ```Character```, ```Story```\n",
    "- LifeAdvice:   ```Job```, ```Work```, ```Time```"
   ]
  },
  {
   "cell_type": "markdown",
   "id": "773996a1",
   "metadata": {},
   "source": [
    "Bigrams were also similar across subreddits, with ```feel like```, ```don know``` and ```don want``` appearing in both subreddits. There were also differentiating bigrams.\n",
    "\n",
    "- FanFiction:   ```harry potter```, ```main character ```, ```word count```\n",
    "- LifeAdvice:   ```mental health```, ```high school```, ```year old```"
   ]
  },
  {
   "cell_type": "markdown",
   "id": "dba803fd",
   "metadata": {},
   "source": [
    "Additionally, we also see that there is an imbalance of the most frequent words, we might want to employ the TfidfVectorizer to help us reduce the disparity between the words."
   ]
  },
  {
   "cell_type": "markdown",
   "id": "ef8e1afa",
   "metadata": {},
   "source": [
    "#### (TfidfVectorizer) Generating Top 15 most occurring words in posts of both subreddits"
   ]
  },
  {
   "cell_type": "code",
   "execution_count": 53,
   "id": "88690520",
   "metadata": {
    "collapsed": true
   },
   "outputs": [
    {
     "data": {
      "text/plain": [
       "fic           47.204398\n",
       "just          41.195640\n",
       "like          40.320955\n",
       "writing       33.828305\n",
       "fics          32.209719\n",
       "write         31.010685\n",
       "story         30.210750\n",
       "don           29.048498\n",
       "ve            28.206974\n",
       "know          27.715660\n",
       "read          25.501067\n",
       "fanfiction    24.929133\n",
       "character     24.887021\n",
       "fanfic        24.835891\n",
       "want          24.044213\n",
       "dtype: float64"
      ]
     },
     "execution_count": 53,
     "metadata": {},
     "output_type": "execute_result"
    }
   ],
   "source": [
    "# Instantiate TfidfVectorizer\n",
    "tvec = TfidfVectorizer(max_features=1000, stop_words = 'english')\n",
    "# Fit and transform the all_text of the fanfic subreddit\n",
    "all_text_tvec = tvec.fit_transform(df_fil_sub0['all_text'])\n",
    "# Put the transformed all_text into a DataFrame\n",
    "all_text_df_sub0 = pd.DataFrame(all_text_tvec.todense(), columns = tvec.get_feature_names())\n",
    "# Show the top 15 words in posts of fanfic subreddit\n",
    "all_text_df_sub0.sum().sort_values(ascending=False)[:15]\n",
    "# Click the ... bubble below to see the top 15 words in occurence in posts of FanFiction"
   ]
  },
  {
   "cell_type": "code",
   "execution_count": 54,
   "id": "6da2fbda",
   "metadata": {
    "collapsed": true
   },
   "outputs": [
    {
     "data": {
      "text/plain": [
       "don       59.075744\n",
       "just      58.712807\n",
       "like      56.602402\n",
       "feel      49.972103\n",
       "life      49.182533\n",
       "know      47.773110\n",
       "want      46.354274\n",
       "job       46.248634\n",
       "ve        43.868853\n",
       "time      40.274517\n",
       "really    37.273588\n",
       "work      36.878367\n",
       "people    30.829009\n",
       "school    30.275801\n",
       "help      29.985028\n",
       "dtype: float64"
      ]
     },
     "execution_count": 54,
     "metadata": {},
     "output_type": "execute_result"
    }
   ],
   "source": [
    "# Instantiate TfidfVectorizer\n",
    "tvec2 = TfidfVectorizer(max_features=1000, stop_words = 'english')\n",
    "# Fit and transform the all_text of the lifeadvice subreddit\n",
    "all_text_tvec2 = tvec2.fit_transform(df_fil_sub1['all_text'])\n",
    "# Put the transformed all_text into a DataFrame\n",
    "all_text_df_sub1 = pd.DataFrame(all_text_tvec2.todense(), columns = tvec2.get_feature_names())\n",
    "# Show the top 15 words in posts of lifeadvice subreddit\n",
    "all_text_df_sub1.sum().sort_values(ascending=False)[:15]\n",
    "# Click the ... bubble below to see the top 15 words in occurence from posts of Lifeadvice"
   ]
  },
  {
   "cell_type": "markdown",
   "id": "1a857308",
   "metadata": {},
   "source": [
    "#### (TfidfVectorizer) Generating Top 15 most occurring bigrams in posts of both subreddits"
   ]
  },
  {
   "cell_type": "code",
   "execution_count": 55,
   "id": "63cecdb9",
   "metadata": {
    "collapsed": true
   },
   "outputs": [
    {
     "data": {
      "text/plain": [
       "don know          19.421663\n",
       "feel like         18.382225\n",
       "ve seen           14.633968\n",
       "don want          13.928469\n",
       "fanfiction net    13.004469\n",
       "main character    12.158173\n",
       "https www         11.487617\n",
       "want write        10.547810\n",
       "reddit com        10.136716\n",
       "www reddit         9.899619\n",
       "harry potter       9.829754\n",
       "amp x200b          9.013649\n",
       "fan fiction        8.291605\n",
       "view poll          8.250173\n",
       "com poll           8.250173\n",
       "dtype: float64"
      ]
     },
     "execution_count": 55,
     "metadata": {},
     "output_type": "execute_result"
    }
   ],
   "source": [
    "# Instantiate TfidfVectorizer\n",
    "tvec3 = TfidfVectorizer(max_features=1000, stop_words = 'english', ngram_range=(2,2))\n",
    "# Fit and transform the all_text of the lifeadvice subreddit\n",
    "all_text_tvec3 = tvec3.fit_transform(df_fil_sub0['all_text'])\n",
    "# Put the transformed all_text into a DataFrame\n",
    "all_text_df2_sub0 = pd.DataFrame(all_text_tvec3.todense(), columns = tvec3.get_feature_names())\n",
    "# Show the top 15 words in posts of lifeadvice subreddit\n",
    "all_text_df2_sub0.sum().sort_values(ascending=False)[:15]\n",
    "# Click the ... bubble below to see the top 15 words in occurence from posts of Lifeadvice"
   ]
  },
  {
   "cell_type": "code",
   "execution_count": 56,
   "id": "b6e88439",
   "metadata": {
    "collapsed": true
   },
   "outputs": [
    {
     "data": {
      "text/plain": [
       "don know         56.920038\n",
       "feel like        55.260945\n",
       "don want         31.813806\n",
       "high school      20.995906\n",
       "just want        17.491331\n",
       "just don         15.900555\n",
       "need help        15.294914\n",
       "years old        14.916484\n",
       "amp x200b        14.910489\n",
       "need advice      13.344463\n",
       "feels like       13.000425\n",
       "just feel        12.102670\n",
       "year old         11.960600\n",
       "mental health    11.727282\n",
       "don really       11.573980\n",
       "dtype: float64"
      ]
     },
     "execution_count": 56,
     "metadata": {},
     "output_type": "execute_result"
    }
   ],
   "source": [
    "# Instantiate TfidfVectorizer\n",
    "tvec4 = TfidfVectorizer(max_features=1000, stop_words = 'english', ngram_range=(2,2))\n",
    "# Fit and transform the all_text of the lifeadvice subreddit\n",
    "all_text_tvec4 = tvec4.fit_transform(df_fil_sub1['all_text'])\n",
    "# Put the transformed all_text into a DataFrame\n",
    "all_text_df2_sub1 = pd.DataFrame(all_text_tvec4.todense(), columns = tvec4.get_feature_names())\n",
    "# Show the top 15 words in posts of lifeadvice subreddit\n",
    "all_text_df2_sub1.sum().sort_values(ascending=False)[:15]\n",
    "# Click the ... bubble below to see the top 15 words in occurence from posts of Lifeadvice"
   ]
  },
  {
   "cell_type": "code",
   "execution_count": 57,
   "id": "2391addb",
   "metadata": {},
   "outputs": [
    {
     "data": {
      "image/png": "[encoded data removed]",
      "text/plain": [
       "<Figure size 1080x864 with 4 Axes>"
      ]
     },
     "metadata": {
      "needs_background": "light"
     },
     "output_type": "display_data"
    }
   ],
   "source": [
    "# Instantiate figure and subplots to vizualize the top 15 words\n",
    "fig, ax = plt.subplots(nrows=2, ncols=2, figsize=(15,12), sharey=False)\n",
    "ax = ax.flatten()\n",
    "\n",
    "# Bar chart for frequent words in each subreddit\n",
    "all_text_df_sub0.sum().sort_values(ascending=False)[:15].plot(kind='bar',ax=ax[0]);\n",
    "ax[0].title.set_text('Top 15 most frequent words in posts from FanFiction')\n",
    "ax[0].set_xlabel('Words')\n",
    "ax[0].set_ylabel('Count')\n",
    "\n",
    "all_text_df_sub1.sum().sort_values(ascending=False)[:15].plot(kind='bar',ax=ax[1]);\n",
    "ax[1].title.set_text('Top 15 most frequent words in posts from LifeAdvice')\n",
    "ax[1].set_xlabel('Words')\n",
    "ax[1].set_ylabel('Count');\n",
    "\n",
    "# Bar chart for frequent bigrams in each subreddit\n",
    "all_text_df2_sub0.sum().sort_values(ascending=False)[:15].plot(kind='bar',ax=ax[2]);\n",
    "ax[2].title.set_text('Top 15 most frequent bigrams in posts from FanFiction')\n",
    "ax[2].set_xlabel('Words')\n",
    "ax[2].set_ylabel('Count')\n",
    "\n",
    "# Bar chart for frequent words in each subreddit\n",
    "all_text_df2_sub1.sum().sort_values(ascending=False)[:15].plot(kind='bar',ax=ax[3]);\n",
    "ax[3].title.set_text('Top 15 most frequent bigrams in posts from LifeAdvice')\n",
    "ax[3].set_xlabel('Words')\n",
    "ax[3].set_ylabel('Count');\n",
    "\n",
    "# Allow figure to adjust spacing\n",
    "fig.tight_layout()"
   ]
  },
  {
   "cell_type": "markdown",
   "id": "a27d54ca",
   "metadata": {},
   "source": [
    "With the TfidfVectorizer, we managed to 'shrink' the range of values of our y-axis, from approximately 800,1600,140,800 to approximately 50,60,20,50 respectively. We managed to reduce the disparity from across hundreds and thousands to just tens."
   ]
  },
  {
   "cell_type": "markdown",
   "id": "92f83b27",
   "metadata": {},
   "source": [
    "We also notice some words which we should include in the stop_words list on top of the default stop words, these are unicode texts (```amp```, ```x200b```) and words like ```reddit```, ```www```, ```https``` and ```com``` which related to websites and words that directly relate to each subreddit like ```fan```, ```fiction```,```fic```,```life```,```advice```, etc."
   ]
  },
  {
   "cell_type": "markdown",
   "id": "f3a2fecb",
   "metadata": {},
   "source": [
    "### Exporting dataframe into notebook"
   ]
  },
  {
   "cell_type": "code",
   "execution_count": 63,
   "id": "a21877c6",
   "metadata": {},
   "outputs": [],
   "source": [
    "master_df.to_csv('../datasets/master.csv', index = False)"
   ]
  },
  {
   "cell_type": "code",
   "execution_count": 65,
   "id": "cecab254",
   "metadata": {},
   "outputs": [
    {
     "data": {
      "text/plain": [
       "Index(['selftext', 'title', 'id', 'subreddit', 'author', 'score',\n",
       "       'upvote_ratio', 'total_awards_received', 'num_comments', 'permalink',\n",
       "       'created_utc', 'subreddit_cat', 'timestamp', 'day_posted',\n",
       "       'time_posted', 'month_posted', 'weekday_posted', 'hour_posted',\n",
       "       'all_text', 'wordcount_all_text', 'len_all_text'],\n",
       "      dtype='object')"
      ]
     },
     "execution_count": 65,
     "metadata": {},
     "output_type": "execute_result"
    }
   ],
   "source": [
    "master_df.columns"
   ]
  },
  {
   "cell_type": "markdown",
   "id": "d978f939",
   "metadata": {},
   "source": [
    "--- End of Notebook ---"
   ]
  },
  {
   "cell_type": "markdown",
   "id": "7157532f",
   "metadata": {},
   "source": [
    "---\n"
   ]
  }
 ],
 "metadata": {
  "kernelspec": {
   "display_name": "Python 3",
   "language": "python",
   "name": "python3"
  },
  "language_info": {
   "codemirror_mode": {
    "name": "ipython",
    "version": 3
   },
   "file_extension": ".py",
   "mimetype": "text/x-python",
   "name": "python",
   "nbconvert_exporter": "python",
   "pygments_lexer": "ipython3",
   "version": "3.8.8"
  }
 },
 "nbformat": 4,
 "nbformat_minor": 5
}
